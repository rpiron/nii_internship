{
 "cells": [
  {
   "cell_type": "code",
   "execution_count": null,
   "metadata": {},
   "outputs": [],
   "source": [
    "import qutip as qt\n",
    "import numpy as np\n",
    "import matplotlib.pyplot as plt\n",
    "from qutip.ipynbtools import version_table\n",
    "from tqdm.notebook import tqdm\n",
    "\n",
    "resol = 200\n",
    "pi = np.pi\n",
    "version_table()"
   ]
  },
  {
   "cell_type": "code",
   "execution_count": null,
   "metadata": {},
   "outputs": [],
   "source": [
    "#space discretization\n",
    "L = 6*pi\n",
    "N = 64 #number of sites on the lattice\n",
    "delta_L = L/N\n",
    "position_lattice_list = np.linspace(-L/2, L/2, N)\n",
    "\n",
    "#photon field\n",
    "n_modes = 50 #UV cut-off\n",
    "omega_tab = np.array([2*pi*n/L for n in range(n_modes)]) #tab of frequencies (with engough points to get omega_0)\n",
    "k_tab = np.copy(omega_tab)\n",
    "\n",
    "#Jaynes-Cummings parameter g_0 and number of atoms\n",
    "g_0 = 2*1j\n",
    "n_A = 1\n",
    "\n",
    "#fix the energies and the initial wave packet\n",
    "omega_0 = 13\n",
    "omega_A = 0.5\n",
    "bandwith = 2*pi*np.abs(g_0)**2*omega_A\n",
    "sigma = L/16\n",
    "\n",
    "print(\"Bandwith: \", bandwith)\n",
    "print(\"Omega ~ \", 1/sigma)\n",
    "\n",
    "#tab with the coupling parameters\n",
    "use_WW_approx = False\n",
    "g_tab = np.zeros((n_modes, n_A), dtype=complex)\n",
    "for i in range(n_modes):\n",
    "    for j in range(n_A):\n",
    "        if use_WW_approx:\n",
    "            g_tab[i, j] = g_0*np.sqrt(omega_A)\n",
    "        else:\n",
    "            g_tab[i, j] = g_0*np.sqrt(omega_tab[i]) #in my case, g is independant of the atom index\n",
    "\n",
    "\n",
    "#dimension of the subspace restricted to 2 photons\n",
    "dim_subspace = n_modes * (2*n_modes + 1) + 2*n_modes*n_A + n_A*(n_A-1)//2\n",
    "print(\"Max momentum: \", k_tab[-1])\n",
    "print(\"Dimension of the subspace: \", dim_subspace)"
   ]
  },
  {
   "cell_type": "markdown",
   "metadata": {},
   "source": [
    "Evolution in the interaction picture"
   ]
  },
  {
   "cell_type": "code",
   "execution_count": null,
   "metadata": {},
   "outputs": [],
   "source": [
    "def runge_kutta_scheme(H, init_state, times, progress_bar=True):\n",
    "    \"\"\"\n",
    "    Runge-Kutta scheme for the time evolution of a quantum state\n",
    "\n",
    "    ---Parameters---\n",
    "    H : function\n",
    "        H(t) return the Hamiltonian (qObj) at time t\n",
    "    init_state : qObj\n",
    "        initial state\n",
    "    times : array\n",
    "        array of times\n",
    "\n",
    "    ---Returns---\n",
    "    state_list : list\n",
    "        list of states at each time\n",
    "    \"\"\"\n",
    "\n",
    "    state_list = [init_state]\n",
    "    dt = times[1] - times[0]\n",
    "\n",
    "    for i in tqdm(range(1, len(times)), disable=not progress_bar):\n",
    "\n",
    "        t = times[i]\n",
    "        H_0 = H(t)\n",
    "        H_1 = H(t + dt/2)\n",
    "        H_2 = H(t + dt)\n",
    "\n",
    "        k1 = -1j*dt*H_0*state_list[-1]\n",
    "        k2 = -1j*dt*H_1*(state_list[-1] + k1/2)\n",
    "        k3 = -1j*dt*H_1*(state_list[-1] + k2/2)\n",
    "        k4 = -1j*dt*H_2*(state_list[-1] + k3)\n",
    "\n",
    "        new_state = state_list[-1] + (k1 + 2*k2 + 2*k3 + k4)/6\n",
    "        #enforce normalization\n",
    "        new_state = new_state.unit()\n",
    "        state_list.append(new_state)\n",
    "       \n",
    "    return state_list"
   ]
  },
  {
   "cell_type": "markdown",
   "metadata": {},
   "source": [
    "<h1> Definition of the Hamiltonian </h1>"
   ]
  },
  {
   "cell_type": "markdown",
   "metadata": {},
   "source": [
    "The Hamiltonian is defined by:\n",
    " \n",
    "$$ H = \\sum_{k,j} \\left\\{g(k,j) e^{i(\\omega_k - \\omega_A)t} (a_k^{\\dagger} + b_k^{\\dagger}) \\sigma_j^- + g(k,j)^* e^{-i(\\omega_k - \\omega_A)t} (a_k + b_k) \\sigma_j^+ \\right\\} $$\n",
    "\n",
    "The operator $a$ labels the horizontal modes and $b$ the orthogonal modes. Under my hypothesis, $g(k,j) = i g$ for all $k, j$. Let me define this Hamiltonian\n",
    "\n",
    "[TO BE CHECKED]"
   ]
  },
  {
   "cell_type": "code",
   "execution_count": null,
   "metadata": {},
   "outputs": [],
   "source": [
    "def H(t):\n",
    "    H_matrix = np.zeros((dim_subspace, dim_subspace), dtype=complex)\n",
    "\n",
    "    ## Off diagonal elements\n",
    "        \n",
    "    #|2,0,0> <-> |1,0,1>\n",
    "    dummy_index_0 = 0\n",
    "    for i in range(n_modes):\n",
    "        for j in range(i, n_modes):\n",
    "            dummy_index_1 = n_modes*(2*n_modes + 1)\n",
    "            for k in range(n_modes):\n",
    "                for l in range(n_A):\n",
    "                    if k == i:\n",
    "                        if i == j:\n",
    "                            H_matrix[dummy_index_1, dummy_index_0] = np.sqrt(2)*np.conjugate(g_tab[j,l])* np.exp(-1j*(omega_tab[j] - omega_A)*t)\n",
    "                            H_matrix[dummy_index_0, dummy_index_1] = np.conjugate(H_matrix[dummy_index_1, dummy_index_0])\n",
    "                        else:\n",
    "                            H_matrix[dummy_index_1, dummy_index_0] = np.sqrt(2)*np.conjugate(g_tab[j,l])* np.exp(-1j*(omega_tab[j] - omega_A)*t)\n",
    "                            H_matrix[dummy_index_0, dummy_index_1] = np.conjugate(H_matrix[dummy_index_1, dummy_index_0])\n",
    "                    if k == j:\n",
    "                        if i == j:\n",
    "                            H_matrix[dummy_index_1, dummy_index_0] = np.sqrt(2)*np.conjugate(g_tab[i,l])* np.exp(-1j*(omega_tab[i] - omega_A)*t)\n",
    "                            H_matrix[dummy_index_0, dummy_index_1] = np.conjugate(H_matrix[dummy_index_1, dummy_index_0])\n",
    "                        else:\n",
    "                            H_matrix[dummy_index_1, dummy_index_0] = np.sqrt(2)*np.conjugate(g_tab[i,l])* np.exp(-1j*(omega_tab[i] - omega_A)*t)\n",
    "                            H_matrix[dummy_index_0, dummy_index_1] = np.conjugate(H_matrix[dummy_index_1, dummy_index_0])\n",
    "                    dummy_index_1 += 1\n",
    "            dummy_index_0 += 1\n",
    "\n",
    "    #|0,2,0> <-> |0,1,1>\n",
    "    dummy_index_0 = n_modes*(n_modes + 1)//2\n",
    "    for i in range(n_modes):\n",
    "        for j in range(i, n_modes):\n",
    "            dummy_index_1 = n_modes*(2*n_modes + 1) + n_modes*n_A\n",
    "            for k in range(n_modes):\n",
    "                for l in range(n_A):\n",
    "                    if k == i:\n",
    "                        if i == j:\n",
    "                            H_matrix[dummy_index_1, dummy_index_0] = np.sqrt(2)*np.conjugate(g_tab[j,l])* np.exp(-1j*(omega_tab[j] - omega_A)*t)\n",
    "                            H_matrix[dummy_index_0, dummy_index_1] = np.conjugate(H_matrix[dummy_index_1, dummy_index_0])\n",
    "                        else:\n",
    "                            H_matrix[dummy_index_1, dummy_index_0] = np.sqrt(2)*np.conjugate(g_tab[j,l])* np.exp(-1j*(omega_tab[j] - omega_A)*t)\n",
    "                            H_matrix[dummy_index_0, dummy_index_1] = np.conjugate(H_matrix[dummy_index_1, dummy_index_0])\n",
    "                    if k == j:\n",
    "                        if i == j:\n",
    "                            H_matrix[dummy_index_1, dummy_index_0] = np.sqrt(2)*np.conjugate(g_tab[i,l])* np.exp(-1j*(omega_tab[i] - omega_A)*t)\n",
    "                            H_matrix[dummy_index_0, dummy_index_1] = np.conjugate(H_matrix[dummy_index_1, dummy_index_0])\n",
    "                        else:\n",
    "                            H_matrix[dummy_index_1, dummy_index_0] = np.sqrt(2)*np.conjugate(g_tab[i,l])* np.exp(-1j*(omega_tab[i] - omega_A)*t)\n",
    "                            H_matrix[dummy_index_0, dummy_index_1] = np.conjugate(H_matrix[dummy_index_1, dummy_index_0])\n",
    "                    dummy_index_1 += 1\n",
    "            dummy_index_0 += 1\n",
    "\n",
    "    #|1,1,0> <-> |1,0,1>\n",
    "    dummy_index_0 = n_modes*(n_modes + 1)\n",
    "    for i in range(n_modes):\n",
    "       for j in range(n_modes):\n",
    "            dummy_index_1 = n_modes*(2*n_modes + 1) \n",
    "            for k in range(n_modes):\n",
    "                for l in range(n_A):\n",
    "                    if k == i:\n",
    "                        H_matrix[dummy_index_1, dummy_index_0] = np.conjugate(g_tab[j,l]) * np.exp(-1j*(omega_tab[j] - omega_A)*t)\n",
    "                        H_matrix[dummy_index_0, dummy_index_1] = np.conjugate(H_matrix[dummy_index_1, dummy_index_0])\n",
    "                    if k == j:\n",
    "                        H_matrix[dummy_index_1, dummy_index_0] = np.conjugate(g_tab[i,l]) * np.exp(-1j*(omega_tab[i] - omega_A)*t)\n",
    "                        H_matrix[dummy_index_0, dummy_index_1] = np.conjugate(H_matrix[dummy_index_1, dummy_index_0])\n",
    "                    \n",
    "                    dummy_index_1 += 1\n",
    "            dummy_index_0 += 1\n",
    "    \n",
    "    #|1,1,0> <-> |0,1,1>\n",
    "    dummy_index_0 = n_modes*(n_modes + 1)\n",
    "    for i in range(n_modes):\n",
    "       for j in range(n_modes):\n",
    "            dummy_index_1 = n_modes*(2*n_modes + 1) + n_modes*n_A\n",
    "            for k in range(n_modes):\n",
    "                for l in range(n_A):\n",
    "                    if k == i:\n",
    "                        H_matrix[dummy_index_1, dummy_index_0] = np.conjugate(g_tab[j,l]) * np.exp(-1j*(omega_tab[j] - omega_A)*t)\n",
    "                        H_matrix[dummy_index_0, dummy_index_1] = np.conjugate(H_matrix[dummy_index_1, dummy_index_0])\n",
    "                    if k == j:\n",
    "                        H_matrix[dummy_index_1, dummy_index_0] = np.conjugate(g_tab[i,l]) * np.exp(-1j*(omega_tab[i] - omega_A)*t)\n",
    "                        H_matrix[dummy_index_0, dummy_index_1] = np.conjugate(H_matrix[dummy_index_1, dummy_index_0])\n",
    "                    \n",
    "                    dummy_index_1 += 1\n",
    "            dummy_index_0 += 1\n",
    "\n",
    "\n",
    "    if n_A > 1:\n",
    "        #|1,0,1> <-> |0,0,2>\n",
    "        dummy_index_0 = n_modes*(2*n_modes + 1)\n",
    "        for i in range(n_modes):\n",
    "            for j in range(n_A):\n",
    "                dummy_index_1 = n_modes*(2*n_modes + 1) + 2*n_modes*n_A\n",
    "                for k in range(n_A):\n",
    "                    for l in range(k+1, n_A):\n",
    "                        if k == j:\n",
    "                            H_matrix[dummy_index_1, dummy_index_0] = np.conjugate(g_tab[i,l]) * np.exp(-1j*(omega_tab[i]-omega_A)*t)\n",
    "                            H_matrix[dummy_index_0, dummy_index_1] = np.conjugate(H_matrix[dummy_index_1, dummy_index_0])\n",
    "                        if l == j:\n",
    "                            H_matrix[dummy_index_1, dummy_index_0] = np.conjugate(g_tab[i,k]) * np.exp(-1j*(omega_tab[i]-omega_A)*t)\n",
    "                            H_matrix[dummy_index_0, dummy_index_1] = np.conjugate(H_matrix[dummy_index_1, dummy_index_0])\n",
    "                        dummy_index_1 += 1\n",
    "                dummy_index_0 += 1\n",
    "            \n",
    "        #|0,1,1> <-> |0,0,2>\n",
    "        dummy_index_0 = n_modes*(2*n_modes + 1) + n_modes*n_A\n",
    "        for i in range(n_modes):\n",
    "            for j in range(n_A):\n",
    "                dummy_index_1 = n_modes*(2*n_modes + 1) + 2*n_modes*n_A\n",
    "                for k in range(n_A):\n",
    "                    for l in range(k+1, n_A):\n",
    "                        if k == j:\n",
    "                            H_matrix[dummy_index_1, dummy_index_0] = np.conjugate(g_tab[i,l]) * np.exp(-1j*(omega_tab[i]-omega_A)*t)\n",
    "                            H_matrix[dummy_index_0, dummy_index_1] = np.conjugate(H_matrix[dummy_index_1, dummy_index_0])\n",
    "                        if l == j:\n",
    "                            H_matrix[dummy_index_1, dummy_index_0] = np.conjugate(g_tab[i,k]) * np.exp(-1j*(omega_tab[i]-omega_A)*t)\n",
    "                            H_matrix[dummy_index_0, dummy_index_1] = np.conjugate(H_matrix[dummy_index_1, dummy_index_0])\n",
    "                        dummy_index_1 += 1\n",
    "                dummy_index_0 += 1\n",
    "\n",
    "\n",
    "    H_qobj = qt.Qobj(H_matrix)\n",
    "\n",
    "    if not H_qobj.isherm:\n",
    "        print(\"Warning : Hamiltonian is not hermitian\")\n",
    "\n",
    "    return H_qobj"
   ]
  },
  {
   "cell_type": "markdown",
   "metadata": {},
   "source": [
    "I also define the operators $N_a(k) = a_k^{\\dagger} a_k$, $N_b(k) = b_k^{\\dagger} b_k$ and $N_j = (1+\\sigma_j^z)/2$. Recall that I work with the basis:\n",
    "$$ \\left\\{ \\ket{2_a, 0_b, 0}, \\ket{0_a, 2_b, 0}, \\ket{1_a, 1_b, 0}, \\ket{1_a, 0, 1}, \\ket{0, 1_b, 1}, \\ket{0_a, 0_b, 2}\\right \\}$$"
   ]
  },
  {
   "cell_type": "code",
   "execution_count": null,
   "metadata": {},
   "outputs": [],
   "source": [
    "occupation_a_list = []\n",
    "occupation_b_list = []\n",
    "sigma_z_list = []\n",
    "\n",
    "#for horizontal modes\n",
    "for n in range(n_modes):\n",
    "    occupation_matrix = np.zeros((dim_subspace, dim_subspace), dtype=complex)\n",
    "    #|2,0,0> states\n",
    "    dummy_index = 0\n",
    "    for i in range(n_modes):\n",
    "        for j in range(i, n_modes):\n",
    "            if i == n or j == n:\n",
    "                if i == j:\n",
    "                    occupation_matrix[dummy_index, dummy_index] = 2\n",
    "                else:\n",
    "                    occupation_matrix[dummy_index, dummy_index] = 1\n",
    "            dummy_index += 1\n",
    "    \n",
    "    #|1,1,0> states\n",
    "    dummy_index = n_modes*(n_modes + 1)\n",
    "    for i in range(n_modes):\n",
    "        for j in range(n_modes):\n",
    "            if i == n:\n",
    "                occupation_matrix[dummy_index, dummy_index] = 1\n",
    "            dummy_index += 1\n",
    "            \n",
    "\n",
    "    #|1,0,1> states\n",
    "    dummy_index = n_modes*(2*n_modes + 1)\n",
    "    for i in range(n_modes):\n",
    "        for j in range(n_A):\n",
    "            if i == n:\n",
    "                occupation_matrix[dummy_index, dummy_index] = 1\n",
    "            dummy_index += 1\n",
    "    \n",
    "    occupation_operator = qt.Qobj(occupation_matrix)\n",
    "    occupation_a_list.append(occupation_operator)\n",
    "\n",
    "#same for vertical modes\n",
    "for n in range(n_modes):\n",
    "    occupation_matrix = np.zeros((dim_subspace, dim_subspace), dtype=complex)\n",
    "    #|0,2,0> states\n",
    "    dummy_index = n_modes*(n_modes + 1)//2\n",
    "    for i in range(n_modes):\n",
    "        for j in range(i, n_modes):\n",
    "            if i == n or j == n:\n",
    "                if i == j:\n",
    "                    occupation_matrix[dummy_index, dummy_index] = 2\n",
    "                else:\n",
    "                    occupation_matrix[dummy_index, dummy_index] = 1\n",
    "            dummy_index += 1\n",
    "    \n",
    "    #|1,1,0> states\n",
    "    dummy_index = n_modes*(n_modes + 1)\n",
    "    for i in range(n_modes):\n",
    "        for j in range(n_modes):\n",
    "            if j == n:\n",
    "                occupation_matrix[dummy_index, dummy_index] = 1\n",
    "            dummy_index += 1\n",
    "            \n",
    "\n",
    "    #|0,1,1> states\n",
    "    dummy_index = n_modes*(2*n_modes + 1) + n_modes*n_A\n",
    "    for i in range(n_modes):\n",
    "        for j in range(n_A):\n",
    "            if i == n:\n",
    "                occupation_matrix[dummy_index, dummy_index] = 1\n",
    "            dummy_index += 1\n",
    "    \n",
    "    occupation_operator = qt.Qobj(occupation_matrix)\n",
    "    occupation_b_list.append(occupation_operator)\n",
    "\n",
    "#for sigma_z\n",
    "for x in range(n_A):\n",
    "    sigma_matrix = np.zeros((dim_subspace, dim_subspace), dtype=complex)\n",
    "    #|1,0,1> states \n",
    "    dummy_index = n_modes*(2*n_modes + 1)\n",
    "    for i in range(n_modes):\n",
    "        for j in range(n_A):\n",
    "            if j == x:\n",
    "                sigma_matrix[dummy_index, dummy_index] = 1\n",
    "            dummy_index += 1\n",
    "    \n",
    "    #|0,1,1> states\n",
    "    dummy_index = n_modes*(2*n_modes + 1) + n_modes*n_A\n",
    "    for i in range(n_modes):\n",
    "        for j in range(n_A):\n",
    "            if j == x:\n",
    "                sigma_matrix[dummy_index, dummy_index] = 1\n",
    "            dummy_index += 1\n",
    "    \n",
    "    #|0,0,2> states\n",
    "    dummy_index = n_modes*(2*n_modes + 1) + 2*n_modes*n_A\n",
    "    for i in range(n_A):\n",
    "        for j in range(i+1, n_A):\n",
    "            if i == x or j == x:\n",
    "                sigma_matrix[dummy_index, dummy_index] = 1\n",
    "            dummy_index += 1\n",
    "\n",
    "    sigma_operator = qt.Qobj(sigma_matrix)\n",
    "    sigma_z_list.append(sigma_operator)\n"
   ]
  },
  {
   "cell_type": "markdown",
   "metadata": {},
   "source": [
    "<h1> Time evolution : first test (skip if one more than one mode per direction)</h1>"
   ]
  },
  {
   "cell_type": "markdown",
   "metadata": {},
   "source": [
    "First sanity check : I keep only one mode per direction, I am supposed to recover the result of the file only_two_modes.ipynb"
   ]
  },
  {
   "cell_type": "code",
   "execution_count": null,
   "metadata": {},
   "outputs": [],
   "source": [
    "init_state = qt.basis(dim_subspace, 0)\n",
    "dt = 0.001\n",
    "T = 4*pi\n",
    "times = np.linspace(0, T, int(T/dt))\n",
    "state_list = runge_kutta_scheme(H, init_state, times)"
   ]
  },
  {
   "cell_type": "markdown",
   "metadata": {},
   "source": [
    "Try to recover the mean values of the occupation numbers"
   ]
  },
  {
   "cell_type": "code",
   "execution_count": null,
   "metadata": {},
   "outputs": [],
   "source": [
    "nb_pts = len(times)\n",
    "mean_a_list = np.zeros((n_modes, nb_pts))\n",
    "mean_b_list = np.zeros((n_modes, nb_pts))\n",
    "\n",
    "for i in range(nb_pts):\n",
    "    state = state_list[i]\n",
    "    for n in range(n_modes):\n",
    "        mean_a_list[n, i] = qt.expect(occupation_a_list[n], state)\n",
    "        mean_b_list[n, i] = qt.expect(occupation_b_list[n], state)"
   ]
  },
  {
   "cell_type": "markdown",
   "metadata": {},
   "source": [
    "And plot the results"
   ]
  },
  {
   "cell_type": "code",
   "execution_count": null,
   "metadata": {},
   "outputs": [],
   "source": [
    "index_mode = 0\n",
    "fig, ax = plt.subplots(1, 1, figsize=(8,4))\n",
    "ax.plot(times, mean_a_list[index_mode], label=\"Mode a\")\n",
    "ax.plot(times, mean_b_list[index_mode], label=\"Mode b\")\n",
    "ax.set_xlabel(\"Time\")\n",
    "ax.set_ylabel(\"Occupation\")\n",
    "ax.legend()\n",
    "\n",
    "plt.show()"
   ]
  },
  {
   "cell_type": "markdown",
   "metadata": {},
   "source": [
    "<h1> Coincidence evolution </h1>\n",
    "\n",
    "First, define the initial state"
   ]
  },
  {
   "cell_type": "code",
   "execution_count": null,
   "metadata": {},
   "outputs": [],
   "source": [
    "k_tab = np.copy(omega_tab)\n",
    "k_bar = k_tab[np.argmin(np.abs(k_tab - omega_0))]\n",
    "r_bar_a = -L/4\n",
    "delta_r = 0\n",
    "r_bar_b = r_bar_a + delta_r\n",
    "sigma = L/16\n",
    "\n",
    "c_list = []\n",
    "\n",
    "init_state = 0\n",
    "for i in range(n_modes**2):\n",
    "    k_a = k_tab[int(i//n_modes)]\n",
    "    k_b = k_tab[int(i%n_modes)]\n",
    "\n",
    "    c_a = np.exp(-0.5*sigma**2*(k_a - k_bar)**2 -1j * k_a * r_bar_a)\n",
    "    c_b = np.exp(-0.5*sigma**2*(k_b - k_bar)**2 -1j * k_b * r_bar_b)\n",
    "\n",
    "    if i//n_modes == i/n_modes:\n",
    "        c_list.append(c_a)\n",
    "\n",
    "    init_state += c_a * c_b * qt.basis(dim_subspace, n_modes*(n_modes+1) + i)\n",
    "\n",
    "init_state = init_state.unit()"
   ]
  },
  {
   "cell_type": "markdown",
   "metadata": {},
   "source": [
    "Define the total occupation operators : \n",
    "$$N_a = \\sum_k N_a(k) \\,\\, , \\,\\, N_b = \\sum_k N_b(k) $$"
   ]
  },
  {
   "cell_type": "code",
   "execution_count": null,
   "metadata": {},
   "outputs": [],
   "source": [
    "N_a = 0\n",
    "N_b = 0\n",
    "for i in range(n_modes):\n",
    "    N_a += occupation_a_list[i]\n",
    "    N_b += occupation_b_list[i]"
   ]
  },
  {
   "cell_type": "markdown",
   "metadata": {},
   "source": [
    "Now conduct the time evolution"
   ]
  },
  {
   "cell_type": "code",
   "execution_count": null,
   "metadata": {},
   "outputs": [],
   "source": [
    "dt = 0.01\n",
    "T = L/2\n",
    "times = np.linspace(0, T, int(T/dt))\n",
    "print(\"Dimension of the subspace : \", dim_subspace)\n",
    "state_list = runge_kutta_scheme(H, init_state, times)"
   ]
  },
  {
   "cell_type": "markdown",
   "metadata": {},
   "source": [
    "Store the results and plot"
   ]
  },
  {
   "cell_type": "code",
   "execution_count": null,
   "metadata": {},
   "outputs": [],
   "source": [
    "nb_pts = len(times)\n",
    "coincidence_tab = np.zeros(nb_pts)\n",
    "for i in tqdm(range(nb_pts)):\n",
    "    state = state_list[i]\n",
    "    coincidence_tab[i] = np.real(state.dag() * N_a * N_b * state)"
   ]
  },
  {
   "cell_type": "code",
   "execution_count": null,
   "metadata": {},
   "outputs": [],
   "source": [
    "fig, ax = plt.subplots(1, 1, figsize=(4,4), dpi=200)\n",
    "ax.plot(times, coincidence_tab, marker='o')\n",
    "ax.set_xlabel(\"Time\")\n",
    "ax.set_ylabel(\"Coincidence C(t)\")\n",
    "ax.grid()\n",
    "ax.set_ylim(-0.1, 1.1)\n",
    "\n",
    "plt.show()\n"
   ]
  },
  {
   "cell_type": "markdown",
   "metadata": {},
   "source": [
    "<h1> HOM effect </h1>"
   ]
  },
  {
   "cell_type": "markdown",
   "metadata": {},
   "source": [
    "Define the initial state"
   ]
  },
  {
   "cell_type": "code",
   "execution_count": null,
   "metadata": {},
   "outputs": [],
   "source": [
    "k_tab = np.copy(omega_tab)\n",
    "k_bar = k_tab[np.argmin(np.abs(k_tab - omega_0))]\n",
    "r_bar_a = -L/4\n",
    "delta_r = 0\n",
    "r_bar_b = r_bar_a + delta_r\n",
    "sigma = 1/(0.001 * bandwith) #monocromatic limit\n",
    "\n",
    "c_list = []\n",
    "\n",
    "init_state = 0\n",
    "for i in range(n_modes**2):\n",
    "    k_a = k_tab[int(i//n_modes)]\n",
    "    k_b = k_tab[int(i%n_modes)]\n",
    "        \n",
    "    c_a = np.exp(-0.5*sigma**2*(k_a - k_bar)**2 -1j * k_a * r_bar_a)\n",
    "    c_b = np.exp(-0.5*sigma**2*(k_b - k_bar)**2 -1j * k_b * r_bar_b)\n",
    "\n",
    "    if i//n_modes == i/n_modes:\n",
    "        c_list.append(c_a)\n",
    "\n",
    "    init_state += c_a * c_b * qt.basis(dim_subspace, n_modes*(n_modes+1) + i)\n",
    "\n",
    "init_state = init_state.unit()"
   ]
  },
  {
   "cell_type": "markdown",
   "metadata": {},
   "source": [
    "Show the coefficients probability density for each wave packet"
   ]
  },
  {
   "cell_type": "code",
   "execution_count": null,
   "metadata": {},
   "outputs": [],
   "source": [
    "c_list = np.array(c_list, dtype=complex)\n",
    "proba_density = np.abs(c_list)**2 \n",
    "proba_density = proba_density/np.sum(proba_density)\n",
    "\n",
    "fig, ax = plt.subplots(1, 1, figsize=(4,4))\n",
    "ax.plot(k_tab, proba_density, marker=\"o\")\n",
    "ax.set_xlabel(\"k\")\n",
    "ax.set_ylabel(\"Probability density\")\n",
    "plt.show()"
   ]
  },
  {
   "cell_type": "markdown",
   "metadata": {},
   "source": [
    "Now, I evolve the state and compute the overlap with the initial state (equivalent to Soeda's paper in interaction picture)"
   ]
  },
  {
   "cell_type": "code",
   "execution_count": null,
   "metadata": {},
   "outputs": [],
   "source": [
    "dt = 0.001\n",
    "T = L\n",
    "times = np.linspace(0, T, int(T/dt))\n",
    "print(\"Dimension of the subspace : \", dim_subspace)\n",
    "state_list = runge_kutta_scheme(H, init_state, times)\n",
    "final_overlap = qt.fidelity(state_list[-1], state_list[0])\n",
    "print(\"Final overlap : \", final_overlap)"
   ]
  },
  {
   "cell_type": "markdown",
   "metadata": {},
   "source": [
    "Varying $\\Delta r$"
   ]
  },
  {
   "cell_type": "code",
   "execution_count": null,
   "metadata": {},
   "outputs": [],
   "source": [
    "delta_r_tab = np.array([-L/6, -L/8, 0, L/6, L/8])\n",
    "final_overlap_tab = np.zeros(len(delta_r_tab))\n",
    "nb_pts_r = len(delta_r_tab)\n",
    "\n",
    "dt = 0.001\n",
    "T = L\n",
    "times = np.linspace(0, T, int(T/dt))\n",
    "\n",
    "for x in range(nb_pts_r):\n",
    "    k_tab = np.copy(omega_tab)\n",
    "    k_bar = k_tab[np.argmin(np.abs(k_tab - omega_0))]\n",
    "    r_bar_a = -L/4\n",
    "    delta_r = delta_r_tab[x]\n",
    "    r_bar_b = r_bar_a + delta_r\n",
    "    sigma = 1/(0.001 * bandwith) #monocromatic limit\n",
    "\n",
    "    init_state = 0\n",
    "    for i in range(n_modes**2):\n",
    "        k_a = k_tab[int(i//n_modes)]\n",
    "        k_b = k_tab[int(i%n_modes)]\n",
    "            \n",
    "        c_a = np.exp(-0.5*sigma**2*(k_a - k_bar)**2 -1j * k_a * r_bar_a)\n",
    "        c_b = np.exp(-0.5*sigma**2*(k_b - k_bar)**2 -1j * k_b * r_bar_b)\n",
    "\n",
    "        init_state += c_a * c_b * qt.basis(dim_subspace, n_modes*(n_modes+1) + i)\n",
    "\n",
    "    init_state = init_state.unit()\n",
    "\n",
    "    print(\"Computing for delta_r = \", delta_r)\n",
    "    state_list = runge_kutta_scheme(H, init_state, times)\n",
    "    final_overlap = qt.fidelity(state_list[-1], state_list[0])\n",
    "    final_overlap_tab[x] = final_overlap\n"
   ]
  },
  {
   "cell_type": "markdown",
   "metadata": {},
   "source": [
    "Theoretical curve"
   ]
  },
  {
   "cell_type": "code",
   "execution_count": null,
   "metadata": {},
   "outputs": [],
   "source": [
    "#plot the theoretical curve\n",
    "delta_r_theory = np.linspace(-L/4, L/4, 100)\n",
    "theory_curve = 0.5*(1-np.exp(-0.5*delta_r_theory**2/sigma**2))\n",
    "\n",
    "fig, ax = plt.subplots(1, 1, figsize=(4,4), dpi=resol)\n",
    "ax.scatter(delta_r_tab, final_overlap_tab, marker='o', label='Numerical', color='red')\n",
    "ax.plot(delta_r_theory, theory_curve, linestyle='--', label='Theoretical')\n",
    "\n",
    "#put labels in L units\n",
    "ax.set_xlim(-L/4, L/4)\n",
    "ax.set_xticks([-L/4, -L/8, 0, L/8, L/4])\n",
    "ax.set_xticklabels(['$-L/4$', '$-L/8$', '0', '$L/8$', '$L/4$'])\n",
    "\n",
    "ax.set_xlabel('$\\\\Delta r$')\n",
    "ax.set_ylabel('Overlap')\n",
    "ax.grid()\n",
    "ax.legend()\n",
    "\n",
    "plt.tight_layout()\n",
    "\n",
    "#save the figure\n",
    "#plt.savefig(\"figures/HOM_effect_L16_g09.pdf\")\n",
    "plt.show()"
   ]
  },
  {
   "cell_type": "code",
   "execution_count": null,
   "metadata": {},
   "outputs": [],
   "source": []
  }
 ],
 "metadata": {
  "kernelspec": {
   "display_name": "Python 3",
   "language": "python",
   "name": "python3"
  },
  "language_info": {
   "codemirror_mode": {
    "name": "ipython",
    "version": 3
   },
   "file_extension": ".py",
   "mimetype": "text/x-python",
   "name": "python",
   "nbconvert_exporter": "python",
   "pygments_lexer": "ipython3",
   "version": "3.12.0"
  }
 },
 "nbformat": 4,
 "nbformat_minor": 2
}
