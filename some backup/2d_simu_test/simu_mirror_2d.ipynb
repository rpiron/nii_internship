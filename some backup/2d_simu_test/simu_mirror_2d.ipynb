{
 "cells": [
  {
   "cell_type": "code",
   "execution_count": 1,
   "metadata": {},
   "outputs": [
    {
     "data": {
      "text/html": [
       "<table><tr><th>Software</th><th>Version</th></tr><tr><td>QuTiP</td><td>5.1.1</td></tr><tr><td>Numpy</td><td>1.26.2</td></tr><tr><td>SciPy</td><td>1.11.3</td></tr><tr><td>matplotlib</td><td>3.7.3</td></tr><tr><td>Number of CPUs</td><td>11</td></tr><tr><td>BLAS Info</td><td>Generic</td></tr><tr><td>IPython</td><td>8.17.2</td></tr><tr><td>Python</td><td>3.12.0 (v3.12.0:0fb18b02c8, Oct  2 2023, 09:45:56) [Clang 13.0.0 (clang-1300.0.29.30)]</td></tr><tr><td>OS</td><td>posix [darwin]</td></tr><tr><td>Cython</td><td>3.0.11</td></tr><tr><td colspan='2'>Wed Sep 17 12:15:27 2025 JST</td></tr></table>"
      ],
      "text/plain": [
       "<IPython.core.display.HTML object>"
      ]
     },
     "execution_count": 1,
     "metadata": {},
     "output_type": "execute_result"
    }
   ],
   "source": [
    "import qutip as qt\n",
    "import numpy as np\n",
    "import matplotlib.pyplot as plt\n",
    "from qutip.ipynbtools import version_table\n",
    "from tqdm.notebook import tqdm\n",
    "from matplotlib.animation import FuncAnimation\n",
    "from scipy.linalg import expm\n",
    "\n",
    "resol = 200\n",
    "pi = np.pi\n",
    "version_table()"
   ]
  },
  {
   "cell_type": "markdown",
   "metadata": {},
   "source": [
    "<h1> Model </h1>\n",
    "\n",
    "I consider the scattering of only one photon towards a 2-level atom. Also, I assume that several atoms might be in the waveguide (to play the role of a mirror for instance). I work in the subspace :\n",
    "\n",
    "$$ \\ket{1,0}, \\ket{0,1} $$\n",
    "\n",
    "And the Hamiltonian is given by: \n",
    "\n",
    "$$ H = \\sum_k \\omega_k a_k^{\\dagger} a_k + \\frac{1}{2} \\sum_j \\Omega_j (1 + \\sigma_j^z) + \\sum_{k,j}\\left\\{g(k,j) \\sigma^+ a_k + \\text{h.c} \\right\\} $$\n",
    "\n",
    "with $g(k,j) = i g_0 \\sqrt{\\omega_k} e^{ikx_j}$"
   ]
  },
  {
   "cell_type": "markdown",
   "metadata": {},
   "source": [
    "<h1> Data generation </h1>\n",
    "\n",
    "Encode a big function the state accross the evolution, the occupation number, and the overlap with the symmetrical state"
   ]
  },
  {
   "cell_type": "code",
   "execution_count": 2,
   "metadata": {},
   "outputs": [],
   "source": [
    "def generate_data_2d(L, lenght_mirror,layers,n_A_one_layer, sigma, x_0, y_0, g_0, omega_A, omega_0, omega_max, T, dt, position_basis=None):\n",
    "    ###Problem parameters\n",
    "\n",
    "    #position of the atoms\n",
    "    print(\"Preparing the position of the atoms ...\")\n",
    "    spacing_atom = lenght_mirror / (np.sqrt(2)**2 * n_A_one_layer)\n",
    "    if n_A_one_layer % 2 == 0:\n",
    "        raise ValueError(\"n_A must be an odd number to have a central atom at the origin.\")\n",
    "    \n",
    "    n_A = layers * n_A_one_layer\n",
    "    position_atom_list = np.zeros((n_A, 2))\n",
    "    position_atom_list[n_A_one_layer//2] = [0,0]\n",
    "    \n",
    "    \n",
    "    for i in range(1, n_A_one_layer//2+1):\n",
    "        position_atom_list[n_A_one_layer//2 - i] = [-i*spacing_atom, -i*spacing_atom]\n",
    "        position_atom_list[n_A_one_layer//2 + i] = [i*spacing_atom, i*spacing_atom]\n",
    "    \n",
    "    if layers > 1:\n",
    "        for layer in range(1, layers):\n",
    "            for i in range(n_A_one_layer):\n",
    "                position_atom_list[n_A_one_layer*layer + i] = position_atom_list[n_A_one_layer*(layer-1) + i] + np.array([spacing_atom / np.sqrt(2), -1*spacing_atom / np.sqrt(2)])\n",
    "\n",
    "    #prepare the momentum space\n",
    "    dp = 2*pi/L\n",
    "    omega_tab_p = np.array([dp*n for n in range(1000000) if dp*n <= omega_max])\n",
    "    kx_tab = np.sort(np.unique(np.concatenate((-omega_tab_p, omega_tab_p))))\n",
    "    ky_tab = np.copy(kx_tab)\n",
    "    n_modes = len(kx_tab)\n",
    "    print(\"Number of modes in momentum space: \", n_modes, \" X \", n_modes)\n",
    "    dim_subspace = n_modes**2 + n_A\n",
    "\n",
    "    ### Encode the Hamiltonian\n",
    "    H_matrix = np.zeros((dim_subspace, dim_subspace), dtype=complex)\n",
    "\n",
    "    #diagonal elements\n",
    "    dummy_index = 0\n",
    "    for i in range(n_modes):\n",
    "        for j in range(n_modes):\n",
    "            H_matrix[dummy_index, dummy_index] = np.sqrt(kx_tab[i]**2 + ky_tab[j]**2)\n",
    "            dummy_index += 1\n",
    "\n",
    "    for j in range(n_A):\n",
    "        H_matrix[n_modes**2+j, n_modes**2+j] = omega_A\n",
    "\n",
    "    #off-diagonal elements\n",
    "    dummy_index_0 = 0\n",
    "    for i in range(n_modes):\n",
    "        for j in range(n_modes):\n",
    "            dummy_index_1 = n_modes**2\n",
    "            for k in range(n_A):\n",
    "                position_atom = position_atom_list[k]\n",
    "                k_vector = np.array([kx_tab[i], ky_tab[j]])\n",
    "                H_matrix[dummy_index_1, dummy_index_0] = 1j*g_0*np.sqrt(omega_A)/L * np.exp(-1j*np.dot(k_vector, position_atom))\n",
    "                H_matrix[dummy_index_0, dummy_index_1] = np.conjugate(H_matrix[dummy_index_1, dummy_index_0])\n",
    "                dummy_index_1 += 1\n",
    "\n",
    "            dummy_index_0 += 1\n",
    "\n",
    "    H = qt.Qobj(H_matrix)\n",
    "\n",
    "    ###Encode the initial state in qutip\n",
    "    print(\"Preparing the initial state ...\")\n",
    "    coef_momentum = np.zeros((n_modes, n_modes), dtype=complex)\n",
    "    k_bar = np.array([omega_0, 0])\n",
    "    r_bar = np.array([x_0, y_0])\n",
    "\n",
    "    init_state = 0\n",
    "    dummy_index = 0\n",
    "    for i in range(n_modes):\n",
    "        for j in range(n_modes):\n",
    "            k_vector = np.array([kx_tab[i], ky_tab[j]])\n",
    "            coef_momentum[i, j] = np.exp(-0.5*sigma**2*np.linalg.norm(k_vector - k_bar)**2 - 1j*np.dot(k_vector, r_bar))\n",
    "            init_state += coef_momentum[i, j]*qt.basis(dim_subspace, dummy_index)\n",
    "            dummy_index += 1\n",
    "    init_state = init_state.unit()\n",
    "\n",
    "\n",
    "    ###Now conduct the time evolution\n",
    "    print(\"Starting the time evolution ...\")\n",
    "    n_step = int(T/dt)\n",
    "    t_list = np.linspace(0, T, n_step)\n",
    "\n",
    "    result = qt.sesolve(H, init_state, t_list, options={\"nsteps\":10000, \"progress_bar\":True, \"store_states\":True})\n",
    "    state_list = result.states\n",
    "\n",
    "    ###Compute the quantities of interest\n",
    "    N_k_t = np.zeros((n_modes, n_modes, n_step))\n",
    "    N_A_t = np.zeros((n_step, 1))\n",
    "    \n",
    "    print(\"Computing occupation numbers in momentum space...\")\n",
    "    for t in tqdm(range(n_step)):\n",
    "        current_state = state_list[t]\n",
    "\n",
    "        dummy_index = 0\n",
    "        for i in range(n_modes):\n",
    "            for j in range(n_modes):\n",
    "                momentum_state = qt.basis(dim_subspace, dummy_index)\n",
    "                N_k_t[i, j, t] = np.abs(momentum_state.dag() * current_state)**2\n",
    "                dummy_index += 1\n",
    "\n",
    "        for k in range(n_A):\n",
    "            atomic_state = qt.basis(dim_subspace, n_modes**2+k)\n",
    "            N_A_t[t] += np.abs(atomic_state.dag() * current_state)**2\n",
    "    \n",
    "    if position_basis is None:\n",
    "        N_x_t = None\n",
    "    else:\n",
    "        N = position_basis.shape[0]\n",
    "        N_x_t = np.zeros((N, N, n_step))\n",
    "        print(\"Computing occupation numbers in position space...\")\n",
    "        for t in tqdm(range(n_step)):\n",
    "            current_state = state_list[t]\n",
    "            for i in range(N):\n",
    "                for j in range(N):\n",
    "                    position_state = qt.Qobj(position_basis[i, j])\n",
    "                    N_x_t[i, j, t] = np.abs(position_state.dag() * current_state)**2\n",
    "    \n",
    "    ###Compute reflection and transmission coefficients\n",
    "    P_x_t = np.zeros((n_step, 1))\n",
    "    P_y_t = np.zeros((n_step, 1))\n",
    "    for t in range(n_step):\n",
    "        for i in range(n_modes):\n",
    "            for j in range(n_modes):\n",
    "                if kx_tab[i] > ky_tab[j]:\n",
    "                    P_x_t[t] += N_k_t[i, j, t]\n",
    "                else:\n",
    "                    P_y_t[t] += N_k_t[i, j, t]\n",
    "    \n",
    "    return t_list, position_atom_list, N_k_t, N_x_t, N_A_t, P_x_t, P_y_t"
   ]
  },
  {
   "cell_type": "markdown",
   "metadata": {},
   "source": [
    "Check the parameters"
   ]
  },
  {
   "cell_type": "code",
   "execution_count": 6,
   "metadata": {},
   "outputs": [
    {
     "name": "stdout",
     "output_type": "stream",
     "text": [
      "Spacing between atoms:  0.4533554018528945\n",
      "Wave length of the photons at resonance:  2.0943951023931953\n",
      "----------------------------------\n",
      "Delta_k / Gamma:  0.014147106052612919\n",
      "Coupling g:  0.0551328895421792\n",
      "omega_0_m =  -15  and omega_0_p =  21\n"
     ]
    }
   ],
   "source": [
    "L = 10*pi\n",
    "T = L/2\n",
    "dt = 0.1\n",
    "\n",
    "#width of the wave packet\n",
    "sigma = L/8\n",
    "sigma_momentum = 1/sigma\n",
    "x_0 = -L/4\n",
    "\n",
    "\n",
    "#Jaynes-Cummings parameter g_0 and energies \n",
    "g_0 = 1\n",
    "omega_A = 3\n",
    "gamma = 2*g_0**2*omega_A**2\n",
    "\n",
    "omega_0_m = omega_A - gamma\n",
    "omega_0_p = omega_A + gamma\n",
    "\n",
    "#resolution of the mirror \n",
    "n_A = 49\n",
    "layers = 1\n",
    "length_mirror = np.sqrt(2)*L / 2\n",
    "spacing_prediction = length_mirror / n_A\n",
    "wave_lenght_photon = 2*pi / omega_A\n",
    "\n",
    "print(\"Spacing between atoms: \", spacing_prediction)\n",
    "print(\"Wave length of the photons at resonance: \", wave_lenght_photon)\n",
    "print(\"----------------------------------\")\n",
    "\n",
    "print(\"Delta_k / Gamma: \", sigma_momentum/gamma)\n",
    "\n",
    "value_to_check = g_0*np.sqrt(omega_A)/L\n",
    "if value_to_check > 0.1:\n",
    "    print(\"Warning: coupling too large\")\n",
    "print(\"Coupling g: \", g_0*np.sqrt(omega_A)/L)\n",
    "print(\"omega_0_m = \", omega_0_m, \" and omega_0_p = \", omega_0_p)\n",
    "\n",
    "#define momentum space parameters\n",
    "omega_0 = 3\n",
    "omega_max = 3*omega_A\n",
    "x_0 = -L/4\n",
    "y_0 = 0\n",
    "\n",
    "#ONLY IF NEEDED : position basis\n",
    "N = 32\n",
    "generate_position_basis = False\n",
    "\n",
    "if generate_position_basis:\n",
    "    \n",
    "    #get back the momentum space basis\n",
    "    dp = 2*pi/L\n",
    "    omega_tab_p = np.array([dp*n for n in range(1000000) if dp*n <= omega_max])\n",
    "    kx_tab = np.sort(np.unique(np.concatenate((-omega_tab_p, omega_tab_p))))\n",
    "    ky_tab = np.copy(kx_tab)\n",
    "    n_modes = len(kx_tab)\n",
    "    dim_subspace = n_modes**2 + n_A\n",
    "\n",
    "    #prepare the position basis\n",
    "    print(\"Preparing the position basis ...\")\n",
    "    x = np.linspace(-L/2, L/2, N)\n",
    "    y = np.linspace(-L/2, L/2, N)\n",
    "    position_basis = np.zeros((N, N, dim_subspace ), dtype=complex)\n",
    "    pbar = tqdm(total=N**2)\n",
    "    for i in range(N):\n",
    "        for j in range(N):\n",
    "            position_state = 0\n",
    "            dummy_index = 0\n",
    "            for a in range(n_modes):\n",
    "                for b in range(n_modes):\n",
    "                    k_vector = np.array([kx_tab[a], ky_tab[b]])\n",
    "                    position_state += np.exp(-1j*np.dot(k_vector, [x[i], y[j]])) * qt.basis(dim_subspace, dummy_index)\n",
    "                    dummy_index += 1\n",
    "            position_state = position_state.unit()\n",
    "            position_basis[i, j] = position_state.full().flatten()\n",
    "            pbar.update(1)\n",
    "\n",
    "    pbar.close()"
   ]
  },
  {
   "cell_type": "markdown",
   "metadata": {},
   "source": [
    "First test of the function"
   ]
  },
  {
   "cell_type": "code",
   "execution_count": 7,
   "metadata": {},
   "outputs": [
    {
     "name": "stdout",
     "output_type": "stream",
     "text": [
      "Preparing the position of the atoms ...\n",
      "Number of modes in momentum space:  91  X  91\n",
      "Preparing the initial state ...\n",
      "Starting the time evolution ...\n",
      "10.3%. Run time:   2.18s. Est. time left: 00:00:00:19\n",
      "20.5%. Run time:   4.13s. Est. time left: 00:00:00:15\n",
      "30.1%. Run time:   5.96s. Est. time left: 00:00:00:13\n",
      "40.4%. Run time:   7.98s. Est. time left: 00:00:00:11\n",
      "50.0%. Run time:   9.81s. Est. time left: 00:00:00:09\n",
      "60.3%. Run time:  11.74s. Est. time left: 00:00:00:07\n",
      "70.5%. Run time:  13.68s. Est. time left: 00:00:00:05\n",
      "80.1%. Run time:  15.50s. Est. time left: 00:00:00:03\n",
      "90.4%. Run time:  17.39s. Est. time left: 00:00:00:01\n",
      "100.0%. Run time:  19.29s. Est. time left: 00:00:00:00\n",
      "Total run time:  19.29s\n",
      "Computing occupation numbers in momentum space...\n"
     ]
    },
    {
     "data": {
      "application/vnd.jupyter.widget-view+json": {
       "model_id": "ca4e0a2edbea457495fd1a4bfe1b085a",
       "version_major": 2,
       "version_minor": 0
      },
      "text/plain": [
       "  0%|          | 0/157 [00:00<?, ?it/s]"
      ]
     },
     "metadata": {},
     "output_type": "display_data"
    }
   ],
   "source": [
    "if generate_position_basis:\n",
    "    t_list, position_atom_list, N_k_t, N_x_t, N_A_t, P_x_t, P_y_t = generate_data_2d(L, length_mirror, layers, n_A, sigma, x_0, y_0, g_0, omega_A, omega_0, omega_max, T, dt, position_basis=position_basis)\n",
    "else:\n",
    "    t_list, position_atom_list, N_k_t, N_x_t, N_A_t, P_x_t, P_y_t = generate_data_2d(L, length_mirror, layers, n_A, sigma, x_0, y_0, g_0, omega_A, omega_0, omega_max, T, dt)"
   ]
  },
  {
   "cell_type": "markdown",
   "metadata": {},
   "source": [
    "<h2> Definition of the reflection coefficient </h2>\n",
    "\n",
    "I want to define the analogue of the probabilities $P_+$ and $P_-$ I used in 1d. I define:\n",
    "\n",
    "$$P_y = \\sum_{k_y > k_y} N_k \\,\\, , \\,\\, P_x = \\sum_{k_y < k_x} N_k$$\n",
    "\n",
    "In case of perfect reflection, I should obtain $P_y =1, P_x = 0$ and if the atom remains unexcited, I have $P_x + P_y = 1$"
   ]
  },
  {
   "cell_type": "code",
   "execution_count": 8,
   "metadata": {},
   "outputs": [
    {
     "data": {
      "image/png": "[encoded data removed]",
      "text/plain": [
       "<Figure size 600x600 with 1 Axes>"
      ]
     },
     "metadata": {},
     "output_type": "display_data"
    }
   ],
   "source": [
    "fig, ax = plt.subplots(1, 1, figsize=(3,3), dpi=200)\n",
    "ax.plot(t_list, P_x_t, label=r\"$P_x$\")\n",
    "ax.plot(t_list, P_y_t, label=r\"$P_y$\")\n",
    "ax.plot(t_list, N_A_t, label=r\"$N_A$\", linestyle='--', alpha=0.5, color=\"red\")\n",
    "ax.set_xlabel(r\"$t$\")\n",
    "ax.set_xlim(0, T)\n",
    "ax.set_ylim(0, 1.1)\n",
    "ax.set_ylabel(\"Probability\")\n",
    "ax.set_title(\"Reflection and transmission probabilities\")\n",
    "ax.grid()\n",
    "ax.legend()\n",
    "\n",
    "plt.show()"
   ]
  },
  {
   "cell_type": "markdown",
   "metadata": {},
   "source": [
    "<h2> Wave function </h2>"
   ]
  },
  {
   "cell_type": "code",
   "execution_count": 10,
   "metadata": {},
   "outputs": [
    {
     "data": {
      "image/png": "[encoded data removed]",
      "text/plain": [
       "<Figure size 1000x500 with 2 Axes>"
      ]
     },
     "metadata": {},
     "output_type": "display_data"
    }
   ],
   "source": [
    "t_index = 0\n",
    "fig, ax = plt.subplots(1, 2, figsize=(10,5))\n",
    "\n",
    "##position space plot\n",
    "\n",
    "if N_x_t is not None:\n",
    "    position_space_plot = np.transpose(N_x_t[:, :, t_index])\n",
    "    ax[0].imshow(position_space_plot, extent=[-L/2, L/2, -L/2, L/2], origin='lower', cmap='gray')\n",
    "    ax[0].set_xlabel(r\"$x$\")\n",
    "    ax[0].set_ylabel(r\"$y$\")\n",
    "\n",
    "#show the position of the atoms\n",
    "for pos in position_atom_list:\n",
    "    ax[0].plot(pos[0], pos[1], 'ro', markersize=3)\n",
    "ax[0].set_xlim([-L/2, L/2])\n",
    "ax[0].set_ylim([-L/2, L/2])\n",
    "ax[0].set_title(\"Position space\")\n",
    "\n",
    "##momentum space plot\n",
    "omega_max_axis = 5*omega_A\n",
    "wave_fct_momentum_plot = np.transpose(N_k_t[:, :, t_index])\n",
    "\n",
    "ax[1].imshow(np.abs(wave_fct_momentum_plot)**2, extent=[-1*omega_max, omega_max, -1*omega_max, omega_max], origin='lower', cmap='gray')\n",
    "ax[1].set_xlim([-1*omega_max_axis, omega_max_axis])\n",
    "ax[1].set_ylim([-1*omega_max_axis, omega_max_axis])\n",
    "ax[1].set_xlabel(r\"$k_x$\")\n",
    "ax[1].set_ylabel(r\"$k_y$\")\n",
    "ax[1].set_title(\"Momentum space\")\n",
    "\n",
    "\n",
    "fig.tight_layout()\n",
    "plt.show()"
   ]
  },
  {
   "cell_type": "markdown",
   "metadata": {},
   "source": [
    "<h1> Check reflection against detunning </h1>"
   ]
  },
  {
   "cell_type": "code",
   "execution_count": null,
   "metadata": {},
   "outputs": [
    {
     "data": {
      "application/vnd.jupyter.widget-view+json": {
       "model_id": "12cca279b57a47669fcd21fa371dfb75",
       "version_major": 2,
       "version_minor": 0
      },
      "text/plain": [
       "  0%|          | 0/10 [00:00<?, ?it/s]"
      ]
     },
     "metadata": {},
     "output_type": "display_data"
    },
    {
     "name": "stdout",
     "output_type": "stream",
     "text": [
      "Number of modes in momentum space:  76  X  76\n",
      "Computing the coefficients in momentum space\n"
     ]
    },
    {
     "data": {
      "application/vnd.jupyter.widget-view+json": {
       "model_id": "180e2ef9f3254199b138b67d0010d3ff",
       "version_major": 2,
       "version_minor": 0
      },
      "text/plain": [
       "  0%|          | 0/5776 [00:00<?, ?it/s]"
      ]
     },
     "metadata": {},
     "output_type": "display_data"
    },
    {
     "name": "stdout",
     "output_type": "stream",
     "text": [
      "Preparing the initial state ...\n",
      "Number of steps:  235\n",
      "---------------------------------\n",
      "10.3%. Run time:   1.09s. Est. time left: 00:00:00:09\n",
      "20.1%. Run time:   2.01s. Est. time left: 00:00:00:07\n",
      "30.3%. Run time:   2.95s. Est. time left: 00:00:00:06\n",
      "40.2%. Run time:   3.84s. Est. time left: 00:00:00:05\n",
      "50.0%. Run time:   4.74s. Est. time left: 00:00:00:04\n",
      "60.3%. Run time:   5.68s. Est. time left: 00:00:00:03\n",
      "70.1%. Run time:   6.59s. Est. time left: 00:00:00:02\n",
      "80.3%. Run time:   7.53s. Est. time left: 00:00:00:01\n",
      "90.2%. Run time:   8.43s. Est. time left: 00:00:00:00\n",
      "100.0%. Run time:   9.35s. Est. time left: 00:00:00:00\n",
      "Total run time:   9.35s\n",
      "Computing occupation numbers ...\n"
     ]
    },
    {
     "data": {
      "application/vnd.jupyter.widget-view+json": {
       "model_id": "9dcfd048c41d4c03910c6600e03b48ca",
       "version_major": 2,
       "version_minor": 0
      },
      "text/plain": [
       "  0%|          | 0/235 [00:00<?, ?it/s]"
      ]
     },
     "metadata": {},
     "output_type": "display_data"
    },
    {
     "name": "stderr",
     "output_type": "stream",
     "text": [
      "/var/folders/ds/7w970h197d59hh_2dj4ry5qw0000gn/T/ipykernel_1853/3290747933.py:22: DeprecationWarning: Conversion of an array with ndim > 0 to a scalar is deprecated, and will error in future. Ensure you extract a single element from your array before performing this operation. (Deprecated NumPy 1.25.)\n",
      "  reflection_coeff[i] = P_x_t[-1]\n",
      "/var/folders/ds/7w970h197d59hh_2dj4ry5qw0000gn/T/ipykernel_1853/3290747933.py:23: DeprecationWarning: Conversion of an array with ndim > 0 to a scalar is deprecated, and will error in future. Ensure you extract a single element from your array before performing this operation. (Deprecated NumPy 1.25.)\n",
      "  transmission_coeff[i] = P_y_t[-1]\n"
     ]
    },
    {
     "name": "stdout",
     "output_type": "stream",
     "text": [
      "Number of modes in momentum space:  76  X  76\n",
      "Computing the coefficients in momentum space\n"
     ]
    },
    {
     "data": {
      "application/vnd.jupyter.widget-view+json": {
       "model_id": "8cf1ae39390840c0bf0154c008e69a5c",
       "version_major": 2,
       "version_minor": 0
      },
      "text/plain": [
       "  0%|          | 0/5776 [00:00<?, ?it/s]"
      ]
     },
     "metadata": {},
     "output_type": "display_data"
    },
    {
     "name": "stdout",
     "output_type": "stream",
     "text": [
      "Preparing the initial state ...\n",
      "Number of steps:  235\n",
      "---------------------------------\n",
      "10.3%. Run time:   1.07s. Est. time left: 00:00:00:09\n",
      "20.1%. Run time:   2.05s. Est. time left: 00:00:00:08\n",
      "30.3%. Run time:   3.05s. Est. time left: 00:00:00:07\n",
      "40.2%. Run time:   4.00s. Est. time left: 00:00:00:05\n",
      "50.0%. Run time:   4.94s. Est. time left: 00:00:00:04\n",
      "60.3%. Run time:   5.94s. Est. time left: 00:00:00:03\n",
      "70.1%. Run time:   6.88s. Est. time left: 00:00:00:02\n",
      "80.3%. Run time:   7.88s. Est. time left: 00:00:00:01\n",
      "90.2%. Run time:   8.83s. Est. time left: 00:00:00:00\n",
      "100.0%. Run time:   9.78s. Est. time left: 00:00:00:00\n",
      "Total run time:   9.78s\n",
      "Computing occupation numbers ...\n"
     ]
    },
    {
     "data": {
      "application/vnd.jupyter.widget-view+json": {
       "model_id": "3865327c49cc4eb986913be26fa40e47",
       "version_major": 2,
       "version_minor": 0
      },
      "text/plain": [
       "  0%|          | 0/235 [00:00<?, ?it/s]"
      ]
     },
     "metadata": {},
     "output_type": "display_data"
    },
    {
     "name": "stdout",
     "output_type": "stream",
     "text": [
      "Number of modes in momentum space:  76  X  76\n",
      "Computing the coefficients in momentum space\n"
     ]
    },
    {
     "data": {
      "application/vnd.jupyter.widget-view+json": {
       "model_id": "15bb8c4ef1854858821147adde784ac2",
       "version_major": 2,
       "version_minor": 0
      },
      "text/plain": [
       "  0%|          | 0/5776 [00:00<?, ?it/s]"
      ]
     },
     "metadata": {},
     "output_type": "display_data"
    },
    {
     "name": "stdout",
     "output_type": "stream",
     "text": [
      "Preparing the initial state ...\n",
      "Number of steps:  235\n",
      "---------------------------------\n",
      "10.3%. Run time:   1.15s. Est. time left: 00:00:00:10\n",
      "20.1%. Run time:   2.17s. Est. time left: 00:00:00:08\n",
      "30.3%. Run time:   3.23s. Est. time left: 00:00:00:07\n",
      "40.2%. Run time:   4.26s. Est. time left: 00:00:00:06\n",
      "50.0%. Run time:   5.28s. Est. time left: 00:00:00:05\n",
      "60.3%. Run time:   6.35s. Est. time left: 00:00:00:04\n",
      "70.1%. Run time:   7.41s. Est. time left: 00:00:00:03\n",
      "80.3%. Run time:   8.48s. Est. time left: 00:00:00:02\n",
      "90.2%. Run time:   9.51s. Est. time left: 00:00:00:01\n",
      "100.0%. Run time:  10.52s. Est. time left: 00:00:00:00\n",
      "Total run time:  10.53s\n",
      "Computing occupation numbers ...\n"
     ]
    },
    {
     "data": {
      "application/vnd.jupyter.widget-view+json": {
       "model_id": "2ccab975dc5344ce97783be8936640f8",
       "version_major": 2,
       "version_minor": 0
      },
      "text/plain": [
       "  0%|          | 0/235 [00:00<?, ?it/s]"
      ]
     },
     "metadata": {},
     "output_type": "display_data"
    },
    {
     "name": "stdout",
     "output_type": "stream",
     "text": [
      "Number of modes in momentum space:  76  X  76\n",
      "Computing the coefficients in momentum space\n"
     ]
    },
    {
     "data": {
      "application/vnd.jupyter.widget-view+json": {
       "model_id": "9fd96e8afeed4a37aa7382af180f44ee",
       "version_major": 2,
       "version_minor": 0
      },
      "text/plain": [
       "  0%|          | 0/5776 [00:00<?, ?it/s]"
      ]
     },
     "metadata": {},
     "output_type": "display_data"
    },
    {
     "name": "stdout",
     "output_type": "stream",
     "text": [
      "Preparing the initial state ...\n",
      "Number of steps:  235\n",
      "---------------------------------\n",
      "10.3%. Run time:   1.22s. Est. time left: 00:00:00:10\n",
      "20.1%. Run time:   2.32s. Est. time left: 00:00:00:09\n",
      "30.3%. Run time:   3.48s. Est. time left: 00:00:00:07\n",
      "40.2%. Run time:   4.59s. Est. time left: 00:00:00:06\n",
      "50.0%. Run time:   5.68s. Est. time left: 00:00:00:05\n",
      "60.3%. Run time:   6.82s. Est. time left: 00:00:00:04\n",
      "70.1%. Run time:   7.91s. Est. time left: 00:00:00:03\n",
      "80.3%. Run time:   9.09s. Est. time left: 00:00:00:02\n",
      "90.2%. Run time:  10.21s. Est. time left: 00:00:00:01\n",
      "100.0%. Run time:  11.31s. Est. time left: 00:00:00:00\n",
      "Total run time:  11.31s\n",
      "Computing occupation numbers ...\n"
     ]
    },
    {
     "data": {
      "application/vnd.jupyter.widget-view+json": {
       "model_id": "e724bd0433774ea68656173ad5fe1967",
       "version_major": 2,
       "version_minor": 0
      },
      "text/plain": [
       "  0%|          | 0/235 [00:00<?, ?it/s]"
      ]
     },
     "metadata": {},
     "output_type": "display_data"
    },
    {
     "name": "stdout",
     "output_type": "stream",
     "text": [
      "Number of modes in momentum space:  76  X  76\n",
      "Computing the coefficients in momentum space\n"
     ]
    },
    {
     "data": {
      "application/vnd.jupyter.widget-view+json": {
       "model_id": "940121708a12412aa7d0f43203e8fcdd",
       "version_major": 2,
       "version_minor": 0
      },
      "text/plain": [
       "  0%|          | 0/5776 [00:00<?, ?it/s]"
      ]
     },
     "metadata": {},
     "output_type": "display_data"
    },
    {
     "name": "stdout",
     "output_type": "stream",
     "text": [
      "Preparing the initial state ...\n",
      "Number of steps:  235\n",
      "---------------------------------\n",
      "10.3%. Run time:   1.32s. Est. time left: 00:00:00:11\n",
      "20.1%. Run time:   2.51s. Est. time left: 00:00:00:09\n",
      "30.3%. Run time:   3.74s. Est. time left: 00:00:00:08\n",
      "40.2%. Run time:   4.93s. Est. time left: 00:00:00:07\n",
      "50.0%. Run time:   6.12s. Est. time left: 00:00:00:06\n",
      "60.3%. Run time:   7.36s. Est. time left: 00:00:00:04\n",
      "70.1%. Run time:   8.55s. Est. time left: 00:00:00:03\n",
      "80.3%. Run time:   9.78s. Est. time left: 00:00:00:02\n",
      "90.2%. Run time:  10.96s. Est. time left: 00:00:00:01\n",
      "100.0%. Run time:  12.17s. Est. time left: 00:00:00:00\n",
      "Total run time:  12.18s\n",
      "Computing occupation numbers ...\n"
     ]
    },
    {
     "data": {
      "application/vnd.jupyter.widget-view+json": {
       "model_id": "316fccebe93e4bc6a1620e27d3032d54",
       "version_major": 2,
       "version_minor": 0
      },
      "text/plain": [
       "  0%|          | 0/235 [00:00<?, ?it/s]"
      ]
     },
     "metadata": {},
     "output_type": "display_data"
    },
    {
     "name": "stdout",
     "output_type": "stream",
     "text": [
      "Number of modes in momentum space:  76  X  76\n",
      "Computing the coefficients in momentum space\n"
     ]
    },
    {
     "data": {
      "application/vnd.jupyter.widget-view+json": {
       "model_id": "476cb874ac2a4130b4989dd633496708",
       "version_major": 2,
       "version_minor": 0
      },
      "text/plain": [
       "  0%|          | 0/5776 [00:00<?, ?it/s]"
      ]
     },
     "metadata": {},
     "output_type": "display_data"
    },
    {
     "name": "stdout",
     "output_type": "stream",
     "text": [
      "Preparing the initial state ...\n",
      "Number of steps:  235\n",
      "---------------------------------\n",
      "10.3%. Run time:   1.41s. Est. time left: 00:00:00:12\n",
      "20.1%. Run time:   2.75s. Est. time left: 00:00:00:10\n",
      "30.3%. Run time:   4.09s. Est. time left: 00:00:00:09\n",
      "40.2%. Run time:   5.39s. Est. time left: 00:00:00:08\n",
      "50.0%. Run time:   6.68s. Est. time left: 00:00:00:06\n",
      "60.3%. Run time:   8.06s. Est. time left: 00:00:00:05\n",
      "70.1%. Run time:   9.36s. Est. time left: 00:00:00:03\n",
      "80.3%. Run time:  10.71s. Est. time left: 00:00:00:02\n",
      "90.2%. Run time:  12.00s. Est. time left: 00:00:00:01\n",
      "100.0%. Run time:  13.28s. Est. time left: 00:00:00:00\n",
      "Total run time:  13.28s\n",
      "Computing occupation numbers ...\n"
     ]
    },
    {
     "data": {
      "application/vnd.jupyter.widget-view+json": {
       "model_id": "266b7221f02f4645bd5db4443617bfc3",
       "version_major": 2,
       "version_minor": 0
      },
      "text/plain": [
       "  0%|          | 0/235 [00:00<?, ?it/s]"
      ]
     },
     "metadata": {},
     "output_type": "display_data"
    },
    {
     "name": "stdout",
     "output_type": "stream",
     "text": [
      "Number of modes in momentum space:  76  X  76\n",
      "Computing the coefficients in momentum space\n"
     ]
    },
    {
     "data": {
      "application/vnd.jupyter.widget-view+json": {
       "model_id": "5136b8b3d66c490f8fdbb139d1003e7f",
       "version_major": 2,
       "version_minor": 0
      },
      "text/plain": [
       "  0%|          | 0/5776 [00:00<?, ?it/s]"
      ]
     },
     "metadata": {},
     "output_type": "display_data"
    },
    {
     "name": "stdout",
     "output_type": "stream",
     "text": [
      "Preparing the initial state ...\n",
      "Number of steps:  235\n",
      "---------------------------------\n",
      "10.3%. Run time:   1.52s. Est. time left: 00:00:00:13\n",
      "20.1%. Run time:   2.91s. Est. time left: 00:00:00:11\n",
      "30.3%. Run time:   4.37s. Est. time left: 00:00:00:10\n",
      "40.2%. Run time:   5.77s. Est. time left: 00:00:00:08\n",
      "50.0%. Run time:   7.16s. Est. time left: 00:00:00:07\n",
      "60.3%. Run time:   8.61s. Est. time left: 00:00:00:05\n",
      "70.1%. Run time:  10.00s. Est. time left: 00:00:00:04\n",
      "80.3%. Run time:  11.46s. Est. time left: 00:00:00:02\n",
      "90.2%. Run time:  12.85s. Est. time left: 00:00:00:01\n",
      "100.0%. Run time:  14.25s. Est. time left: 00:00:00:00\n",
      "Total run time:  14.25s\n",
      "Computing occupation numbers ...\n"
     ]
    },
    {
     "data": {
      "application/vnd.jupyter.widget-view+json": {
       "model_id": "5311fa7cbdba440dad58fe71d547678b",
       "version_major": 2,
       "version_minor": 0
      },
      "text/plain": [
       "  0%|          | 0/235 [00:00<?, ?it/s]"
      ]
     },
     "metadata": {},
     "output_type": "display_data"
    },
    {
     "name": "stdout",
     "output_type": "stream",
     "text": [
      "Number of modes in momentum space:  76  X  76\n",
      "Computing the coefficients in momentum space\n"
     ]
    },
    {
     "data": {
      "application/vnd.jupyter.widget-view+json": {
       "model_id": "239f668bd2a54d278aa54bdda06ca5c5",
       "version_major": 2,
       "version_minor": 0
      },
      "text/plain": [
       "  0%|          | 0/5776 [00:00<?, ?it/s]"
      ]
     },
     "metadata": {},
     "output_type": "display_data"
    },
    {
     "name": "stdout",
     "output_type": "stream",
     "text": [
      "Preparing the initial state ...\n",
      "Number of steps:  235\n",
      "---------------------------------\n",
      "10.3%. Run time:   1.65s. Est. time left: 00:00:00:14\n",
      "20.1%. Run time:   3.15s. Est. time left: 00:00:00:12\n",
      "30.3%. Run time:   4.70s. Est. time left: 00:00:00:10\n",
      "40.2%. Run time:   6.20s. Est. time left: 00:00:00:09\n",
      "50.0%. Run time:   7.72s. Est. time left: 00:00:00:07\n",
      "60.3%. Run time:   9.28s. Est. time left: 00:00:00:06\n",
      "70.1%. Run time:  10.77s. Est. time left: 00:00:00:04\n",
      "80.3%. Run time:  12.37s. Est. time left: 00:00:00:03\n",
      "90.2%. Run time:  13.87s. Est. time left: 00:00:00:01\n",
      "100.0%. Run time:  15.37s. Est. time left: 00:00:00:00\n",
      "Total run time:  15.37s\n",
      "Computing occupation numbers ...\n"
     ]
    },
    {
     "data": {
      "application/vnd.jupyter.widget-view+json": {
       "model_id": "527c0e06452341aca8f6ddddc987c711",
       "version_major": 2,
       "version_minor": 0
      },
      "text/plain": [
       "  0%|          | 0/235 [00:00<?, ?it/s]"
      ]
     },
     "metadata": {},
     "output_type": "display_data"
    },
    {
     "name": "stdout",
     "output_type": "stream",
     "text": [
      "Number of modes in momentum space:  76  X  76\n",
      "Computing the coefficients in momentum space\n"
     ]
    },
    {
     "data": {
      "application/vnd.jupyter.widget-view+json": {
       "model_id": "6981eac535cc4cdd817af8f87f30ad90",
       "version_major": 2,
       "version_minor": 0
      },
      "text/plain": [
       "  0%|          | 0/5776 [00:00<?, ?it/s]"
      ]
     },
     "metadata": {},
     "output_type": "display_data"
    },
    {
     "name": "stdout",
     "output_type": "stream",
     "text": [
      "Preparing the initial state ...\n",
      "Number of steps:  235\n",
      "---------------------------------\n",
      "10.3%. Run time:   1.91s. Est. time left: 00:00:00:16\n",
      "20.1%. Run time:   3.62s. Est. time left: 00:00:00:14\n",
      "30.3%. Run time:   5.46s. Est. time left: 00:00:00:12\n",
      "40.2%. Run time:   7.22s. Est. time left: 00:00:00:10\n",
      "50.0%. Run time:   9.01s. Est. time left: 00:00:00:09\n",
      "60.3%. Run time:  10.86s. Est. time left: 00:00:00:07\n",
      "70.1%. Run time:  12.63s. Est. time left: 00:00:00:05\n",
      "80.3%. Run time:  14.46s. Est. time left: 00:00:00:03\n",
      "90.2%. Run time:  16.20s. Est. time left: 00:00:00:01\n",
      "100.0%. Run time:  17.97s. Est. time left: 00:00:00:00\n",
      "Total run time:  17.97s\n",
      "Computing occupation numbers ...\n"
     ]
    },
    {
     "data": {
      "application/vnd.jupyter.widget-view+json": {
       "model_id": "94b246686688464ca55bb60b10e2637f",
       "version_major": 2,
       "version_minor": 0
      },
      "text/plain": [
       "  0%|          | 0/235 [00:00<?, ?it/s]"
      ]
     },
     "metadata": {},
     "output_type": "display_data"
    },
    {
     "name": "stdout",
     "output_type": "stream",
     "text": [
      "Number of modes in momentum space:  76  X  76\n",
      "Computing the coefficients in momentum space\n"
     ]
    },
    {
     "data": {
      "application/vnd.jupyter.widget-view+json": {
       "model_id": "94097885823f48f7ad9b096284737029",
       "version_major": 2,
       "version_minor": 0
      },
      "text/plain": [
       "  0%|          | 0/5776 [00:00<?, ?it/s]"
      ]
     },
     "metadata": {},
     "output_type": "display_data"
    },
    {
     "name": "stdout",
     "output_type": "stream",
     "text": [
      "Preparing the initial state ...\n",
      "Number of steps:  235\n",
      "---------------------------------\n",
      "10.3%. Run time:   1.25s. Est. time left: 00:00:00:10\n",
      "20.1%. Run time:   2.41s. Est. time left: 00:00:00:09\n",
      "30.3%. Run time:   3.65s. Est. time left: 00:00:00:08\n",
      "40.2%. Run time:   4.88s. Est. time left: 00:00:00:07\n",
      "50.0%. Run time:   6.12s. Est. time left: 00:00:00:06\n",
      "60.3%. Run time:   7.43s. Est. time left: 00:00:00:04\n",
      "70.1%. Run time:   8.64s. Est. time left: 00:00:00:03\n",
      "80.3%. Run time:   9.88s. Est. time left: 00:00:00:02\n",
      "90.2%. Run time:  11.04s. Est. time left: 00:00:00:01\n",
      "100.0%. Run time:  12.20s. Est. time left: 00:00:00:00\n",
      "Total run time:  12.20s\n",
      "Computing occupation numbers ...\n"
     ]
    },
    {
     "data": {
      "application/vnd.jupyter.widget-view+json": {
       "model_id": "9f3ecd5c2ed84c7daae937d23f9b27b2",
       "version_major": 2,
       "version_minor": 0
      },
      "text/plain": [
       "  0%|          | 0/235 [00:00<?, ?it/s]"
      ]
     },
     "metadata": {},
     "output_type": "display_data"
    }
   ],
   "source": [
    "L = 15*pi\n",
    "T = L/2\n",
    "dt = 0.1\n",
    "\n",
    "#width of the wave packet\n",
    "sigma = L/32\n",
    "sigma_momentum = 1/sigma\n",
    "x_0 = -L/4\n",
    "\n",
    "\n",
    "#Jaynes-Cummings parameter g_0 and energies \n",
    "g_0 = 0.5\n",
    "omega_A = 5\n",
    "\n",
    "omega_0_tab = np.linspace(0.5*omega_A, 1.5*omega_A, 10)\n",
    "reflection_coeff = np.zeros(len(omega_0_tab))\n",
    "transmission_coeff = np.zeros(len(omega_0_tab))\n",
    "\n",
    "for i in tqdm(range(len(omega_0_tab))):\n",
    "    omega_0 = omega_0_tab[i]\n",
    "    t_list, N_k_t, N_A_t, overlap_t, P_x_t, P_y_t = generate_data_2d(L, dx, n_A, sigma, x_0, y_0, g_0, omega_A, omega_0, omega_max, T, dt)\n",
    "    reflection_coeff[i] = P_y_t[-1]\n",
    "    transmission_coeff[i] = P_x_t[-1]"
   ]
  },
  {
   "cell_type": "code",
   "execution_count": 111,
   "metadata": {},
   "outputs": [
    {
     "data": {
      "image/png": "[encoded data removed]",
      "text/plain": [
       "<Figure size 800x800 with 1 Axes>"
      ]
     },
     "metadata": {},
     "output_type": "display_data"
    }
   ],
   "source": [
    "fig, ax = plt.subplots(1, 1, figsize=(4, 4), dpi=200)\n",
    "ax.plot(omega_0_tab, reflection_coeff, label=r\"$R$\", marker='o')\n",
    "ax.plot(omega_0_tab, transmission_coeff, label=r\"$R$\", marker='o')\n",
    "ax.set_xlabel(r\"$\\omega_0$\")\n",
    "ax.set_ylabel(\"Probability\")\n",
    "ax.set_title(\"Reflection and transmission coefficients\")\n",
    "ax.grid()\n",
    "ax.legend()\n",
    "\n",
    "plt.show()"
   ]
  },
  {
   "cell_type": "code",
   "execution_count": null,
   "metadata": {},
   "outputs": [],
   "source": []
  }
 ],
 "metadata": {
  "kernelspec": {
   "display_name": "Python 3",
   "language": "python",
   "name": "python3"
  },
  "language_info": {
   "codemirror_mode": {
    "name": "ipython",
    "version": 3
   },
   "file_extension": ".py",
   "mimetype": "text/x-python",
   "name": "python",
   "nbconvert_exporter": "python",
   "pygments_lexer": "ipython3",
   "version": "3.12.0"
  }
 },
 "nbformat": 4,
 "nbformat_minor": 2
}
