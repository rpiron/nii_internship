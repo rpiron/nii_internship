{
 "cells": [
  {
   "cell_type": "code",
   "execution_count": 1,
   "id": "fea435a6",
   "metadata": {},
   "outputs": [
    {
     "data": {
      "text/html": [
       "<table><tr><th>Software</th><th>Version</th></tr><tr><td>QuTiP</td><td>5.1.1</td></tr><tr><td>Numpy</td><td>1.26.2</td></tr><tr><td>SciPy</td><td>1.11.3</td></tr><tr><td>matplotlib</td><td>3.7.3</td></tr><tr><td>Number of CPUs</td><td>11</td></tr><tr><td>BLAS Info</td><td>Generic</td></tr><tr><td>IPython</td><td>8.17.2</td></tr><tr><td>Python</td><td>3.12.0 (v3.12.0:0fb18b02c8, Oct  2 2023, 09:45:56) [Clang 13.0.0 (clang-1300.0.29.30)]</td></tr><tr><td>OS</td><td>posix [darwin]</td></tr><tr><td>Cython</td><td>3.0.11</td></tr><tr><td colspan='2'>Tue Sep 09 17:36:33 2025 JST</td></tr></table>"
      ],
      "text/plain": [
       "<IPython.core.display.HTML object>"
      ]
     },
     "execution_count": 1,
     "metadata": {},
     "output_type": "execute_result"
    }
   ],
   "source": [
    "import qutip as qt\n",
    "import numpy as np\n",
    "import matplotlib.pyplot as plt\n",
    "from qutip.ipynbtools import version_table\n",
    "from tqdm.notebook import tqdm\n",
    "from matplotlib.animation import FuncAnimation\n",
    "from scipy.linalg import expm\n",
    "import pandas as pd\n",
    "\n",
    "resol = 200\n",
    "pi = np.pi\n",
    "version_table()"
   ]
  },
  {
   "cell_type": "markdown",
   "id": "c2a479ed",
   "metadata": {},
   "source": [
    "<h1> State update </h1>"
   ]
  },
  {
   "cell_type": "code",
   "execution_count": 2,
   "id": "73e4e797",
   "metadata": {},
   "outputs": [],
   "source": [
    "def update_state(c,b,g_0,omega_tab,omega_A,L,t, dt):\n",
    "    \"\"\"\n",
    "    Update the state of the system based on the given parameters.\n",
    "    \n",
    "    Parameters:\n",
    "    c (np array): Coefficients in front of the states |1_k1, 1_k2, 0>\n",
    "    b (np array): Atomic coefficient in front of the state |1_k, 1>\n",
    "    g_0 (float): Coupling strength.\n",
    "    omega_tab (array): Array of frequencies.\n",
    "    L (int): Length of the system.\n",
    "    \n",
    "    Returns:\n",
    "    c_new (np array): Updated coefficients.\n",
    "    b_new (float): Updated atomic coefficient.\n",
    "    \"\"\"\n",
    "    g_matrix = 1j * g_0 * np.sqrt(omega_A / L) * np.exp(-1j * (omega_tab - omega_A) * t)\n",
    "\n",
    "    b_new = 2 * g_matrix @ c\n",
    "    c_new = 0.5 * (b[:, np.newaxis] * np.conjugate(g_matrix)[np.newaxis, :] + np.conjugate(g_matrix)[:, np.newaxis] * b[np.newaxis, :])\n",
    "\n",
    "    return -1j* dt * c_new, -1j * dt * b_new"
   ]
  },
  {
   "cell_type": "markdown",
   "id": "6524da98",
   "metadata": {},
   "source": [
    "<h1> RG Scheme </h1>"
   ]
  },
  {
   "cell_type": "code",
   "execution_count": 3,
   "id": "d5f0a988",
   "metadata": {},
   "outputs": [],
   "source": [
    "def RG_scheme(c_init, b_init, g_0, omega_tab, omega_A, L, T, dt, progress_bar=True):\n",
    "    \"\"\"\n",
    "    Propagates the state of the system using the RG scheme.\n",
    "    \n",
    "    Parameters:\n",
    "    c_init (np array): initial coefficients in front of the states |1_k1, 1_k2, 0>\n",
    "    b_init (np array): initial atomic coefficient in front of the state |1_k, 1>\n",
    "    g_0 (float): Coupling strength.\n",
    "    omega_tab (array): Array of frequencies.\n",
    "    L (float): Length of the system.\n",
    "    T (float): Total time for propagation.\n",
    "    dt (float): Time step for propagation.\n",
    "    \n",
    "    Returns:\n",
    "    c_array (np array): Array of c coefficients at each time step.\n",
    "    b_array (np array): Array of b coefficients at each time step.\n",
    "    \"\"\"\n",
    "\n",
    "    nb_pts_time = int(T / dt)\n",
    "    n_modes = len(c_init)\n",
    "    c_array = np.zeros((nb_pts_time, n_modes, n_modes), dtype=complex)\n",
    "    b_array = np.zeros((nb_pts_time, n_modes), dtype=complex)\n",
    "\n",
    "    # Set the initial conditions\n",
    "    c_array[0] = c_init\n",
    "    b_array[0] = b_init\n",
    "\n",
    "    # Time evolution loop\n",
    "    for i in tqdm(range(1, nb_pts_time), disable=not progress_bar):\n",
    "        t = i * dt\n",
    "        c_current = c_array[i-1]\n",
    "        b_current = b_array[i-1]\n",
    "\n",
    "        c_new_k1, b_new_k1 = update_state(c_current, b_current, g_0, omega_tab, omega_A, L, t, dt)\n",
    "        c_new_k2, b_new_k2 = update_state(c_current + c_new_k1/2, b_current + b_new_k1/2, g_0, omega_tab, omega_A, L, t + dt/2, dt)\n",
    "        c_new_k3, b_new_k3 = update_state(c_current + c_new_k2/2, b_current + b_new_k2/2, g_0, omega_tab, omega_A, L, t + dt/2, dt)\n",
    "        c_new_k4, b_new_k4 = update_state(c_current + c_new_k3, b_current + b_new_k3, g_0, omega_tab, omega_A, L, t + dt, dt)\n",
    "\n",
    "        c_new = c_current + (c_new_k1 + 2*c_new_k2 + 2*c_new_k3 + c_new_k4) / 6\n",
    "        b_new = b_current + (b_new_k1 + 2*b_new_k2 + 2*b_new_k3 + b_new_k4) / 6\n",
    "\n",
    "        c_array[i] = c_new\n",
    "        b_array[i] = b_new\n",
    "\n",
    "    return c_array, b_array \n",
    "    "
   ]
  },
  {
   "cell_type": "markdown",
   "id": "f98a9783",
   "metadata": {},
   "source": [
    "<h1> Function that treats the whole evolution </h1>"
   ]
  },
  {
   "cell_type": "code",
   "execution_count": null,
   "id": "51769c09",
   "metadata": {},
   "outputs": [],
   "source": [
    "def get_data_bs_fast(L, T, dt, omega_0, omega_A, omega_max, g_0, sigma, x_0, x_1, print_info = False, progress_bar=True):\n",
    "    \"\"\"\n",
    "    Generate data for the RG scheme with a beamsplitter.\n",
    "    \n",
    "    Parameters:\n",
    "    L (float): Length of the system.\n",
    "    T (float): Total time for propagation.\n",
    "    dt (float): Time step for propagation.\n",
    "    omega_0 (float): Frequency of the photon\n",
    "    omega_A (float): Frequency of the atom\n",
    "    omega_max (float): Maximum frequency for the modes.\n",
    "    g_0 (float): Coupling strength.\n",
    "    sigma (float): Width of the Gaussian wave packet in position space.\n",
    "    x_0 (float): Position of the first Gaussian peak.\n",
    "    x_1 (float): Position of the second Gaussian peak.\n",
    "    print_nb_modes (bool): Whether to print the number of modes used.\n",
    "    \n",
    "    Returns:\n",
    "    c_array (np array): Coefficients in front of the states |1_k1, 1_k2, 0>.\n",
    "    b_array (np array): Coefficients in front of the state |1_k, 1>.\n",
    "    omega_tab (np array): Array of frequencies.\n",
    "    \"\"\"\n",
    "    \n",
    "    #quantization of the modes\n",
    "    omega_tab_p = np.array([2*pi*n/L for n in range(1000000) if 2*pi*n/L <= omega_max])\n",
    "    k_tab_individual = np.sort(np.unique(np.concatenate((-omega_tab_p, omega_tab_p))))\n",
    "    n_modes = len(k_tab_individual) #number of modes in each waveguide\n",
    "\n",
    "    k_tab = np.concatenate((k_tab_individual, k_tab_individual))\n",
    "    omega_tab = np.abs(k_tab)\n",
    "\n",
    "    if print_info:\n",
    "        print(\"Number of modes: \", n_modes)\n",
    "        print(\"Dimension of the Hilbert space: \", n_modes*(2*n_modes + 3))\n",
    "        \n",
    "    \n",
    "    #prepare the initial state\n",
    "    if print_info:\n",
    "        print(\"Preparing the initial state...\")\n",
    "    c_init = np.zeros((2*n_modes, 2*n_modes), dtype=complex)\n",
    "    b_init = np.zeros(2*n_modes, dtype=complex)\n",
    "\n",
    "    c_init_photon_1 = np.exp(-(0.5*(k_tab_individual - omega_0)**2) * sigma**2) * np.exp(-1j * k_tab_individual * x_0)\n",
    "    c_init_photon_1 = np.concatenate((c_init_photon_1, np.zeros(n_modes))) #photon in the first waveguide\n",
    "    c_init_photon_2 = np.exp(-(0.5*(k_tab_individual - omega_0)**2) * sigma**2) * np.exp(-1j * k_tab_individual *x_1)\n",
    "    c_init_photon_2 = np.concatenate((np.zeros(n_modes), c_init_photon_2)) #photon in the second waveguide\n",
    "\n",
    "    #make photons indistinguishable\n",
    "    c_init = c_init_photon_1[:, np.newaxis] * c_init_photon_2[np.newaxis, :] + c_init_photon_2[:, np.newaxis] * c_init_photon_1[np.newaxis, :]\n",
    "    np.fill_diagonal(c_init, c_init_photon_1 * c_init_photon_2) #correct the factor 2 on the diagonal\n",
    "    c_init /= 2 \n",
    "    #normalize the state\n",
    "    c_init /= np.sqrt(np.sum(np.conjugate(c_init) * c_init))\n",
    "\n",
    "    ##evolve the state\n",
    "    if print_info:\n",
    "        print(\"Evolving the state...\")\n",
    "    c_array, b_array = RG_scheme(c_init, b_init, g_0, omega_tab, omega_A, L, T, dt, progress_bar=progress_bar)\n",
    "\n",
    "    ##compute the overlap with the initial state\n",
    "    if print_info:\n",
    "        print(\"Computing the overlap with the initial state...\")\n",
    "    overlap_tab = np.zeros(int(T / dt))\n",
    "\n",
    "    for i in tqdm(range(int(T / dt))):\n",
    "        c_current = c_array[i]\n",
    "        b_current = b_array[i]\n",
    "        overlap_tab[i] = np.abs(np.sum(np.conjugate(c_init) * c_current))**2 + np.abs(np.conjugate(b_init) @ b_current)**2\n",
    "\n",
    "    return c_array, b_array, overlap_tab"
   ]
  },
  {
   "cell_type": "markdown",
   "id": "f190a787",
   "metadata": {},
   "source": [
    "<h1> First test </h1>"
   ]
  },
  {
   "cell_type": "code",
   "execution_count": 72,
   "id": "a1e524e2",
   "metadata": {},
   "outputs": [
    {
     "name": "stdout",
     "output_type": "stream",
     "text": [
      "Gamma =  8\n",
      "Number of modes:  101\n",
      "Dimension of the Hilbert space:  20705\n",
      "Preparing the initial state...\n",
      "Evolving the state...\n"
     ]
    },
    {
     "data": {
      "application/vnd.jupyter.widget-view+json": {
       "model_id": "4f0957ef3a7b4efc897e246add195ad5",
       "version_major": 2,
       "version_minor": 0
      },
      "text/plain": [
       "  0%|          | 0/1569 [00:00<?, ?it/s]"
      ]
     },
     "metadata": {},
     "output_type": "display_data"
    },
    {
     "name": "stdout",
     "output_type": "stream",
     "text": [
      "Computing the overlap with the initial state...\n"
     ]
    },
    {
     "data": {
      "application/vnd.jupyter.widget-view+json": {
       "model_id": "416729a9924843bb8e5d9fcfba2d1182",
       "version_major": 2,
       "version_minor": 0
      },
      "text/plain": [
       "  0%|          | 0/1570 [00:00<?, ?it/s]"
      ]
     },
     "metadata": {},
     "output_type": "display_data"
    }
   ],
   "source": [
    "L = 10*pi\n",
    "T = L/2\n",
    "dt = 0.01\n",
    "\n",
    "#Jaynes-Cummings parameter g_0 and energies \n",
    "g_0 = 2\n",
    "omega_A = 1\n",
    "gamma = 2*g_0**2*omega_A\n",
    "print(\"Gamma = \", gamma)\n",
    "\n",
    "#initial photon wavepacket parameters\n",
    "sigma = L/16\n",
    "sigma_momentum = 1/sigma\n",
    "delta_x = sigma/2\n",
    "x_0 = -L/4\n",
    "x_1 = -L/4 + delta_x\n",
    "omega_0 = omega_A + gamma/2\n",
    "\n",
    "#numerical implementation of momentum space\n",
    "omega_max = 10\n",
    "\n",
    "c_array, b_array, overlap_tab = get_data_bs_fast(L, T, dt, omega_0, omega_A, omega_max, g_0, sigma, x_0, x_1, print_info = True, progress_bar=True)"
   ]
  },
  {
   "cell_type": "markdown",
   "id": "1df5f308",
   "metadata": {},
   "source": [
    "<h1> Coherence and atom excitation </h1>"
   ]
  },
  {
   "cell_type": "code",
   "execution_count": 73,
   "id": "36e4f6c6",
   "metadata": {},
   "outputs": [
    {
     "data": {
      "application/vnd.jupyter.widget-view+json": {
       "model_id": "3fd88997b08d49279bb7bd7d64e2bf2f",
       "version_major": 2,
       "version_minor": 0
      },
      "text/plain": [
       "  0%|          | 0/1570 [00:00<?, ?it/s]"
      ]
     },
     "metadata": {},
     "output_type": "display_data"
    }
   ],
   "source": [
    "time_array = np.linspace(0, T, int(T / dt))\n",
    "\n",
    "nb_pts_time = int(T / dt)\n",
    "atom_excitation = np.zeros(nb_pts_time)\n",
    "coherence = np.zeros(nb_pts_time)\n",
    "\n",
    "#get the number of modes\n",
    "n_modes = c_array[0].shape[0] // 2\n",
    "\n",
    "for i in tqdm(range(nb_pts_time)):\n",
    "    c_current, b_current = c_array[i], b_array[i]\n",
    "    atom_excitation[i] = np.sum(np.abs(b_current)**2)\n",
    "    #for a in range(n_modes):\n",
    "    #    for b in range(n_modes):\n",
    "    #        coherence[i] += np.abs( c_current[a, n_modes + b] * np.conjugate(c_current[a, n_modes + b])) + np.abs( c_current[n_modes + a, b] * np.conjugate(c_current[n_modes + a, b]))"
   ]
  },
  {
   "cell_type": "code",
   "execution_count": 74,
   "id": "c544f6b9",
   "metadata": {},
   "outputs": [
    {
     "data": {
      "image/png": "[encoded data removed]",
      "text/plain": [
       "<Figure size 600x600 with 1 Axes>"
      ]
     },
     "metadata": {},
     "output_type": "display_data"
    }
   ],
   "source": [
    "fig, ax = plt.subplots(1,1, figsize=(3,3), dpi=resol)\n",
    "ax.plot(time_array, overlap_tab, label='Overlap', color='green')\n",
    "#ax.plot(time_array, coherence,label='Coherence', linestyle='-', color='blue', alpha=0.5)\n",
    "ax.plot(time_array, atom_excitation,label='Atom', linestyle='--', color='red')\n",
    "ax.set_xlabel('Time')\n",
    "ax.set_ylabel('Probability')\n",
    "ax.legend()\n",
    "ax.grid()\n",
    "\n",
    "plt.show()"
   ]
  },
  {
   "cell_type": "markdown",
   "id": "afec05e0",
   "metadata": {},
   "source": [
    "Sanity check : HOM effect"
   ]
  },
  {
   "cell_type": "code",
   "execution_count": 75,
   "id": "9dd83d90",
   "metadata": {},
   "outputs": [
    {
     "name": "stdout",
     "output_type": "stream",
     "text": [
      "Final overlap:  0.4030756604905933\n",
      "Theorytical value:  0.05875154870770233\n"
     ]
    }
   ],
   "source": [
    "print(\"Final overlap: \", overlap_tab[-1])\n",
    "print(\"Theorytical value: \", 0.5 * (1 - np.exp(-0.5 * (np.abs(x_0 - x_1) / sigma)**2)))"
   ]
  },
  {
   "cell_type": "markdown",
   "id": "18bddba9",
   "metadata": {},
   "source": [
    "<h1> Reproduce a HOM effect </h1>"
   ]
  },
  {
   "cell_type": "code",
   "execution_count": 80,
   "id": "8b26adec",
   "metadata": {},
   "outputs": [
    {
     "name": "stdout",
     "output_type": "stream",
     "text": [
      "Running for x_1 = -5.89\n"
     ]
    },
    {
     "data": {
      "application/vnd.jupyter.widget-view+json": {
       "model_id": "2dac269532fa4063a504c5ec0651fbc9",
       "version_major": 2,
       "version_minor": 0
      },
      "text/plain": [
       "  0%|          | 0/7853 [00:00<?, ?it/s]"
      ]
     },
     "metadata": {},
     "output_type": "display_data"
    },
    {
     "name": "stdout",
     "output_type": "stream",
     "text": [
      "Running for x_1 = -5.24\n"
     ]
    },
    {
     "data": {
      "application/vnd.jupyter.widget-view+json": {
       "model_id": "a76b99fe894b421480344ce4a37e90cc",
       "version_major": 2,
       "version_minor": 0
      },
      "text/plain": [
       "  0%|          | 0/7853 [00:00<?, ?it/s]"
      ]
     },
     "metadata": {},
     "output_type": "display_data"
    },
    {
     "name": "stdout",
     "output_type": "stream",
     "text": [
      "Running for x_1 = -4.58\n"
     ]
    },
    {
     "data": {
      "application/vnd.jupyter.widget-view+json": {
       "model_id": "2f2b90b6251342f990130a851dbea73b",
       "version_major": 2,
       "version_minor": 0
      },
      "text/plain": [
       "  0%|          | 0/7853 [00:00<?, ?it/s]"
      ]
     },
     "metadata": {},
     "output_type": "display_data"
    },
    {
     "name": "stdout",
     "output_type": "stream",
     "text": [
      "Running for x_1 = -3.93\n"
     ]
    },
    {
     "data": {
      "application/vnd.jupyter.widget-view+json": {
       "model_id": "fb975df14a77488cba7cdb173939bf92",
       "version_major": 2,
       "version_minor": 0
      },
      "text/plain": [
       "  0%|          | 0/7853 [00:00<?, ?it/s]"
      ]
     },
     "metadata": {},
     "output_type": "display_data"
    },
    {
     "name": "stdout",
     "output_type": "stream",
     "text": [
      "Running for x_1 = -3.27\n"
     ]
    },
    {
     "data": {
      "application/vnd.jupyter.widget-view+json": {
       "model_id": "7d1481d1ebaa45b3ab438d50ef623c92",
       "version_major": 2,
       "version_minor": 0
      },
      "text/plain": [
       "  0%|          | 0/7853 [00:00<?, ?it/s]"
      ]
     },
     "metadata": {},
     "output_type": "display_data"
    },
    {
     "name": "stdout",
     "output_type": "stream",
     "text": [
      "Running for x_1 = -2.62\n"
     ]
    },
    {
     "data": {
      "application/vnd.jupyter.widget-view+json": {
       "model_id": "2b4e6bb826ad4fdf9420b460bb1f4d09",
       "version_major": 2,
       "version_minor": 0
      },
      "text/plain": [
       "  0%|          | 0/7853 [00:00<?, ?it/s]"
      ]
     },
     "metadata": {},
     "output_type": "display_data"
    },
    {
     "name": "stdout",
     "output_type": "stream",
     "text": [
      "Running for x_1 = -1.96\n"
     ]
    },
    {
     "data": {
      "application/vnd.jupyter.widget-view+json": {
       "model_id": "5fa0ecd8078e407eb51f99519a9274b5",
       "version_major": 2,
       "version_minor": 0
      },
      "text/plain": [
       "  0%|          | 0/7853 [00:00<?, ?it/s]"
      ]
     },
     "metadata": {},
     "output_type": "display_data"
    }
   ],
   "source": [
    "#Lenght of the system and time parameters\n",
    "L = 5*pi\n",
    "T = L/2\n",
    "dt = 0.001\n",
    "\n",
    "#Jaynes-Cummings parameter g_0 and energies \n",
    "g_0 = 10\n",
    "omega_A = 10\n",
    "gamma = 2*g_0**2*omega_A\n",
    "\n",
    "#initial photon wavepacket parameters\n",
    "sigma = L/16\n",
    "sigma_momentum = 1/sigma\n",
    "omega_0 = 13\n",
    "\n",
    "#numerical implementation of momentum space\n",
    "omega_max = 15\n",
    "\n",
    "nb_pts_x = 7\n",
    "overlap_final_tab = np.zeros(nb_pts_x)\n",
    "x_0 = -L/4\n",
    "\n",
    "for i, delta_x in enumerate(np.linspace(-L/8, L/8, nb_pts_x)):\n",
    "    x_1 = -L/4 + delta_x\n",
    "    print(f\"Running for x_1 = {x_1:.2f}\")\n",
    "    c_array, b_array, overlap_tab = get_data_bs_fast(L, T, dt, omega_0, omega_A, omega_max, g_0, sigma, x_0, x_1, print_info = False, progress_bar=False)\n",
    "    overlap_final_tab[i] = overlap_tab[-1]"
   ]
  },
  {
   "cell_type": "markdown",
   "id": "c6baeb83",
   "metadata": {},
   "source": [
    "Now check the results"
   ]
  },
  {
   "cell_type": "code",
   "execution_count": 83,
   "id": "d79565eb",
   "metadata": {},
   "outputs": [
    {
     "data": {
      "image/png": "[encoded data removed]",
      "text/plain": [
       "<Figure size 600x600 with 1 Axes>"
      ]
     },
     "metadata": {},
     "output_type": "display_data"
    }
   ],
   "source": [
    "theory_delta_x = np.linspace(-L/8, L/8, 100)\n",
    "theory_curve = 0.5 * (1 - np.exp(-0.5 * (theory_delta_x / sigma)**2))\n",
    "\n",
    "fig, ax = plt.subplots(1,1, figsize=(3,3), dpi=resol)\n",
    "ax.plot(np.linspace(-L/8, L/8, nb_pts_x), overlap_final_tab, marker='o', linestyle='', label='Numerical', color='red')\n",
    "ax.plot(theory_delta_x, theory_curve, label='Theory', color='blue', linestyle='--')\n",
    "ax.set_xlabel(r'$\\Delta x$')\n",
    "ax.set_ylabel('Overlap final value')\n",
    "ax.legend()\n",
    "ax.grid()\n",
    "plt.show()\n",
    "\n"
   ]
  },
  {
   "cell_type": "markdown",
   "id": "02c640a5",
   "metadata": {},
   "source": [
    "<h1> Check that the state is correctly initialized </h1>"
   ]
  },
  {
   "cell_type": "code",
   "execution_count": 76,
   "id": "bf385a77",
   "metadata": {},
   "outputs": [],
   "source": [
    "#Lenght of the system \n",
    "L = 5*pi\n",
    "\n",
    "#Jaynes-Cummings parameter g_0 and energies \n",
    "g_0 = 10\n",
    "omega_A = 10\n",
    "\n",
    "#initial photon wavepacket parameters\n",
    "sigma = L/16\n",
    "sigma_momentum = 1/sigma\n",
    "omega_0 = 13\n",
    "\n",
    "omega_max = 20\n",
    "\n",
    "#quantization of the modes\n",
    "omega_tab_p = np.array([2*pi*n/L for n in range(1000000) if 2*pi*n/L <= omega_max])\n",
    "k_tab_individual = np.sort(np.unique(np.concatenate((-omega_tab_p, omega_tab_p))))\n",
    "n_modes = len(k_tab_individual) #number of modes in each waveguide\n",
    "\n",
    "k_tab = np.concatenate((k_tab_individual, k_tab_individual))\n",
    "omega_tab = np.abs(k_tab)\n",
    "\n",
    "#prepare the initial state\n",
    "\n",
    "c_init = np.zeros((2*n_modes, 2*n_modes), dtype=complex)\n",
    "b_init = np.zeros(2*n_modes, dtype=complex)\n",
    "\n",
    "c_init_photon_1 = np.exp(-(0.5*(k_tab_individual - omega_0)**2) * sigma**2) * np.exp(-1j * k_tab_individual * x_0)\n",
    "c_init_photon_1 /= np.sqrt(np.sum(np.conjugate(c_init_photon_1) * c_init_photon_1)) #normalize the wavepacket\n",
    "c_init_photon_1 = np.concatenate((c_init_photon_1, np.zeros(n_modes))) #only one photon in the first wire\n",
    "\n",
    "    \n",
    "c_init_photon_2 = np.exp(-(0.5*(k_tab_individual - omega_0)**2) * sigma**2) * np.exp(-1j * k_tab_individual * x_1)\n",
    "c_init_photon_2 /= np.sqrt(np.sum(np.conjugate(c_init_photon_2) * c_init_photon_2)) #normalize the wavepacket\n",
    "c_init_photon_2 = np.concatenate((np.zeros(n_modes), c_init_photon_2)) #only one photon in the second wire\n",
    "\n",
    "#make photons indistinguishable\n",
    "c_init = 0.5 * (c_init_photon_1[:, np.newaxis] * c_init_photon_2[np.newaxis, :] + c_init_photon_2[:, np.newaxis] * c_init_photon_1[np.newaxis, :]) #symmetrize the stat\n"
   ]
  }
 ],
 "metadata": {
  "kernelspec": {
   "display_name": "Python 3",
   "language": "python",
   "name": "python3"
  },
  "language_info": {
   "codemirror_mode": {
    "name": "ipython",
    "version": 3
   },
   "file_extension": ".py",
   "mimetype": "text/x-python",
   "name": "python",
   "nbconvert_exporter": "python",
   "pygments_lexer": "ipython3",
   "version": "3.12.0"
  }
 },
 "nbformat": 4,
 "nbformat_minor": 5
}
