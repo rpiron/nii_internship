{
 "cells": [
  {
   "cell_type": "code",
   "execution_count": 1,
   "id": "fea435a6",
   "metadata": {},
   "outputs": [
    {
     "data": {
      "text/html": [
       "<table><tr><th>Software</th><th>Version</th></tr><tr><td>QuTiP</td><td>5.1.1</td></tr><tr><td>Numpy</td><td>1.26.2</td></tr><tr><td>SciPy</td><td>1.11.3</td></tr><tr><td>matplotlib</td><td>3.7.3</td></tr><tr><td>Number of CPUs</td><td>11</td></tr><tr><td>BLAS Info</td><td>Generic</td></tr><tr><td>IPython</td><td>8.17.2</td></tr><tr><td>Python</td><td>3.12.0 (v3.12.0:0fb18b02c8, Oct  2 2023, 09:45:56) [Clang 13.0.0 (clang-1300.0.29.30)]</td></tr><tr><td>OS</td><td>posix [darwin]</td></tr><tr><td>Cython</td><td>3.0.11</td></tr><tr><td colspan='2'>Wed Sep 10 15:10:14 2025 JST</td></tr></table>"
      ],
      "text/plain": [
       "<IPython.core.display.HTML object>"
      ]
     },
     "execution_count": 1,
     "metadata": {},
     "output_type": "execute_result"
    }
   ],
   "source": [
    "import qutip as qt\n",
    "import numpy as np\n",
    "import matplotlib.pyplot as plt\n",
    "from qutip.ipynbtools import version_table\n",
    "from tqdm.notebook import tqdm\n",
    "from matplotlib.animation import FuncAnimation\n",
    "from scipy.linalg import expm\n",
    "import pandas as pd\n",
    "\n",
    "resol = 200\n",
    "pi = np.pi\n",
    "version_table()"
   ]
  },
  {
   "cell_type": "markdown",
   "id": "c2a479ed",
   "metadata": {},
   "source": [
    "<h1> State update </h1>"
   ]
  },
  {
   "cell_type": "code",
   "execution_count": 49,
   "id": "73e4e797",
   "metadata": {},
   "outputs": [],
   "source": [
    "def update_state(c,b,g_0,omega_tab,omega_A,L,t, dt):\n",
    "    \"\"\"\n",
    "    Update the state of the system based on the given parameters.\n",
    "    \n",
    "    Parameters:\n",
    "    c (np array): Coefficients in front of the states |1_k1, 1_k2, 0>\n",
    "    b (np array): Atomic coefficient in front of the state |1_k, 1>\n",
    "    g_0 (float): Coupling strength.\n",
    "    omega_tab (array): Array of frequencies.\n",
    "    L (int): Length of the system.\n",
    "    \n",
    "    Returns:\n",
    "    c_new (np array): Updated coefficients.\n",
    "    b_new (float): Updated atomic coefficient.\n",
    "    \"\"\"\n",
    "    g_matrix_individual = 1j * g_0 * np.sqrt(omega_A / L) * np.exp(-1j * (omega_tab - omega_A) * t)\n",
    "    g_matrix = np.concatenate((g_matrix_individual, g_matrix_individual))\n",
    "\n",
    "    c_new = b[:, np.newaxis] * np.conjugate(g_matrix)[np.newaxis, :]\n",
    "    b_new = c @ g_matrix + g_matrix.T @ c\n",
    "\n",
    "    return -1j* dt * c_new, -1j * dt * b_new"
   ]
  },
  {
   "cell_type": "markdown",
   "id": "6524da98",
   "metadata": {},
   "source": [
    "<h1> RG Scheme </h1>"
   ]
  },
  {
   "cell_type": "code",
   "execution_count": 50,
   "id": "d5f0a988",
   "metadata": {},
   "outputs": [],
   "source": [
    "def RG_scheme(c_init, b_init, g_0, omega_tab, omega_A, L, T, dt, progress_bar=True):\n",
    "    \"\"\"\n",
    "    Propagates the state of the system using the RG scheme.\n",
    "    \n",
    "    Parameters:\n",
    "    c_init (np array): initial coefficients in front of the states |1_k1, 1_k2, 0>\n",
    "    b_init (np array): initial atomic coefficient in front of the state |1_k, 1>\n",
    "    g_0 (float): Coupling strength.\n",
    "    omega_tab (array): Array of frequencies.\n",
    "    L (float): Length of the system.\n",
    "    T (float): Total time for propagation.\n",
    "    dt (float): Time step for propagation.\n",
    "    \n",
    "    Returns:\n",
    "    c_array (np array): Array of c coefficients at each time step.\n",
    "    b_array (np array): Array of b coefficients at each time step.\n",
    "    \"\"\"\n",
    "\n",
    "    nb_pts_time = int(T / dt)\n",
    "    n_modes = len(omega_tab)\n",
    "    c_array = np.zeros((nb_pts_time, 2*n_modes, 2*n_modes), dtype=complex)\n",
    "    b_array = np.zeros((nb_pts_time, 2*n_modes), dtype=complex)\n",
    "\n",
    "    # Set the initial conditions\n",
    "    c_array[0] = c_init\n",
    "    b_array[0] = b_init\n",
    "\n",
    "    # Time evolution loop\n",
    "    for i in tqdm(range(1, nb_pts_time), disable=not progress_bar):\n",
    "        t = i * dt\n",
    "        c_current = c_array[i-1]\n",
    "        b_current = b_array[i-1]\n",
    "\n",
    "        c_new_k1, b_new_k1 = update_state(c_current, b_current, g_0, omega_tab, omega_A, L, t, dt)\n",
    "        c_new_k2, b_new_k2 = update_state(c_current + c_new_k1/2, b_current + b_new_k1/2, g_0, omega_tab, omega_A, L, t + dt/2, dt)\n",
    "        c_new_k3, b_new_k3 = update_state(c_current + c_new_k2/2, b_current + b_new_k2/2, g_0, omega_tab, omega_A, L, t + dt/2, dt)\n",
    "        c_new_k4, b_new_k4 = update_state(c_current + c_new_k3, b_current + b_new_k3, g_0, omega_tab, omega_A, L, t + dt, dt)\n",
    "\n",
    "        c_new = c_current + (c_new_k1 + 2*c_new_k2 + 2*c_new_k3 + c_new_k4) / 6\n",
    "        b_new = b_current + (b_new_k1 + 2*b_new_k2 + 2*b_new_k3 + b_new_k4) / 6\n",
    "\n",
    "        c_array[i] = c_new\n",
    "        b_array[i] = b_new\n",
    "\n",
    "    return c_array, b_array \n",
    "    "
   ]
  },
  {
   "cell_type": "markdown",
   "id": "f98a9783",
   "metadata": {},
   "source": [
    "<h1> Function that treats the whole evolution </h1>"
   ]
  },
  {
   "cell_type": "code",
   "execution_count": 52,
   "id": "51769c09",
   "metadata": {},
   "outputs": [],
   "source": [
    "def get_data_bs_fast(L, T, dt, omega_0, omega_A, omega_max, g_0, sigma, x_0, x_1, print_info = False, progress_bar=True):\n",
    "    \"\"\"\n",
    "    Generate data for the RG scheme with a beamsplitter.\n",
    "    \n",
    "    Parameters:\n",
    "    L (float): Length of the system.\n",
    "    T (float): Total time for propagation.\n",
    "    dt (float): Time step for propagation.\n",
    "    omega_0 (float): Frequency of the photon\n",
    "    omega_A (float): Frequency of the atom\n",
    "    omega_max (float): Maximum frequency for the modes.\n",
    "    g_0 (float): Coupling strength.\n",
    "    sigma (float): Width of the Gaussian wave packet in position space.\n",
    "    x_0 (float): Position of the first Gaussian peak.\n",
    "    x_1 (float): Position of the second Gaussian peak.\n",
    "    print_nb_modes (bool): Whether to print the number of modes used.\n",
    "    \n",
    "    Returns:\n",
    "    c_array (np array): Coefficients in front of the states |1_k1, 1_k2, 0>.\n",
    "    b_array (np array): Coefficients in front of the state |1_k, 1>.\n",
    "    overlap_tab (np array): Array of overlaps with the initial state.\n",
    "    \"\"\"\n",
    "    \n",
    "    #quantization of the modes\n",
    "    omega_tab_p = np.array([2*pi*n/L for n in range(1000000) if 2*pi*n/L <= omega_max])\n",
    "    k_tab_individual = np.sort(np.unique(np.concatenate((-omega_tab_p, omega_tab_p))))\n",
    "    n_modes = len(k_tab_individual) #number of modes in each waveguide\n",
    "    omega_tab_individual = np.abs(k_tab_individual)\n",
    "\n",
    "    if print_info:\n",
    "        print(\"Number of modes: \", n_modes)\n",
    "        print(\"Dimension of the Hilbert space: \", n_modes*(2*n_modes + 3))\n",
    "        \n",
    "    \n",
    "    #prepare the initial state\n",
    "    if print_info:\n",
    "        print(\"Preparing the initial state...\")\n",
    "    c_init = np.zeros((2*n_modes, 2*n_modes), dtype=complex)\n",
    "    b_init = np.zeros(2*n_modes, dtype=complex)\n",
    "\n",
    "    for a in range(n_modes):\n",
    "        for b in range(n_modes):\n",
    "            k_a = k_tab_individual[a]\n",
    "            k_b = k_tab_individual[b]\n",
    "            c_a = np.exp(-0.5*sigma**2*(k_a - omega_0)**2 -1j * k_a * x_0)\n",
    "            c_b = np.exp(-0.5*sigma**2*(k_b - omega_0)**2 -1j * k_b * x_1)\n",
    "\n",
    "            c_init[a, n_modes + b] = c_a * c_b\n",
    "\n",
    "    # Normalize the initial state\n",
    "    norm = np.sqrt(np.sum(np.abs(c_init)**2))\n",
    "    c_init /= norm\n",
    "\n",
    "    ##evolve the state\n",
    "    if print_info:\n",
    "        print(\"Evolving the state...\")\n",
    "    c_array, b_array = RG_scheme(c_init, b_init, g_0, omega_tab_individual, omega_A, L, T, dt, progress_bar=progress_bar)\n",
    "\n",
    "    ##compute the overlap with the initial state\n",
    "    if print_info:\n",
    "        print(\"Computing the overlap with the initial state...\")\n",
    "    overlap_tab = np.zeros(int(T / dt))\n",
    "\n",
    "    for i in tqdm(range(int(T / dt)), disable=not progress_bar):\n",
    "        c_current = c_array[i]\n",
    "        b_current = b_array[i]\n",
    "        overlap_tab[i] = np.abs(np.sum(np.conjugate(c_init) * c_current))**2 + np.abs(np.conjugate(b_init) @ b_current)**2\n",
    "\n",
    "    return c_array, b_array, overlap_tab"
   ]
  },
  {
   "cell_type": "markdown",
   "id": "f190a787",
   "metadata": {},
   "source": [
    "<h1> First test </h1>"
   ]
  },
  {
   "cell_type": "markdown",
   "id": "e442b3a5",
   "metadata": {},
   "source": [
    "Some checks"
   ]
  },
  {
   "cell_type": "code",
   "execution_count": 53,
   "id": "1fe6e6ef",
   "metadata": {},
   "outputs": [
    {
     "name": "stdout",
     "output_type": "stream",
     "text": [
      "50% Reflectivity for omega_0_m =  0  and omega_0_p =  6\n"
     ]
    }
   ],
   "source": [
    "L = 10*pi\n",
    "T = L/2\n",
    "dt = 0.005\n",
    "\n",
    "#Jaynes-Cummings parameter g_0 and energies \n",
    "g_0 = 1\n",
    "omega_A = 3\n",
    "omega_0 = 6.6\n",
    "omega_max = 10\n",
    "\n",
    "#initial photon wavepacket parameters\n",
    "sigma = L/16\n",
    "sigma_momentum = 1/sigma\n",
    "\n",
    "x_0 = -L/4\n",
    "delta_x = 0\n",
    "x_1 = x_0 + delta_x\n",
    "\n",
    "#check some parameters\n",
    "gamma = g_0**2 * omega_A\n",
    "print(\"50% Reflectivity for omega_0_m = \", omega_A - gamma, \" and omega_0_p = \", omega_A + gamma)"
   ]
  },
  {
   "cell_type": "markdown",
   "id": "37208350",
   "metadata": {},
   "source": [
    "Run the calculations"
   ]
  },
  {
   "cell_type": "code",
   "execution_count": 54,
   "id": "a1e524e2",
   "metadata": {},
   "outputs": [
    {
     "name": "stdout",
     "output_type": "stream",
     "text": [
      "Number of modes:  101\n",
      "Dimension of the Hilbert space:  20705\n",
      "Preparing the initial state...\n",
      "Evolving the state...\n"
     ]
    },
    {
     "data": {
      "application/vnd.jupyter.widget-view+json": {
       "model_id": "f5d1bbafa138401888f09693d4e2ef90",
       "version_major": 2,
       "version_minor": 0
      },
      "text/plain": [
       "  0%|          | 0/3140 [00:00<?, ?it/s]"
      ]
     },
     "metadata": {},
     "output_type": "display_data"
    },
    {
     "name": "stdout",
     "output_type": "stream",
     "text": [
      "Computing the overlap with the initial state...\n"
     ]
    },
    {
     "data": {
      "application/vnd.jupyter.widget-view+json": {
       "model_id": "327b9979d3f64adc949dfada579e624a",
       "version_major": 2,
       "version_minor": 0
      },
      "text/plain": [
       "  0%|          | 0/3141 [00:00<?, ?it/s]"
      ]
     },
     "metadata": {},
     "output_type": "display_data"
    }
   ],
   "source": [
    "c_array, b_array, overlap_tab = get_data_bs_fast(L, T, dt, omega_0, omega_A, omega_max, g_0, sigma, x_0, x_1, print_info = True, progress_bar=True)"
   ]
  },
  {
   "cell_type": "markdown",
   "id": "1df5f308",
   "metadata": {},
   "source": [
    "<h1> Coherence and atom excitation </h1>"
   ]
  },
  {
   "cell_type": "code",
   "execution_count": 55,
   "id": "36e4f6c6",
   "metadata": {},
   "outputs": [
    {
     "data": {
      "application/vnd.jupyter.widget-view+json": {
       "model_id": "73dc71a359b64f0e9beb3a9a2f64ea29",
       "version_major": 2,
       "version_minor": 0
      },
      "text/plain": [
       "  0%|          | 0/3141 [00:00<?, ?it/s]"
      ]
     },
     "metadata": {},
     "output_type": "display_data"
    }
   ],
   "source": [
    "time_array = np.linspace(0, T, int(T / dt))\n",
    "\n",
    "nb_pts_time = int(T / dt)\n",
    "atom_excitation = np.zeros(nb_pts_time)\n",
    "\n",
    "#get the number of modes\n",
    "n_modes = c_array[0].shape[0] // 2\n",
    "\n",
    "for i in tqdm(range(nb_pts_time)):\n",
    "    c_current, b_current = c_array[i], b_array[i]\n",
    "    atom_excitation[i] = np.sum(np.abs(b_current)**2)"
   ]
  },
  {
   "cell_type": "code",
   "execution_count": 56,
   "id": "c544f6b9",
   "metadata": {},
   "outputs": [
    {
     "data": {
      "image/png": "[encoded data removed]",
      "text/plain": [
       "<Figure size 600x600 with 1 Axes>"
      ]
     },
     "metadata": {},
     "output_type": "display_data"
    }
   ],
   "source": [
    "fig, ax = plt.subplots(1,1, figsize=(3,3), dpi=resol)\n",
    "ax.plot(time_array, overlap_tab, label='Overlap', color='green')\n",
    "#ax.plot(time_array, coherence,label='Coherence', linestyle='-', color='blue', alpha=0.5)\n",
    "ax.plot(time_array, atom_excitation,label='Atom', linestyle='--', color='red')\n",
    "ax.set_xlabel('Time')\n",
    "ax.set_ylabel('Probability')\n",
    "ax.legend()\n",
    "ax.grid()\n",
    "\n",
    "plt.show()"
   ]
  },
  {
   "cell_type": "markdown",
   "id": "afec05e0",
   "metadata": {},
   "source": [
    "Sanity check : HOM effect"
   ]
  },
  {
   "cell_type": "code",
   "execution_count": 46,
   "id": "9dd83d90",
   "metadata": {},
   "outputs": [
    {
     "name": "stdout",
     "output_type": "stream",
     "text": [
      "Final overlap:  0.4165921330053093\n",
      "Theorytical value:  0.19673467014368334\n"
     ]
    }
   ],
   "source": [
    "print(\"Final overlap: \", overlap_tab[-1])\n",
    "print(\"Theorytical value: \", 0.5 * (1 - np.exp(-0.5 * (np.abs(x_0 - x_1) / sigma)**2)))"
   ]
  },
  {
   "cell_type": "markdown",
   "id": "e60bc913",
   "metadata": {},
   "source": [
    "<h1> HOM effect ? </h1>"
   ]
  },
  {
   "cell_type": "code",
   "execution_count": 47,
   "id": "b54b04d6",
   "metadata": {},
   "outputs": [
    {
     "data": {
      "application/vnd.jupyter.widget-view+json": {
       "model_id": "abd307dcfbb74291adb64d7c089a3be2",
       "version_major": 2,
       "version_minor": 0
      },
      "text/plain": [
       "  0%|          | 0/9 [00:00<?, ?it/s]"
      ]
     },
     "metadata": {},
     "output_type": "display_data"
    }
   ],
   "source": [
    "L = 5*pi\n",
    "T = L/2\n",
    "dt = 0.005\n",
    "\n",
    "#Jaynes-Cummings parameter g_0 and energies \n",
    "g_0 = 1\n",
    "omega_A = 1\n",
    "omega_0 = 2\n",
    "omega_max = 5\n",
    "\n",
    "#initial photon wavepacket parameters\n",
    "sigma = L/16\n",
    "sigma_momentum = 1/sigma\n",
    "x_0 = -L/4\n",
    "\n",
    "#prepare several values of delta_x\n",
    "nb_pts_x = 9\n",
    "delta_x_tab = np.linspace(-3*sigma, 3*sigma, nb_pts_x)\n",
    "final_overlap_free_tab = np.zeros(nb_pts_x)\n",
    "\n",
    "for i in tqdm(range(nb_pts_x)):\n",
    "    delta_x = delta_x_tab[i]\n",
    "    x_1 = x_0 + delta_x\n",
    "    c_array, b_array, overlap_tab = get_data_bs_fast(L, T, dt, omega_0, omega_A, omega_max, g_0, sigma, x_0, x_1, print_info = False, progress_bar=False)\n",
    "    final_overlap_free_tab[i] = overlap_tab[-1]"
   ]
  },
  {
   "cell_type": "code",
   "execution_count": 48,
   "id": "85ae27b4",
   "metadata": {},
   "outputs": [
    {
     "data": {
      "image/png": "[encoded data removed]",
      "text/plain": [
       "<Figure size 400x400 with 1 Axes>"
      ]
     },
     "metadata": {},
     "output_type": "display_data"
    }
   ],
   "source": [
    "delta_x_theory = np.linspace(-3*sigma, 3*sigma, 100)\n",
    "overlap_theory = 0.5*(1- np.exp(- (delta_x_theory**2) / (2*sigma**2)))\n",
    "\n",
    "fig, ax = plt.subplots(1,1, figsize=(4,4))\n",
    "ax.plot(delta_x_tab, final_overlap_free_tab, 'o', label=\"Simulation\", color='red')\n",
    "ax.plot(delta_x_theory, overlap_theory, label=\"Theory\", color=\"blue\", alpha=0.5)\n",
    "ax.set_xlabel(r\"$\\Delta x$\")\n",
    "ax.set_ylabel(\"Final overlap with free evolution\")\n",
    "ax.set_xticks(np.array([-3,-2, -1, 0, 1, 2,3])*sigma)\n",
    "ax.set_xticklabels([r\"$-3\\sigma$\", r\"$-2\\sigma$\", r\"$-\\sigma$\", \"0\", r\"$\\sigma$\", r\"$2\\sigma$\", r\"$3\\sigma$\"])\n",
    "ax.grid()\n",
    "ax.legend()\n",
    "plt.show()"
   ]
  },
  {
   "cell_type": "code",
   "execution_count": null,
   "id": "762bd882",
   "metadata": {},
   "outputs": [],
   "source": []
  }
 ],
 "metadata": {
  "kernelspec": {
   "display_name": "Python 3",
   "language": "python",
   "name": "python3"
  },
  "language_info": {
   "codemirror_mode": {
    "name": "ipython",
    "version": 3
   },
   "file_extension": ".py",
   "mimetype": "text/x-python",
   "name": "python",
   "nbconvert_exporter": "python",
   "pygments_lexer": "ipython3",
   "version": "3.12.0"
  }
 },
 "nbformat": 4,
 "nbformat_minor": 5
}
