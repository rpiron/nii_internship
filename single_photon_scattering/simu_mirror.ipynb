{
 "cells": [
  {
   "cell_type": "code",
   "execution_count": 1,
   "metadata": {},
   "outputs": [
    {
     "data": {
      "text/html": [
       "<table><tr><th>Software</th><th>Version</th></tr><tr><td>QuTiP</td><td>5.1.1</td></tr><tr><td>Numpy</td><td>1.26.2</td></tr><tr><td>SciPy</td><td>1.11.3</td></tr><tr><td>matplotlib</td><td>3.7.3</td></tr><tr><td>Number of CPUs</td><td>11</td></tr><tr><td>BLAS Info</td><td>Generic</td></tr><tr><td>IPython</td><td>8.17.2</td></tr><tr><td>Python</td><td>3.12.0 (v3.12.0:0fb18b02c8, Oct  2 2023, 09:45:56) [Clang 13.0.0 (clang-1300.0.29.30)]</td></tr><tr><td>OS</td><td>posix [darwin]</td></tr><tr><td>Cython</td><td>3.0.11</td></tr><tr><td colspan='2'>Thu Jun 05 18:28:01 2025 CEST</td></tr></table>"
      ],
      "text/plain": [
       "<IPython.core.display.HTML object>"
      ]
     },
     "execution_count": 1,
     "metadata": {},
     "output_type": "execute_result"
    }
   ],
   "source": [
    "import qutip as qt\n",
    "import numpy as np\n",
    "import matplotlib.pyplot as plt\n",
    "from qutip.ipynbtools import version_table\n",
    "from tqdm.notebook import tqdm\n",
    "from matplotlib.animation import FuncAnimation\n",
    "from scipy.linalg import expm\n",
    "\n",
    "resol = 200\n",
    "pi = np.pi\n",
    "version_table()"
   ]
  },
  {
   "cell_type": "markdown",
   "metadata": {},
   "source": [
    "<h1> Model </h1>\n",
    "\n",
    "I consider the scattering of only one photon towards a 2-level atom. Also, I assume that several atoms might be in the waveguide (to play the role of a mirror for instance). I work in the subspace :\n",
    "\n",
    "$$ \\ket{1,0}, \\ket{0,1} $$\n",
    "\n",
    "And the Hamiltonian is given by: \n",
    "\n",
    "$$ H = \\sum_k \\omega_k a_k^{\\dagger} a_k + \\frac{1}{2} \\sum_j \\Omega_j (1 + \\sigma_j^z) + \\sum_{k,j}\\left\\{g(k,j) \\sigma^+ a_k + \\text{h.c} \\right\\} $$\n",
    "\n",
    "with $g(k,j) = i g_0 \\sqrt{\\omega_k} e^{ikx_j}$"
   ]
  },
  {
   "cell_type": "markdown",
   "metadata": {},
   "source": [
    "<h1> Conduct time evolution </h1>"
   ]
  },
  {
   "cell_type": "code",
   "execution_count": 2,
   "metadata": {},
   "outputs": [],
   "source": [
    "def get_data_mirror(L, T, dt, omega_0, omega_A, omega_max, g_0, sigma, x_0, use_WW_approx = True, print_nb_modes = False):\n",
    "    #quantization of the modes\n",
    "    omega_tab_p = np.array([2*pi*n/L for n in range(1000000) if 2*pi*n/L <= omega_max])\n",
    "    k_tab = np.sort(np.unique(np.concatenate((-omega_tab_p, omega_tab_p))))\n",
    "    omega_tab = np.abs(k_tab)\n",
    "    n_modes = len(k_tab)\n",
    "    if print_nb_modes:\n",
    "        print(\"Number of modes: \", n_modes)\n",
    "\n",
    "    #tab of couplings\n",
    "    g_tab = np.zeros(n_modes, dtype=complex)\n",
    "    for i in range(n_modes):\n",
    "        if use_WW_approx:\n",
    "            g_tab[i] = g_0*np.sqrt(omega_A / L)*1j\n",
    "        else:\n",
    "            g_tab[i] = g_0*np.sqrt(omega_tab[i] / L)*1j #in my case, g is independant of the atom index\n",
    "\n",
    "    #Creation of the Hamiltonian\n",
    "    dim_subspace = n_modes + 1\n",
    "    H_matrix = np.zeros((dim_subspace, dim_subspace), dtype=complex)\n",
    "\n",
    "    ##diagonal elements\n",
    "    for i in range(n_modes):\n",
    "        H_matrix[i, i] = omega_tab[i]\n",
    "    H_matrix[n_modes, n_modes] = omega_A\n",
    "\n",
    "    ##off diagonal elements\n",
    "    for i in range(n_modes):\n",
    "        H_matrix[n_modes, i] = g_tab[i]\n",
    "        H_matrix[i,n_modes] = np.conjugate(H_matrix[n_modes,i])\n",
    "\n",
    "    H = qt.Qobj(H_matrix)\n",
    "    #hermicity check\n",
    "    if not H.isherm:\n",
    "        print(\"Hermicity of the Hamiltonian: \", H.isherm)\n",
    "        return None\n",
    "    #also obtain the free hamiltonian\n",
    "    H_free = qt.Qobj(np.diag(np.diag(H_matrix)))\n",
    "\n",
    "    ##Initial state\n",
    "    k_bar = k_tab[np.argmin(np.abs(k_tab - omega_0))]\n",
    "    x_bar = x_0\n",
    "\n",
    "    init_state = 0\n",
    "    for i in range(n_modes): ##only the modes with positive momentum are excited at the beginning\n",
    "        coef = np.exp(-0.5*sigma**2*(k_tab[i] - k_bar)**2 -1j * k_tab[i] * x_bar)\n",
    "        init_state += coef * qt.basis(dim_subspace, i)\n",
    "    init_state = init_state.unit()\n",
    "    \n",
    "    #time evolution\n",
    "    n_step = int(T/dt)\n",
    "    times = np.linspace(0, T, n_step)\n",
    "    result = qt.sesolve(H, init_state, times, options={\"nsteps\":10000, \"progress_bar\": True, \"store_states\": True})\n",
    "    state_list = result.states\n",
    "\n",
    "    #also get the free evolution of the initial state\n",
    "    result_free = qt.sesolve(H_free, init_state, times, options={\"nsteps\":10000, \"store_states\": True})\n",
    "    state_list_free = result_free.states\n",
    "    \n",
    "    #Extracting the populations of the modes and the atom\n",
    "    N_k_t = np.zeros((n_modes, n_step))\n",
    "    N_A_t = np.zeros(n_step)\n",
    "    overlap_free_evol = np.zeros(n_step)\n",
    "\n",
    "\n",
    "    print(\"Computing occupation numbers in momentum space...\")\n",
    "    for t in tqdm(range(n_step)):\n",
    "        current_state = state_list[t]\n",
    "\n",
    "        for i in range(n_modes):\n",
    "            momentum_state = qt.basis(dim_subspace, i)\n",
    "            N_k_t[i, t] = np.abs(momentum_state.dag() * current_state)**2\n",
    "\n",
    "        atomic_state = qt.basis(dim_subspace, n_modes)\n",
    "        N_A_t[t] += np.abs(atomic_state.dag() * current_state)**2\n",
    "        \n",
    "        overlap_free_evol[t] = np.abs(state_list_free[t].dag() * current_state)**2\n",
    "\n",
    "    return times, k_tab, N_k_t, N_A_t, overlap_free_evol"
   ]
  },
  {
   "cell_type": "markdown",
   "metadata": {},
   "source": [
    "<h1> First test </h1>\n",
    "\n",
    "Check the parameters first"
   ]
  },
  {
   "cell_type": "code",
   "execution_count": null,
   "metadata": {},
   "outputs": [
    {
     "name": "stdout",
     "output_type": "stream",
     "text": [
      "Coupling g(k,j):  0.007978845608028654\n",
      "sigma_momentum:  0.016976527263135505\n",
      "Decay rate gamma:  0.06000000000000001\n"
     ]
    }
   ],
   "source": [
    "L = 150*pi\n",
    "T = L/2\n",
    "dt = 0.1\n",
    "\n",
    "#Jaynes-Cummings parameter g_0 and energies \n",
    "g_0 = 0.1\n",
    "omega_A = 3\n",
    "gamma = 2*g_0**2*omega_A\n",
    "\n",
    "#initial photon wavepacket parameters\n",
    "sigma = L/8\n",
    "sigma_momentum = 1/sigma\n",
    "x_0 = -L/4\n",
    "omega_0 = 2.99\n",
    "\n",
    "#numerical implementation of momentum space\n",
    "omega_max = 30*omega_A\n",
    "\n",
    "print(\"Coupling g(k,j): \", g_0*np.sqrt(omega_A / L))\n",
    "print(\"sigma_momentum: \", sigma_momentum)\n",
    "print(\"Decay rate gamma: \", gamma)\n"
   ]
  },
  {
   "cell_type": "markdown",
   "metadata": {},
   "source": [
    "Now, run the function"
   ]
  },
  {
   "cell_type": "code",
   "execution_count": 22,
   "metadata": {},
   "outputs": [
    {
     "name": "stdout",
     "output_type": "stream",
     "text": [
      "Number of modes:  8999\n"
     ]
    },
    {
     "name": "stderr",
     "output_type": "stream",
     "text": [
      "capi_return is NULL\n",
      "Call-back cb_f_in_zvode__user__routines failed.\n",
      "Traceback (most recent call last):\n",
      "  File \"/Library/Frameworks/Python.framework/Versions/3.12/lib/python3.12/site-packages/qutip/solver/integrator/scipy_integrator.py\", line 69, in _mul_np_vec\n",
      "    out = self.system.matmul_data(t, state)\n",
      "          ^^^^^^^^^^^^^^^^^^^^^^^^^^^^^^^^^\n",
      "KeyboardInterrupt\n",
      "Fatal Python error: F2PySwapThreadLocalCallbackPtr: F2PySwapThreadLocalCallbackPtr: PyLong_AsVoidPtr failed\n",
      "Python runtime state: initialized\n"
     ]
    },
    {
     "ename": "",
     "evalue": "",
     "output_type": "error",
     "traceback": [
      "\u001b[1;31mThe Kernel crashed while executing code in the current cell or a previous cell. \n",
      "\u001b[1;31mPlease review the code in the cell(s) to identify a possible cause of the failure. \n",
      "\u001b[1;31mClick <a href='https://aka.ms/vscodeJupyterKernelCrash'>here</a> for more info. \n",
      "\u001b[1;31mView Jupyter <a href='command:jupyter.viewOutput'>log</a> for further details."
     ]
    }
   ],
   "source": [
    "times, k_tab, N_k_t, N_A_t, overlap_free_evol = get_data_mirror(L, T, dt, omega_0, omega_A, omega_max, g_0, sigma, x_0, print_nb_modes = True)"
   ]
  },
  {
   "cell_type": "markdown",
   "metadata": {},
   "source": [
    "<h1> R and T coefficients </h1>\n",
    "\n",
    "Try to define reflection and transmission cofficients ? Let me define:\n",
    "\n",
    "$N_k = a_k^{\\dagger} a_k$ and $N_x = a_x^{\\dagger} a_x$ where :\n",
    "\n",
    "$$a_x = \\frac{1}{\\sqrt{N}} \\sum_k e^{ikx} a_k$$\n",
    "\n",
    "I can define : \n",
    "\n",
    "$$P_-(t) = \\sum_{k < 0} N_k \\,\\, , \\,\\, P_+(t) = \\sum_{k > 0} N_k $$\n",
    "\n",
    "It is also interesting to check that the atomic number remains close to zero :\n",
    "\n",
    "$$ N_A = \\sum_j \\left(\\frac{1+\\sigma_j^z}{2}\\right)$$\n",
    "\n",
    "The transmission coefficient is $T = P_+(\\infty)$ and the reflection is $R = P_-(\\infty)$"
   ]
  },
  {
   "cell_type": "code",
   "execution_count": 20,
   "metadata": {},
   "outputs": [
    {
     "name": "stdout",
     "output_type": "stream",
     "text": [
      "Results from summation per modes\n",
      "T =  0.20234287351150623\n",
      "R =  0.7648677497550527\n",
      "Final occupation of the atom =  0.03278937673344206\n",
      "---------------------------------------------------------\n",
      "Results from overlap\n",
      "T =  0.12444688080260763\n",
      "R =  0.8427637424639504\n",
      "Final occupation of the atom =  0.03278937673344206\n"
     ]
    },
    {
     "data": {
      "image/png": "[encoded data removed]",
      "text/plain": [
       "<Figure size 600x600 with 1 Axes>"
      ]
     },
     "metadata": {},
     "output_type": "display_data"
    }
   ],
   "source": [
    "n_modes = N_k_t.shape[0]\n",
    "\n",
    "nb_pts = len(times)\n",
    "P_p = np.zeros(nb_pts)\n",
    "P_m = np.zeros(nb_pts)\n",
    "\n",
    "for t in range(nb_pts):\n",
    "    for i in range(n_modes): \n",
    "        if k_tab[i] > 0:\n",
    "            P_p[t] += N_k_t[i,t]\n",
    "        else:\n",
    "            P_m[t] += N_k_t[i,t]\n",
    "\n",
    "\n",
    "print(\"Results from summation per modes\")\n",
    "print(\"T = \", P_p[-1])\n",
    "print(\"R = \", P_m[-1])\n",
    "print(\"Final occupation of the atom = \", N_A_t[-1])\n",
    "print(\"---------------------------------------------------------\")\n",
    "print(\"Results from overlap\")\n",
    "print(\"T = \", overlap_free_evol[-1])\n",
    "print(\"R = \", 1- overlap_free_evol[-1]- N_A_t[-1])\n",
    "print(\"Final occupation of the atom = \", N_A_t[-1]) \n",
    "\n",
    "\n",
    "fig, ax = plt.subplots(1,1, figsize=(3,3), dpi=resol)\n",
    "ax.plot(times, P_p, label=r'$P_+(t)$')\n",
    "ax.plot(times, P_m, label=r'$P_-(t)$')\n",
    "#ax.plot(times, P_p+P_m, label=r'$P_+ + P_-$', linestyle='--', alpha=0.5) \n",
    "ax.plot(times, N_A_t, label='Atom', linestyle='--', color='red')   \n",
    "ax.plot(times, overlap_free_evol, label='Free evolution', linestyle=':', color='green')\n",
    "ax.set_xlabel('Time')\n",
    "ax.set_ylabel('Probability')\n",
    "ax.legend()\n",
    "ax.grid()\n",
    "\n",
    "plt.show()"
   ]
  },
  {
   "cell_type": "markdown",
   "metadata": {},
   "source": [
    "<h2> Occupation number of one specific mode </h2>"
   ]
  },
  {
   "cell_type": "code",
   "execution_count": 80,
   "metadata": {},
   "outputs": [
    {
     "data": {
      "image/png": "[encoded data removed]",
      "text/plain": [
       "<Figure size 600x600 with 1 Axes>"
      ]
     },
     "metadata": {},
     "output_type": "display_data"
    }
   ],
   "source": [
    "k_target = 6*omega_0\n",
    "k_index = np.argmin(np.abs(k_tab - k_target))\n",
    "\n",
    "fig, ax = plt.subplots(1,1, figsize=(3,3), dpi=resol)\n",
    "\n",
    "ax.plot(times, N_k_t[k_index,:])\n",
    "ax.set_xlim(0, 1.1*times[-1])\n",
    "ax.set_xticks(np.floor(100*np.array([0, T/4, T/2, 3*T/4, T]))/100)\n",
    "ax.set_xlabel('Time')\n",
    "ax.vlines(T/2, 0, 1, color='r', linestyle='--', alpha=0.5)\n",
    "ax.set_ylim(0, 1.1*np.max(N_k_t[k_index,:]))\n",
    "ax.set_ylabel(r'$\\langle N_k \\rangle$')\n",
    "ax.set_title(\"k = {:.2f}\".format(k_tab[k_index]))\n",
    "ax.grid()\n",
    "\n",
    "fig.tight_layout()\n",
    "plt.show()"
   ]
  },
  {
   "cell_type": "markdown",
   "metadata": {},
   "source": [
    "<h2> Inspect momentum wave function </h2>"
   ]
  },
  {
   "cell_type": "code",
   "execution_count": 74,
   "metadata": {},
   "outputs": [
    {
     "data": {
      "image/png": "[encoded data removed]",
      "text/plain": [
       "<Figure size 600x600 with 1 Axes>"
      ]
     },
     "metadata": {},
     "output_type": "display_data"
    }
   ],
   "source": [
    "t_index = -1\n",
    "fig, ax = plt.subplots(1,1, figsize=(3,3), dpi=resol)\n",
    "\n",
    "#evolution of the probability density in position space\n",
    "ax.plot(k_tab, N_k_t[:,t_index], label=\"t = {:.2f}\".format(times[t_index]))\n",
    "ax.set_xlim(-omega_max_axis, omega_max_axis)\n",
    "ax.vlines(omega_0, 0, 1, color='r', linestyle='--', label=r'$\\omega_0$', alpha=0.5)\n",
    "ax.vlines(omega_A, 0, 1, color='g', linestyle='--', label=r'$\\omega_A$', alpha=0.5)\n",
    "ax.legend(loc='upper left')\n",
    "ax.set_xlabel(r'$k$')   \n",
    "ax.set_ylim(-0.05, 0.5)\n",
    "ax.set_ylabel('Probability density')\n",
    "\n",
    "ax.grid()\n",
    "\n",
    "\n",
    "plt.show()"
   ]
  },
  {
   "cell_type": "markdown",
   "metadata": {},
   "source": [
    "<h1> UV Cut-off </h1>\n",
    "\n",
    "Apparently, the UV cutoff has its importance ... let's check it"
   ]
  },
  {
   "cell_type": "code",
   "execution_count": 131,
   "metadata": {},
   "outputs": [
    {
     "data": {
      "application/vnd.jupyter.widget-view+json": {
       "model_id": "367e7c0d2fc24d19bad26bb3415637dd",
       "version_major": 2,
       "version_minor": 0
      },
      "text/plain": [
       "  0%|          | 0/30 [00:00<?, ?it/s]"
      ]
     },
     "metadata": {},
     "output_type": "display_data"
    },
    {
     "name": "stdout",
     "output_type": "stream",
     "text": [
      "Number of modes:  801\n",
      "10.0%. Run time:   0.10s. Est. time left: 00:00:00:00\n",
      "20.0%. Run time:   0.22s. Est. time left: 00:00:00:00\n",
      "30.0%. Run time:   0.38s. Est. time left: 00:00:00:00\n",
      "40.0%. Run time:   0.52s. Est. time left: 00:00:00:00\n",
      "50.0%. Run time:   0.77s. Est. time left: 00:00:00:00\n",
      "60.0%. Run time:   0.95s. Est. time left: 00:00:00:00\n",
      "70.0%. Run time:   1.11s. Est. time left: 00:00:00:00\n",
      "80.0%. Run time:   1.26s. Est. time left: 00:00:00:00\n",
      "90.0%. Run time:   1.41s. Est. time left: 00:00:00:00\n",
      "100.0%. Run time:   1.55s. Est. time left: 00:00:00:00\n",
      "Total run time:   1.56s\n",
      "Computing occupation numbers in momentum space...\n"
     ]
    },
    {
     "data": {
      "application/vnd.jupyter.widget-view+json": {
       "model_id": "2a760745f09146d9941ec16a00bbccea",
       "version_major": 2,
       "version_minor": 0
      },
      "text/plain": [
       "  0%|          | 0/1256 [00:00<?, ?it/s]"
      ]
     },
     "metadata": {},
     "output_type": "display_data"
    },
    {
     "name": "stdout",
     "output_type": "stream",
     "text": [
      "Number of modes:  979\n",
      "10.0%. Run time:   0.14s. Est. time left: 00:00:00:01\n",
      "20.0%. Run time:   0.29s. Est. time left: 00:00:00:01\n",
      "30.0%. Run time:   0.47s. Est. time left: 00:00:00:01\n",
      "40.0%. Run time:   0.63s. Est. time left: 00:00:00:00\n",
      "50.0%. Run time:   0.78s. Est. time left: 00:00:00:00\n",
      "60.0%. Run time:   0.94s. Est. time left: 00:00:00:00\n",
      "70.0%. Run time:   1.10s. Est. time left: 00:00:00:00\n",
      "80.0%. Run time:   1.25s. Est. time left: 00:00:00:00\n",
      "90.0%. Run time:   1.40s. Est. time left: 00:00:00:00\n",
      "100.0%. Run time:   1.55s. Est. time left: 00:00:00:00\n",
      "Total run time:   1.55s\n",
      "Computing occupation numbers in momentum space...\n"
     ]
    },
    {
     "data": {
      "application/vnd.jupyter.widget-view+json": {
       "model_id": "6dfd576e65104974b7047e948b4496e1",
       "version_major": 2,
       "version_minor": 0
      },
      "text/plain": [
       "  0%|          | 0/1256 [00:00<?, ?it/s]"
      ]
     },
     "metadata": {},
     "output_type": "display_data"
    },
    {
     "name": "stdout",
     "output_type": "stream",
     "text": [
      "Number of modes:  1159\n",
      "10.0%. Run time:   0.27s. Est. time left: 00:00:00:02\n",
      "20.0%. Run time:   0.56s. Est. time left: 00:00:00:02\n",
      "30.0%. Run time:   0.86s. Est. time left: 00:00:00:02\n",
      "40.0%. Run time:   1.10s. Est. time left: 00:00:00:01\n",
      "50.0%. Run time:   1.34s. Est. time left: 00:00:00:01\n",
      "60.0%. Run time:   1.58s. Est. time left: 00:00:00:01\n",
      "70.0%. Run time:   1.86s. Est. time left: 00:00:00:00\n",
      "80.0%. Run time:   2.10s. Est. time left: 00:00:00:00\n",
      "90.0%. Run time:   2.34s. Est. time left: 00:00:00:00\n",
      "100.0%. Run time:   2.59s. Est. time left: 00:00:00:00\n",
      "Total run time:   2.59s\n",
      "Computing occupation numbers in momentum space...\n"
     ]
    },
    {
     "data": {
      "application/vnd.jupyter.widget-view+json": {
       "model_id": "7d7715fc791b44a589ceaa568e1a1f48",
       "version_major": 2,
       "version_minor": 0
      },
      "text/plain": [
       "  0%|          | 0/1256 [00:00<?, ?it/s]"
      ]
     },
     "metadata": {},
     "output_type": "display_data"
    },
    {
     "name": "stdout",
     "output_type": "stream",
     "text": [
      "Number of modes:  1337\n",
      "10.0%. Run time:   0.34s. Est. time left: 00:00:00:03\n",
      "20.0%. Run time:   0.71s. Est. time left: 00:00:00:02\n",
      "30.0%. Run time:   1.09s. Est. time left: 00:00:00:02\n",
      "40.0%. Run time:   1.46s. Est. time left: 00:00:00:02\n",
      "50.0%. Run time:   1.80s. Est. time left: 00:00:00:01\n",
      "60.0%. Run time:   2.14s. Est. time left: 00:00:00:01\n",
      "70.0%. Run time:   2.48s. Est. time left: 00:00:00:01\n",
      "80.0%. Run time:   2.83s. Est. time left: 00:00:00:00\n",
      "90.0%. Run time:   3.17s. Est. time left: 00:00:00:00\n",
      "100.0%. Run time:   3.51s. Est. time left: 00:00:00:00\n",
      "Total run time:   3.51s\n",
      "Computing occupation numbers in momentum space...\n"
     ]
    },
    {
     "data": {
      "application/vnd.jupyter.widget-view+json": {
       "model_id": "f2d302fa536d435e8371e26e7faf947b",
       "version_major": 2,
       "version_minor": 0
      },
      "text/plain": [
       "  0%|          | 0/1256 [00:00<?, ?it/s]"
      ]
     },
     "metadata": {},
     "output_type": "display_data"
    },
    {
     "name": "stdout",
     "output_type": "stream",
     "text": [
      "Number of modes:  1517\n",
      "10.0%. Run time:   0.75s. Est. time left: 00:00:00:06\n",
      "20.0%. Run time:   1.50s. Est. time left: 00:00:00:05\n",
      "30.0%. Run time:   2.03s. Est. time left: 00:00:00:04\n",
      "40.0%. Run time:   2.61s. Est. time left: 00:00:00:03\n",
      "50.0%. Run time:   3.18s. Est. time left: 00:00:00:03\n",
      "60.0%. Run time:   3.85s. Est. time left: 00:00:00:02\n",
      "70.0%. Run time:   4.55s. Est. time left: 00:00:00:01\n",
      "80.0%. Run time:   5.21s. Est. time left: 00:00:00:01\n",
      "90.0%. Run time:   5.85s. Est. time left: 00:00:00:00\n",
      "100.0%. Run time:   6.44s. Est. time left: 00:00:00:00\n",
      "Total run time:   6.44s\n",
      "Computing occupation numbers in momentum space...\n"
     ]
    },
    {
     "data": {
      "application/vnd.jupyter.widget-view+json": {
       "model_id": "743078c651074658ae2ba7150febab45",
       "version_major": 2,
       "version_minor": 0
      },
      "text/plain": [
       "  0%|          | 0/1256 [00:00<?, ?it/s]"
      ]
     },
     "metadata": {},
     "output_type": "display_data"
    },
    {
     "name": "stdout",
     "output_type": "stream",
     "text": [
      "Number of modes:  1697\n",
      "10.0%. Run time:   0.74s. Est. time left: 00:00:00:06\n",
      "20.0%. Run time:   1.49s. Est. time left: 00:00:00:05\n",
      "30.0%. Run time:   2.29s. Est. time left: 00:00:00:05\n",
      "40.0%. Run time:   3.25s. Est. time left: 00:00:00:04\n",
      "50.0%. Run time:   4.11s. Est. time left: 00:00:00:04\n",
      "60.0%. Run time:   4.90s. Est. time left: 00:00:00:03\n",
      "70.0%. Run time:   5.65s. Est. time left: 00:00:00:02\n",
      "80.0%. Run time:   6.42s. Est. time left: 00:00:00:01\n",
      "90.0%. Run time:   7.15s. Est. time left: 00:00:00:00\n",
      "100.0%. Run time:   7.85s. Est. time left: 00:00:00:00\n",
      "Total run time:   7.85s\n",
      "Computing occupation numbers in momentum space...\n"
     ]
    },
    {
     "data": {
      "application/vnd.jupyter.widget-view+json": {
       "model_id": "d6b6b105e6364f7da454626f655e1ea2",
       "version_major": 2,
       "version_minor": 0
      },
      "text/plain": [
       "  0%|          | 0/1256 [00:00<?, ?it/s]"
      ]
     },
     "metadata": {},
     "output_type": "display_data"
    },
    {
     "name": "stdout",
     "output_type": "stream",
     "text": [
      "Number of modes:  1875\n",
      "10.0%. Run time:   0.74s. Est. time left: 00:00:00:06\n",
      "20.0%. Run time:   1.52s. Est. time left: 00:00:00:06\n",
      "30.0%. Run time:   2.48s. Est. time left: 00:00:00:05\n",
      "40.0%. Run time:   3.29s. Est. time left: 00:00:00:04\n",
      "50.0%. Run time:   4.48s. Est. time left: 00:00:00:04\n",
      "60.0%. Run time:   5.75s. Est. time left: 00:00:00:03\n",
      "70.0%. Run time:   7.05s. Est. time left: 00:00:00:03\n",
      "80.0%. Run time:   8.25s. Est. time left: 00:00:00:02\n",
      "90.0%. Run time:   9.60s. Est. time left: 00:00:00:01\n",
      "100.0%. Run time:  10.89s. Est. time left: 00:00:00:00\n",
      "Total run time:  10.89s\n",
      "Computing occupation numbers in momentum space...\n"
     ]
    },
    {
     "data": {
      "application/vnd.jupyter.widget-view+json": {
       "model_id": "79115c8069cc4f0c9dcf845b161688fe",
       "version_major": 2,
       "version_minor": 0
      },
      "text/plain": [
       "  0%|          | 0/1256 [00:00<?, ?it/s]"
      ]
     },
     "metadata": {},
     "output_type": "display_data"
    },
    {
     "name": "stdout",
     "output_type": "stream",
     "text": [
      "Number of modes:  2055\n",
      "10.0%. Run time:   0.99s. Est. time left: 00:00:00:08\n",
      "20.0%. Run time:   2.28s. Est. time left: 00:00:00:09\n",
      "30.0%. Run time:   3.43s. Est. time left: 00:00:00:07\n",
      "40.0%. Run time:   5.00s. Est. time left: 00:00:00:07\n",
      "50.0%. Run time:   6.55s. Est. time left: 00:00:00:06\n",
      "60.0%. Run time:   8.10s. Est. time left: 00:00:00:05\n",
      "70.0%. Run time:   9.63s. Est. time left: 00:00:00:04\n",
      "80.0%. Run time:  11.19s. Est. time left: 00:00:00:02\n",
      "90.0%. Run time:  12.75s. Est. time left: 00:00:00:01\n",
      "100.0%. Run time:  14.29s. Est. time left: 00:00:00:00\n",
      "Total run time:  14.29s\n",
      "Computing occupation numbers in momentum space...\n"
     ]
    },
    {
     "data": {
      "application/vnd.jupyter.widget-view+json": {
       "model_id": "5a275695de6c4092b6ae6dc9c2936fb6",
       "version_major": 2,
       "version_minor": 0
      },
      "text/plain": [
       "  0%|          | 0/1256 [00:00<?, ?it/s]"
      ]
     },
     "metadata": {},
     "output_type": "display_data"
    },
    {
     "name": "stdout",
     "output_type": "stream",
     "text": [
      "Number of modes:  2235\n",
      "10.0%. Run time:   1.21s. Est. time left: 00:00:00:10\n",
      "20.0%. Run time:   2.65s. Est. time left: 00:00:00:10\n",
      "30.0%. Run time:   4.42s. Est. time left: 00:00:00:10\n",
      "40.0%. Run time:   6.31s. Est. time left: 00:00:00:09\n",
      "50.0%. Run time:   8.11s. Est. time left: 00:00:00:08\n",
      "60.0%. Run time:   9.80s. Est. time left: 00:00:00:06\n",
      "70.0%. Run time:  11.64s. Est. time left: 00:00:00:04\n",
      "80.0%. Run time:  14.02s. Est. time left: 00:00:00:03\n",
      "90.0%. Run time:  16.72s. Est. time left: 00:00:00:01\n",
      "100.0%. Run time:  19.30s. Est. time left: 00:00:00:00\n",
      "Total run time:  19.31s\n",
      "Computing occupation numbers in momentum space...\n"
     ]
    },
    {
     "data": {
      "application/vnd.jupyter.widget-view+json": {
       "model_id": "c595189955da47e4a56b85b653196c74",
       "version_major": 2,
       "version_minor": 0
      },
      "text/plain": [
       "  0%|          | 0/1256 [00:00<?, ?it/s]"
      ]
     },
     "metadata": {},
     "output_type": "display_data"
    },
    {
     "name": "stdout",
     "output_type": "stream",
     "text": [
      "Number of modes:  2413\n",
      "10.0%. Run time:   1.46s. Est. time left: 00:00:00:13\n",
      "20.0%. Run time:   3.52s. Est. time left: 00:00:00:14\n",
      "30.0%. Run time:   5.41s. Est. time left: 00:00:00:12\n",
      "40.0%. Run time:   7.36s. Est. time left: 00:00:00:11\n",
      "50.0%. Run time:  10.24s. Est. time left: 00:00:00:10\n",
      "60.0%. Run time:  13.15s. Est. time left: 00:00:00:08\n",
      "70.0%. Run time:  15.91s. Est. time left: 00:00:00:06\n",
      "80.0%. Run time:  18.61s. Est. time left: 00:00:00:04\n",
      "90.0%. Run time:  21.30s. Est. time left: 00:00:00:02\n",
      "100.0%. Run time:  24.14s. Est. time left: 00:00:00:00\n",
      "Total run time:  24.14s\n",
      "Computing occupation numbers in momentum space...\n"
     ]
    },
    {
     "data": {
      "application/vnd.jupyter.widget-view+json": {
       "model_id": "3ab71d3ab6834790811193cb526528b8",
       "version_major": 2,
       "version_minor": 0
      },
      "text/plain": [
       "  0%|          | 0/1256 [00:00<?, ?it/s]"
      ]
     },
     "metadata": {},
     "output_type": "display_data"
    },
    {
     "name": "stdout",
     "output_type": "stream",
     "text": [
      "Number of modes:  2593\n",
      "10.0%. Run time:   1.83s. Est. time left: 00:00:00:16\n",
      "20.0%. Run time:   3.62s. Est. time left: 00:00:00:14\n",
      "30.0%. Run time:   5.71s. Est. time left: 00:00:00:13\n",
      "40.0%. Run time:   7.94s. Est. time left: 00:00:00:11\n",
      "50.0%. Run time:  10.35s. Est. time left: 00:00:00:10\n",
      "60.0%. Run time:  13.47s. Est. time left: 00:00:00:08\n",
      "70.0%. Run time:  16.66s. Est. time left: 00:00:00:07\n",
      "80.0%. Run time:  19.76s. Est. time left: 00:00:00:04\n",
      "90.0%. Run time:  22.87s. Est. time left: 00:00:00:02\n",
      "100.0%. Run time:  26.03s. Est. time left: 00:00:00:00\n",
      "Total run time:  26.04s\n",
      "Computing occupation numbers in momentum space...\n"
     ]
    },
    {
     "data": {
      "application/vnd.jupyter.widget-view+json": {
       "model_id": "6e6d3d739b7f4ecd9f9c3f667e22b720",
       "version_major": 2,
       "version_minor": 0
      },
      "text/plain": [
       "  0%|          | 0/1256 [00:00<?, ?it/s]"
      ]
     },
     "metadata": {},
     "output_type": "display_data"
    },
    {
     "name": "stdout",
     "output_type": "stream",
     "text": [
      "Number of modes:  2773\n",
      "10.0%. Run time:   2.38s. Est. time left: 00:00:00:21\n",
      "20.0%. Run time:   4.84s. Est. time left: 00:00:00:19\n",
      "30.0%. Run time:   7.50s. Est. time left: 00:00:00:17\n",
      "40.0%. Run time:  10.99s. Est. time left: 00:00:00:16\n",
      "50.0%. Run time:  14.55s. Est. time left: 00:00:00:14\n",
      "60.0%. Run time:  18.10s. Est. time left: 00:00:00:12\n",
      "70.0%. Run time:  21.65s. Est. time left: 00:00:00:09\n",
      "80.0%. Run time:  25.20s. Est. time left: 00:00:00:06\n",
      "90.0%. Run time:  28.74s. Est. time left: 00:00:00:03\n",
      "100.0%. Run time:  32.15s. Est. time left: 00:00:00:00\n",
      "Total run time:  32.15s\n",
      "Computing occupation numbers in momentum space...\n"
     ]
    },
    {
     "data": {
      "application/vnd.jupyter.widget-view+json": {
       "model_id": "ccb983b13e0b4625826c294cee9fdd6c",
       "version_major": 2,
       "version_minor": 0
      },
      "text/plain": [
       "  0%|          | 0/1256 [00:00<?, ?it/s]"
      ]
     },
     "metadata": {},
     "output_type": "display_data"
    },
    {
     "name": "stdout",
     "output_type": "stream",
     "text": [
      "Number of modes:  2951\n",
      "10.0%. Run time:   2.54s. Est. time left: 00:00:00:22\n",
      "20.0%. Run time:   5.24s. Est. time left: 00:00:00:20\n",
      "30.0%. Run time:   8.54s. Est. time left: 00:00:00:19\n",
      "40.0%. Run time:  12.56s. Est. time left: 00:00:00:18\n",
      "50.0%. Run time:  16.64s. Est. time left: 00:00:00:16\n",
      "60.0%. Run time:  20.65s. Est. time left: 00:00:00:13\n",
      "70.0%. Run time:  24.72s. Est. time left: 00:00:00:10\n",
      "80.0%. Run time:  28.75s. Est. time left: 00:00:00:07\n",
      "90.0%. Run time:  32.82s. Est. time left: 00:00:00:03\n",
      "100.0%. Run time:  37.15s. Est. time left: 00:00:00:00\n",
      "Total run time:  37.15s\n",
      "Computing occupation numbers in momentum space...\n"
     ]
    },
    {
     "data": {
      "application/vnd.jupyter.widget-view+json": {
       "model_id": "9f5ea8e21c6d47ad8332f7e249750f9a",
       "version_major": 2,
       "version_minor": 0
      },
      "text/plain": [
       "  0%|          | 0/1256 [00:00<?, ?it/s]"
      ]
     },
     "metadata": {},
     "output_type": "display_data"
    },
    {
     "name": "stdout",
     "output_type": "stream",
     "text": [
      "Number of modes:  3131\n",
      "10.0%. Run time:   3.38s. Est. time left: 00:00:00:30\n",
      "20.0%. Run time:   8.73s. Est. time left: 00:00:00:34\n",
      "30.0%. Run time:  14.97s. Est. time left: 00:00:00:34\n",
      "40.0%. Run time:  23.44s. Est. time left: 00:00:00:35\n",
      "50.0%. Run time:  32.00s. Est. time left: 00:00:00:31\n",
      "60.0%. Run time:  40.42s. Est. time left: 00:00:00:26\n",
      "70.0%. Run time:  48.98s. Est. time left: 00:00:00:20\n",
      "80.0%. Run time:  58.87s. Est. time left: 00:00:00:14\n",
      "90.0%. Run time:  67.59s. Est. time left: 00:00:00:07\n",
      "100.0%. Run time:  76.16s. Est. time left: 00:00:00:00\n",
      "Total run time:  76.16s\n",
      "Computing occupation numbers in momentum space...\n"
     ]
    },
    {
     "data": {
      "application/vnd.jupyter.widget-view+json": {
       "model_id": "47e45df298b44342a4a4e922b0d17ee7",
       "version_major": 2,
       "version_minor": 0
      },
      "text/plain": [
       "  0%|          | 0/1256 [00:00<?, ?it/s]"
      ]
     },
     "metadata": {},
     "output_type": "display_data"
    },
    {
     "name": "stdout",
     "output_type": "stream",
     "text": [
      "Number of modes:  3311\n",
      "10.0%. Run time:   3.82s. Est. time left: 00:00:00:34\n",
      "20.0%. Run time:   9.86s. Est. time left: 00:00:00:39\n",
      "30.0%. Run time:  18.18s. Est. time left: 00:00:00:42\n",
      "40.0%. Run time:  27.57s. Est. time left: 00:00:00:41\n",
      "50.0%. Run time:  37.10s. Est. time left: 00:00:00:37\n",
      "60.0%. Run time:  46.56s. Est. time left: 00:00:00:31\n",
      "70.0%. Run time:  56.15s. Est. time left: 00:00:00:24\n",
      "80.0%. Run time:  65.64s. Est. time left: 00:00:00:16\n",
      "90.0%. Run time:  76.56s. Est. time left: 00:00:00:08\n",
      "100.0%. Run time:  92.02s. Est. time left: 00:00:00:00\n",
      "Total run time:  92.02s\n",
      "Computing occupation numbers in momentum space...\n"
     ]
    },
    {
     "data": {
      "application/vnd.jupyter.widget-view+json": {
       "model_id": "4b9764646ea14cb7b5ce05e0f53835e0",
       "version_major": 2,
       "version_minor": 0
      },
      "text/plain": [
       "  0%|          | 0/1256 [00:00<?, ?it/s]"
      ]
     },
     "metadata": {},
     "output_type": "display_data"
    },
    {
     "name": "stdout",
     "output_type": "stream",
     "text": [
      "Number of modes:  3489\n",
      "10.0%. Run time:   5.05s. Est. time left: 00:00:00:45\n",
      "20.0%. Run time:  13.96s. Est. time left: 00:00:00:55\n",
      "30.0%. Run time:  25.88s. Est. time left: 00:00:01:00\n",
      "40.0%. Run time:  36.06s. Est. time left: 00:00:00:54\n",
      "50.0%. Run time:  46.36s. Est. time left: 00:00:00:46\n",
      "60.0%. Run time:  56.48s. Est. time left: 00:00:00:37\n",
      "70.0%. Run time:  70.56s. Est. time left: 00:00:00:30\n",
      "80.0%. Run time:  86.49s. Est. time left: 00:00:00:21\n",
      "90.0%. Run time: 102.53s. Est. time left: 00:00:00:11\n",
      "100.0%. Run time: 119.42s. Est. time left: 00:00:00:00\n",
      "Total run time: 119.42s\n",
      "Computing occupation numbers in momentum space...\n"
     ]
    },
    {
     "data": {
      "application/vnd.jupyter.widget-view+json": {
       "model_id": "1f2fe2f97f0c4ac3b8476998c9ff473c",
       "version_major": 2,
       "version_minor": 0
      },
      "text/plain": [
       "  0%|          | 0/1256 [00:00<?, ?it/s]"
      ]
     },
     "metadata": {},
     "output_type": "display_data"
    },
    {
     "name": "stdout",
     "output_type": "stream",
     "text": [
      "Number of modes:  3669\n",
      "10.0%. Run time:   6.01s. Est. time left: 00:00:00:53\n",
      "20.0%. Run time:  17.76s. Est. time left: 00:00:01:11\n",
      "30.0%. Run time:  29.72s. Est. time left: 00:00:01:09\n",
      "40.0%. Run time:  40.96s. Est. time left: 00:00:01:01\n",
      "50.0%. Run time:  52.40s. Est. time left: 00:00:00:52\n",
      "60.0%. Run time:  70.11s. Est. time left: 00:00:00:46\n",
      "70.0%. Run time:  87.77s. Est. time left: 00:00:00:37\n",
      "80.0%. Run time: 105.25s. Est. time left: 00:00:00:26\n",
      "90.0%. Run time: 123.77s. Est. time left: 00:00:00:13\n",
      "100.0%. Run time: 142.59s. Est. time left: 00:00:00:00\n",
      "Total run time: 142.59s\n",
      "Computing occupation numbers in momentum space...\n"
     ]
    },
    {
     "data": {
      "application/vnd.jupyter.widget-view+json": {
       "model_id": "e21c55ca20fe4bcfa2b456951a003129",
       "version_major": 2,
       "version_minor": 0
      },
      "text/plain": [
       "  0%|          | 0/1256 [00:00<?, ?it/s]"
      ]
     },
     "metadata": {},
     "output_type": "display_data"
    },
    {
     "name": "stdout",
     "output_type": "stream",
     "text": [
      "Number of modes:  3849\n",
      "10.0%. Run time:   8.08s. Est. time left: 00:00:01:12\n",
      "20.0%. Run time:  20.65s. Est. time left: 00:00:01:22\n",
      "30.0%. Run time:  33.00s. Est. time left: 00:00:01:16\n",
      "40.0%. Run time:  45.35s. Est. time left: 00:00:01:08\n",
      "50.0%. Run time:  63.94s. Est. time left: 00:00:01:03\n",
      "60.0%. Run time:  83.24s. Est. time left: 00:00:00:55\n",
      "70.0%. Run time: 102.83s. Est. time left: 00:00:00:43\n",
      "80.0%. Run time: 122.22s. Est. time left: 00:00:00:30\n",
      "90.0%. Run time: 141.79s. Est. time left: 00:00:00:15\n",
      "100.0%. Run time: 160.99s. Est. time left: 00:00:00:00\n",
      "Total run time: 160.99s\n",
      "Computing occupation numbers in momentum space...\n"
     ]
    },
    {
     "data": {
      "application/vnd.jupyter.widget-view+json": {
       "model_id": "a986900b86584843acc1c4fce9340346",
       "version_major": 2,
       "version_minor": 0
      },
      "text/plain": [
       "  0%|          | 0/1256 [00:00<?, ?it/s]"
      ]
     },
     "metadata": {},
     "output_type": "display_data"
    },
    {
     "name": "stdout",
     "output_type": "stream",
     "text": [
      "Number of modes:  4027\n",
      "10.0%. Run time:   8.64s. Est. time left: 00:00:01:17\n",
      "20.0%. Run time:  21.95s. Est. time left: 00:00:01:27\n",
      "30.0%. Run time:  35.77s. Est. time left: 00:00:01:23\n",
      "40.0%. Run time:  53.60s. Est. time left: 00:00:01:20\n",
      "50.0%. Run time:  75.82s. Est. time left: 00:00:01:15\n",
      "60.0%. Run time:  98.79s. Est. time left: 00:00:01:05\n",
      "70.0%. Run time: 123.75s. Est. time left: 00:00:00:52\n",
      "80.0%. Run time: 146.48s. Est. time left: 00:00:00:36\n",
      "90.0%. Run time: 172.26s. Est. time left: 00:00:00:19\n",
      "100.0%. Run time: 196.53s. Est. time left: 00:00:00:00\n",
      "Total run time: 196.53s\n",
      "Computing occupation numbers in momentum space...\n"
     ]
    },
    {
     "data": {
      "application/vnd.jupyter.widget-view+json": {
       "model_id": "d14986b51f6a48268277f2f36ffab704",
       "version_major": 2,
       "version_minor": 0
      },
      "text/plain": [
       "  0%|          | 0/1256 [00:00<?, ?it/s]"
      ]
     },
     "metadata": {},
     "output_type": "display_data"
    },
    {
     "name": "stdout",
     "output_type": "stream",
     "text": [
      "Number of modes:  4207\n",
      "10.0%. Run time:  10.05s. Est. time left: 00:00:01:30\n",
      "20.0%. Run time:  25.22s. Est. time left: 00:00:01:40\n",
      "30.0%. Run time:  41.38s. Est. time left: 00:00:01:36\n",
      "40.0%. Run time:  64.70s. Est. time left: 00:00:01:37\n",
      "50.0%. Run time:  87.74s. Est. time left: 00:00:01:27\n",
      "60.0%. Run time: 111.16s. Est. time left: 00:00:01:14\n",
      "70.0%. Run time: 134.07s. Est. time left: 00:00:00:57\n",
      "80.0%. Run time: 157.50s. Est. time left: 00:00:00:39\n",
      "90.0%. Run time: 180.64s. Est. time left: 00:00:00:19\n",
      "100.0%. Run time: 203.45s. Est. time left: 00:00:00:00\n",
      "Total run time: 203.45s\n",
      "Computing occupation numbers in momentum space...\n"
     ]
    },
    {
     "data": {
      "application/vnd.jupyter.widget-view+json": {
       "model_id": "289bf30653bc4fd891e821783d5a7cf8",
       "version_major": 2,
       "version_minor": 0
      },
      "text/plain": [
       "  0%|          | 0/1256 [00:00<?, ?it/s]"
      ]
     },
     "metadata": {},
     "output_type": "display_data"
    },
    {
     "name": "stdout",
     "output_type": "stream",
     "text": [
      "Number of modes:  4387\n",
      "10.0%. Run time:  11.04s. Est. time left: 00:00:01:38\n",
      "20.0%. Run time:  26.18s. Est. time left: 00:00:01:44\n",
      "30.0%. Run time:  49.02s. Est. time left: 00:00:01:54\n",
      "40.0%. Run time:  71.85s. Est. time left: 00:00:01:47\n",
      "50.0%. Run time:  94.76s. Est. time left: 00:00:01:34\n",
      "60.0%. Run time: 117.51s. Est. time left: 00:00:01:18\n",
      "70.0%. Run time: 140.56s. Est. time left: 00:00:01:00\n",
      "80.0%. Run time: 163.40s. Est. time left: 00:00:00:40\n",
      "90.0%. Run time: 193.68s. Est. time left: 00:00:00:21\n",
      "100.0%. Run time: 229.40s. Est. time left: 00:00:00:00\n",
      "Total run time: 229.40s\n",
      "Computing occupation numbers in momentum space...\n"
     ]
    },
    {
     "data": {
      "application/vnd.jupyter.widget-view+json": {
       "model_id": "954c5839c97a4880bbee55849094d7c3",
       "version_major": 2,
       "version_minor": 0
      },
      "text/plain": [
       "  0%|          | 0/1256 [00:00<?, ?it/s]"
      ]
     },
     "metadata": {},
     "output_type": "display_data"
    },
    {
     "name": "stdout",
     "output_type": "stream",
     "text": [
      "Number of modes:  4565\n",
      "10.0%. Run time:  11.90s. Est. time left: 00:00:01:46\n",
      "20.0%. Run time:  32.85s. Est. time left: 00:00:02:11\n",
      "30.0%. Run time:  54.70s. Est. time left: 00:00:02:07\n",
      "40.0%. Run time:  76.34s. Est. time left: 00:00:01:54\n",
      "50.0%. Run time: 102.82s. Est. time left: 00:00:01:42\n",
      "60.0%. Run time: 137.02s. Est. time left: 00:00:01:31\n",
      "70.0%. Run time: 171.06s. Est. time left: 00:00:01:13\n",
      "80.0%. Run time: 205.02s. Est. time left: 00:00:00:51\n",
      "90.0%. Run time: 239.26s. Est. time left: 00:00:00:26\n",
      "100.0%. Run time: 273.18s. Est. time left: 00:00:00:00\n",
      "Total run time: 273.18s\n",
      "Computing occupation numbers in momentum space...\n"
     ]
    },
    {
     "data": {
      "application/vnd.jupyter.widget-view+json": {
       "model_id": "d2f7abb01010441aaad8513760f1894e",
       "version_major": 2,
       "version_minor": 0
      },
      "text/plain": [
       "  0%|          | 0/1256 [00:00<?, ?it/s]"
      ]
     },
     "metadata": {},
     "output_type": "display_data"
    },
    {
     "name": "stdout",
     "output_type": "stream",
     "text": [
      "Number of modes:  4745\n",
      "10.0%. Run time:  13.31s. Est. time left: 00:00:01:59\n",
      "20.0%. Run time:  33.16s. Est. time left: 00:00:02:12\n",
      "30.0%. Run time:  61.81s. Est. time left: 00:00:02:23\n",
      "40.0%. Run time:  90.15s. Est. time left: 00:00:02:15\n",
      "50.0%. Run time: 118.90s. Est. time left: 00:00:01:58\n",
      "60.0%. Run time: 147.46s. Est. time left: 00:00:01:38\n",
      "70.0%. Run time: 176.15s. Est. time left: 00:00:01:15\n",
      "80.0%. Run time: 207.52s. Est. time left: 00:00:00:51\n",
      "90.0%. Run time: 252.19s. Est. time left: 00:00:00:27\n",
      "100.0%. Run time: 296.48s. Est. time left: 00:00:00:00\n",
      "Total run time: 296.48s\n",
      "Computing occupation numbers in momentum space...\n"
     ]
    },
    {
     "data": {
      "application/vnd.jupyter.widget-view+json": {
       "model_id": "a5cec1b7e98e4fd48c99330e30722c6f",
       "version_major": 2,
       "version_minor": 0
      },
      "text/plain": [
       "  0%|          | 0/1256 [00:00<?, ?it/s]"
      ]
     },
     "metadata": {},
     "output_type": "display_data"
    },
    {
     "name": "stdout",
     "output_type": "stream",
     "text": [
      "Number of modes:  4925\n",
      "10.0%. Run time:  12.95s. Est. time left: 00:00:01:56\n",
      "20.0%. Run time:  35.29s. Est. time left: 00:00:02:21\n",
      "30.0%. Run time:  66.16s. Est. time left: 00:00:02:34\n",
      "40.0%. Run time:  96.83s. Est. time left: 00:00:02:25\n",
      "50.0%. Run time: 128.06s. Est. time left: 00:00:02:07\n",
      "60.0%. Run time: 158.72s. Est. time left: 00:00:01:45\n",
      "70.0%. Run time: 189.72s. Est. time left: 00:00:01:21\n",
      "80.0%. Run time: 236.73s. Est. time left: 00:00:00:59\n",
      "90.0%. Run time: 285.17s. Est. time left: 00:00:00:31\n",
      "100.0%. Run time: 333.12s. Est. time left: 00:00:00:00\n",
      "Total run time: 333.12s\n",
      "Computing occupation numbers in momentum space...\n"
     ]
    },
    {
     "data": {
      "application/vnd.jupyter.widget-view+json": {
       "model_id": "f8ca43b421ed41fc8a9a249b2ecce6b3",
       "version_major": 2,
       "version_minor": 0
      },
      "text/plain": [
       "  0%|          | 0/1256 [00:00<?, ?it/s]"
      ]
     },
     "metadata": {},
     "output_type": "display_data"
    },
    {
     "name": "stdout",
     "output_type": "stream",
     "text": [
      "Number of modes:  5103\n",
      "10.0%. Run time:  16.29s. Est. time left: 00:00:02:25\n",
      "20.0%. Run time:  44.43s. Est. time left: 00:00:02:57\n",
      "30.0%. Run time:  76.95s. Est. time left: 00:00:02:59\n",
      "40.0%. Run time: 109.02s. Est. time left: 00:00:02:43\n",
      "50.0%. Run time: 141.36s. Est. time left: 00:00:02:21\n",
      "60.0%. Run time: 181.41s. Est. time left: 00:00:02:00\n",
      "70.0%. Run time: 232.26s. Est. time left: 00:00:01:39\n",
      "80.0%. Run time: 282.67s. Est. time left: 00:00:01:10\n",
      "90.0%. Run time: 333.79s. Est. time left: 00:00:00:36\n",
      "100.0%. Run time: 384.02s. Est. time left: 00:00:00:00\n",
      "Total run time: 384.02s\n",
      "Computing occupation numbers in momentum space...\n"
     ]
    },
    {
     "data": {
      "application/vnd.jupyter.widget-view+json": {
       "model_id": "aa3d5fa76c3a487aa79e9ae689289391",
       "version_major": 2,
       "version_minor": 0
      },
      "text/plain": [
       "  0%|          | 0/1256 [00:00<?, ?it/s]"
      ]
     },
     "metadata": {},
     "output_type": "display_data"
    },
    {
     "name": "stdout",
     "output_type": "stream",
     "text": [
      "Number of modes:  5283\n",
      "10.0%. Run time:  18.17s. Est. time left: 00:00:02:42\n",
      "20.0%. Run time:  50.72s. Est. time left: 00:00:03:22\n",
      "30.0%. Run time:  85.25s. Est. time left: 00:00:03:18\n",
      "40.0%. Run time: 119.55s. Est. time left: 00:00:02:59\n",
      "50.0%. Run time: 160.48s. Est. time left: 00:00:02:40\n",
      "60.0%. Run time: 213.78s. Est. time left: 00:00:02:22\n",
      "70.0%. Run time: 267.77s. Est. time left: 00:00:01:54\n",
      "80.0%. Run time: 321.15s. Est. time left: 00:00:01:20\n",
      "90.0%. Run time: 374.96s. Est. time left: 00:00:00:41\n",
      "100.0%. Run time: 428.29s. Est. time left: 00:00:00:00\n",
      "Total run time: 428.29s\n",
      "Computing occupation numbers in momentum space...\n"
     ]
    },
    {
     "data": {
      "application/vnd.jupyter.widget-view+json": {
       "model_id": "f137a2fb33484e9e9a1772486e4ff649",
       "version_major": 2,
       "version_minor": 0
      },
      "text/plain": [
       "  0%|          | 0/1256 [00:00<?, ?it/s]"
      ]
     },
     "metadata": {},
     "output_type": "display_data"
    },
    {
     "name": "stdout",
     "output_type": "stream",
     "text": [
      "Number of modes:  5463\n",
      "10.0%. Run time:  10.46s. Est. time left: 00:00:01:33\n",
      "20.0%. Run time:  20.80s. Est. time left: 00:00:01:23\n",
      "30.0%. Run time:  31.31s. Est. time left: 00:00:01:12\n",
      "40.0%. Run time:  41.67s. Est. time left: 00:00:01:02\n",
      "50.0%. Run time:  52.16s. Est. time left: 00:00:00:52\n",
      "60.0%. Run time:  62.59s. Est. time left: 00:00:00:41\n",
      "70.0%. Run time:  73.20s. Est. time left: 00:00:00:31\n",
      "80.0%. Run time:  83.57s. Est. time left: 00:00:00:20\n",
      "90.0%. Run time:  94.02s. Est. time left: 00:00:00:10\n",
      "100.0%. Run time: 104.41s. Est. time left: 00:00:00:00\n",
      "Total run time: 104.41s\n",
      "Computing occupation numbers in momentum space...\n"
     ]
    },
    {
     "data": {
      "application/vnd.jupyter.widget-view+json": {
       "model_id": "6dfe79eb802d4f398b3436ea3a3626f6",
       "version_major": 2,
       "version_minor": 0
      },
      "text/plain": [
       "  0%|          | 0/1256 [00:00<?, ?it/s]"
      ]
     },
     "metadata": {},
     "output_type": "display_data"
    },
    {
     "name": "stdout",
     "output_type": "stream",
     "text": [
      "Number of modes:  5641\n",
      "10.0%. Run time:  20.84s. Est. time left: 00:00:03:06\n",
      "20.0%. Run time:  61.25s. Est. time left: 00:00:04:04\n",
      "30.0%. Run time: 101.14s. Est. time left: 00:00:03:55\n",
      "40.0%. Run time: 141.59s. Est. time left: 00:00:03:32\n",
      "50.0%. Run time: 204.14s. Est. time left: 00:00:03:23\n",
      "60.0%. Run time: 266.51s. Est. time left: 00:00:02:57\n",
      "70.0%. Run time: 330.44s. Est. time left: 00:00:02:21\n",
      "80.0%. Run time: 392.74s. Est. time left: 00:00:01:38\n",
      "90.0%. Run time: 455.59s. Est. time left: 00:00:00:50\n",
      "100.0%. Run time: 517.77s. Est. time left: 00:00:00:00\n",
      "Total run time: 517.78s\n",
      "Computing occupation numbers in momentum space...\n"
     ]
    },
    {
     "data": {
      "application/vnd.jupyter.widget-view+json": {
       "model_id": "27f8bdf04e7c4cffba5d21f4e687de08",
       "version_major": 2,
       "version_minor": 0
      },
      "text/plain": [
       "  0%|          | 0/1256 [00:00<?, ?it/s]"
      ]
     },
     "metadata": {},
     "output_type": "display_data"
    },
    {
     "name": "stdout",
     "output_type": "stream",
     "text": [
      "Number of modes:  5821\n",
      "10.0%. Run time:  25.74s. Est. time left: 00:00:03:50\n",
      "20.0%. Run time:  68.13s. Est. time left: 00:00:04:32\n",
      "30.0%. Run time: 110.77s. Est. time left: 00:00:04:17\n",
      "40.0%. Run time: 167.93s. Est. time left: 00:00:04:11\n",
      "50.0%. Run time: 237.92s. Est. time left: 00:00:03:57\n",
      "60.0%. Run time: 307.93s. Est. time left: 00:00:03:25\n",
      "70.0%. Run time: 377.81s. Est. time left: 00:00:02:41\n",
      "80.0%. Run time: 444.69s. Est. time left: 00:00:01:51\n",
      "90.0%. Run time: 510.83s. Est. time left: 00:00:00:56\n",
      "100.0%. Run time: 576.91s. Est. time left: 00:00:00:00\n",
      "Total run time: 576.91s\n",
      "Computing occupation numbers in momentum space...\n"
     ]
    },
    {
     "data": {
      "application/vnd.jupyter.widget-view+json": {
       "model_id": "a5996be14799441e827c0abbc62230f1",
       "version_major": 2,
       "version_minor": 0
      },
      "text/plain": [
       "  0%|          | 0/1256 [00:00<?, ?it/s]"
      ]
     },
     "metadata": {},
     "output_type": "display_data"
    },
    {
     "name": "stdout",
     "output_type": "stream",
     "text": [
      "Number of modes:  6001\n",
      "10.0%. Run time:  31.21s. Est. time left: 00:00:04:39\n",
      "20.0%. Run time:  73.06s. Est. time left: 00:00:04:52\n",
      "30.0%. Run time: 126.98s. Est. time left: 00:00:04:55\n",
      "40.0%. Run time: 192.08s. Est. time left: 00:00:04:48\n",
      "50.0%. Run time: 257.65s. Est. time left: 00:00:04:17\n",
      "60.0%. Run time: 323.17s. Est. time left: 00:00:03:35\n",
      "70.0%. Run time: 389.38s. Est. time left: 00:00:02:46\n",
      "80.0%. Run time: 454.55s. Est. time left: 00:00:01:53\n",
      "90.0%. Run time: 520.09s. Est. time left: 00:00:00:57\n",
      "100.0%. Run time: 585.37s. Est. time left: 00:00:00:00\n",
      "Total run time: 585.37s\n",
      "Computing occupation numbers in momentum space...\n"
     ]
    },
    {
     "data": {
      "application/vnd.jupyter.widget-view+json": {
       "model_id": "295563f43b2f4ca48fadf4aa6ec6faeb",
       "version_major": 2,
       "version_minor": 0
      },
      "text/plain": [
       "  0%|          | 0/1256 [00:00<?, ?it/s]"
      ]
     },
     "metadata": {},
     "output_type": "display_data"
    }
   ],
   "source": [
    "L = 80*pi\n",
    "T = L/2\n",
    "dt = 0.1\n",
    "#number of atom\n",
    "n_A = 1\n",
    "x_A = 0\n",
    "\n",
    "#width of the wave packet\n",
    "sigma = L/8\n",
    "x_0 = -L/4\n",
    "\n",
    "\n",
    "#Jaynes-Cummings parameter g_0 and energies (supposed to have perfect reflection)\n",
    "g_0 = 0.1\n",
    "omega_A = 5\n",
    "omega_0 = 4.95 #induce a small detuning\n",
    "\n",
    "nb_freq = 30\n",
    "omega_max_tab = np.linspace(2*omega_A, 15*omega_A, nb_freq)\n",
    "reflection_tab = np.zeros(nb_freq)\n",
    "transmission_tab = np.zeros(nb_freq)\n",
    "\n",
    "\n",
    "for x in tqdm(range(nb_freq)):\n",
    "    omega_max = omega_max_tab[x]\n",
    "    _, k_tab, N_k_t, N_A_t,_  = get_data_mirror(L, T, dt, omega_0, omega_A, omega_max, n_A, g_0, x_A, sigma, x_0, print_nb_modes=True)\n",
    "\n",
    "    n_modes = N_k_t.shape[0]\n",
    "    R_current = 0\n",
    "    T_current = 0\n",
    "    for i in range(n_modes): \n",
    "        if k_tab[i] <= 0:\n",
    "            R_current += N_k_t[i,-1]\n",
    "        else:\n",
    "            T_current += N_k_t[i,-1]\n",
    "    reflection_tab[x] = R_current\n",
    "    transmission_tab[x] = T_current"
   ]
  },
  {
   "cell_type": "code",
   "execution_count": 132,
   "metadata": {},
   "outputs": [
    {
     "data": {
      "image/png": "[encoded data removed]",
      "text/plain": [
       "<Figure size 600x600 with 1 Axes>"
      ]
     },
     "metadata": {},
     "output_type": "display_data"
    }
   ],
   "source": [
    "fig, ax = plt.subplots(1,1, figsize=(3,3), dpi=resol)\n",
    "ax.plot(omega_max_tab, reflection_tab, markersize=3, marker='o', label='Reflection')\n",
    "ax.plot(omega_max_tab, transmission_tab, markersize=3, marker='o', label='Transmission')\n",
    "ax.set_xlabel(r'$\\omega_{max}$')\n",
    "ax.set_ylabel(\"Reflection and transmission\")\n",
    "ax.grid()\n",
    "ax.legend()\n",
    "ax.set_ylim(0, 1)\n",
    "\n",
    "fig.tight_layout()\n",
    "plt.show()"
   ]
  },
  {
   "cell_type": "code",
   "execution_count": null,
   "metadata": {},
   "outputs": [],
   "source": []
  }
 ],
 "metadata": {
  "kernelspec": {
   "display_name": "Python 3",
   "language": "python",
   "name": "python3"
  },
  "language_info": {
   "codemirror_mode": {
    "name": "ipython",
    "version": 3
   },
   "file_extension": ".py",
   "mimetype": "text/x-python",
   "name": "python",
   "nbconvert_exporter": "python",
   "pygments_lexer": "ipython3",
   "version": "3.12.0"
  }
 },
 "nbformat": 4,
 "nbformat_minor": 2
}
