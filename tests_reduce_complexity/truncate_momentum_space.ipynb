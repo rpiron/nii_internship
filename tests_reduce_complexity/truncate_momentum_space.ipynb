{
 "cells": [
  {
   "cell_type": "code",
   "execution_count": 1,
   "metadata": {},
   "outputs": [
    {
     "data": {
      "text/html": [
       "<table><tr><th>Software</th><th>Version</th></tr><tr><td>QuTiP</td><td>5.1.1</td></tr><tr><td>Numpy</td><td>1.26.2</td></tr><tr><td>SciPy</td><td>1.11.3</td></tr><tr><td>matplotlib</td><td>3.7.3</td></tr><tr><td>Number of CPUs</td><td>11</td></tr><tr><td>BLAS Info</td><td>Generic</td></tr><tr><td>IPython</td><td>8.17.2</td></tr><tr><td>Python</td><td>3.12.0 (v3.12.0:0fb18b02c8, Oct  2 2023, 09:45:56) [Clang 13.0.0 (clang-1300.0.29.30)]</td></tr><tr><td>OS</td><td>posix [darwin]</td></tr><tr><td>Cython</td><td>3.0.11</td></tr><tr><td colspan='2'>Wed Jul 16 15:27:13 2025 CEST</td></tr></table>"
      ],
      "text/plain": [
       "<IPython.core.display.HTML object>"
      ]
     },
     "execution_count": 1,
     "metadata": {},
     "output_type": "execute_result"
    }
   ],
   "source": [
    "import qutip as qt\n",
    "import numpy as np\n",
    "import matplotlib.pyplot as plt\n",
    "from qutip.ipynbtools import version_table\n",
    "from tqdm.notebook import tqdm\n",
    "from matplotlib.animation import FuncAnimation\n",
    "from scipy.linalg import expm\n",
    "import pandas as pd\n",
    "\n",
    "resol = 200\n",
    "pi = np.pi\n",
    "version_table()"
   ]
  },
  {
   "cell_type": "markdown",
   "metadata": {},
   "source": [
    "<h1> Model </h1>\n",
    "\n",
    "I consider the scattering of only one photon towards a 2-level atom. Also, I assume that several atoms might be in the waveguide (to play the role of a mirror for instance). I work in the subspace :\n",
    "\n",
    "$$ \\ket{1,0}, \\ket{0,1} $$\n",
    "\n",
    "And the Hamiltonian is given by: \n",
    "\n",
    "$$ H = \\sum_k \\omega_k a_k^{\\dagger} a_k + \\frac{1}{2} \\sum_j \\Omega_j (1 + \\sigma_j^z) + \\sum_{k,j}\\left\\{g(k,j) \\sigma^+ a_k + \\text{h.c} \\right\\} $$\n",
    "\n",
    "with $g(k,j) = i g_0 \\sqrt{\\omega_k} e^{ikx_j}$"
   ]
  },
  {
   "cell_type": "markdown",
   "metadata": {},
   "source": [
    "<h1> Conduct time evolution </h1>"
   ]
  },
  {
   "cell_type": "code",
   "execution_count": 15,
   "metadata": {},
   "outputs": [],
   "source": [
    "def get_data_mirror(L, T, dt, omega_0, omega_A, omega_max, n_modes_trunc, g_0, sigma, x_0, use_WW_approx = True, print_nb_modes = False):\n",
    "    #quantization of the modes\n",
    "    omega_tab_p = np.array([2*pi*n/L for n in range(1000000) if 2*pi*n/L <= omega_max])\n",
    "    k_tab = np.sort(np.unique(np.concatenate((-omega_tab_p, omega_tab_p))))\n",
    "    \n",
    "    #take a regular subset of the modes\n",
    "    if n_modes_trunc > 0 and n_modes_trunc < len(k_tab):\n",
    "        print(\"Truncating the momentum space to \", n_modes_trunc, \" modes\")\n",
    "        k_tab = k_tab[::int(len(k_tab)/n_modes_trunc)]  \n",
    "\n",
    "    omega_tab = np.abs(k_tab)\n",
    "    n_modes = len(k_tab)\n",
    "    if print_nb_modes:\n",
    "        print(\"Number of modes: \", n_modes)\n",
    "\n",
    "    #Creation of the Hamiltonian\n",
    "    dim_subspace = n_modes + 1\n",
    "    H_matrix = np.zeros((dim_subspace, dim_subspace), dtype=complex)\n",
    "\n",
    "    print(\"Preparing the Hamiltonian ...\")\n",
    "    ##diagonal elements\n",
    "    for i in range(n_modes):\n",
    "        H_matrix[i, i] = omega_tab[i]\n",
    "    \n",
    "        if use_WW_approx:\n",
    "        ##off diagonal elements\n",
    "            H_matrix[n_modes, i] = g_0*np.sqrt(omega_A / L)*1j\n",
    "        else:\n",
    "            H_matrix[n_modes, i] = g_0*np.sqrt(omega_tab[i] / L)*1j\n",
    "\n",
    "        H_matrix[i,n_modes] = np.conjugate(H_matrix[n_modes,i])\n",
    "    \n",
    "    H_matrix[n_modes, n_modes] = omega_A\n",
    "\n",
    "    H = qt.Qobj(H_matrix)\n",
    "    #hermicity check\n",
    "    if not H.isherm:\n",
    "        print(\"Hermicity of the Hamiltonian: \", H.isherm)\n",
    "        return None\n",
    "    \n",
    "    #also obtain the free hamiltonian\n",
    "    H_free = qt.Qobj(np.diag(np.diag(H_matrix)))\n",
    "\n",
    "    print(\"Initializing the state ...\")\n",
    "    ##Initial state\n",
    "    k_bar = k_tab[np.argmin(np.abs(k_tab - omega_0))]\n",
    "    x_bar = x_0\n",
    "\n",
    "    init_state = 0\n",
    "    for i in range(n_modes): ##only the modes with positive momentum are excited at the beginning\n",
    "        coef = np.exp(-0.5*sigma**2*(k_tab[i] - k_bar)**2 -1j * k_tab[i] * x_bar)\n",
    "        init_state += coef * qt.basis(dim_subspace, i)\n",
    "    init_state = init_state.unit()\n",
    "    \n",
    "    print(\"Launching the time evolution ...\")\n",
    "    #time evolution\n",
    "    n_step = int(T/dt)\n",
    "    times = np.linspace(0, T, n_step)\n",
    "    result = qt.sesolve(H, init_state, times, options={\"nsteps\":10000, \"progress_bar\": True, \"store_states\": True})\n",
    "    state_list = result.states\n",
    "\n",
    "    #also get the free evolution of the initial state\n",
    "    result_free = qt.sesolve(H_free, init_state, times, options={\"nsteps\":10000, \"store_states\": True})\n",
    "    state_list_free = result_free.states\n",
    "    \n",
    "    #Extracting the populations of the modes and the atom\n",
    "    N_k_t = np.zeros((n_modes, n_step))\n",
    "    N_A_t = np.zeros(n_step)\n",
    "    overlap_free_evol = np.zeros(n_step)\n",
    "\n",
    "\n",
    "    print(\"Computing occupation numbers in momentum space...\")\n",
    "    for t in tqdm(range(n_step)):\n",
    "        current_state = state_list[t]\n",
    "\n",
    "        for i in range(n_modes):\n",
    "            momentum_state = qt.basis(dim_subspace, i)\n",
    "            N_k_t[i, t] = np.abs(momentum_state.dag() * current_state)**2\n",
    "\n",
    "        atomic_state = qt.basis(dim_subspace, n_modes)\n",
    "        N_A_t[t] += np.abs(atomic_state.dag() * current_state)**2\n",
    "        \n",
    "        overlap_free_evol[t] = np.abs(state_list_free[t].dag() * current_state)**2\n",
    "\n",
    "    return times, k_tab, N_k_t, N_A_t, overlap_free_evol"
   ]
  },
  {
   "cell_type": "markdown",
   "metadata": {},
   "source": [
    "<h1> First test </h1>\n",
    "\n",
    "Check the parameters first"
   ]
  },
  {
   "cell_type": "code",
   "execution_count": 16,
   "metadata": {},
   "outputs": [
    {
     "name": "stdout",
     "output_type": "stream",
     "text": [
      "Coupling g(k,j):  0.006180387232371035\n",
      "sigma_momentum:  0.020371832715762605\n",
      "Decay rate gamma:  0.06000000000000001\n"
     ]
    }
   ],
   "source": [
    "L = 250*pi\n",
    "T = L/2\n",
    "dt = 0.1\n",
    "\n",
    "#Jaynes-Cummings parameter g_0 and energies \n",
    "g_0 = 0.1\n",
    "omega_A = 3\n",
    "gamma = 2*g_0**2*omega_A\n",
    "\n",
    "#initial photon wavepacket parameters\n",
    "sigma = L/16\n",
    "sigma_momentum = 1/sigma\n",
    "x_0 = -L/4\n",
    "omega_0 = omega_A - 0.1\n",
    "\n",
    "#numerical implementation of momentum space\n",
    "omega_max = 10\n",
    "n_modes_trunc = 100000\n",
    "\n",
    "print(\"Coupling g(k,j): \", g_0*np.sqrt(omega_A / L))\n",
    "print(\"sigma_momentum: \", sigma_momentum)\n",
    "print(\"Decay rate gamma: \", gamma)\n"
   ]
  },
  {
   "cell_type": "markdown",
   "metadata": {},
   "source": [
    "Now, run the function"
   ]
  },
  {
   "cell_type": "code",
   "execution_count": 17,
   "metadata": {},
   "outputs": [
    {
     "name": "stdout",
     "output_type": "stream",
     "text": [
      "Number of modes:  2501\n",
      "Preparing the Hamiltonian ...\n",
      "Initializing the state ...\n",
      "Launching the time evolution ...\n",
      "10.0%. Run time:   2.44s. Est. time left: 00:00:00:21\n",
      "20.0%. Run time:   4.68s. Est. time left: 00:00:00:18\n",
      "30.0%. Run time:   6.97s. Est. time left: 00:00:00:16\n",
      "40.0%. Run time:   9.30s. Est. time left: 00:00:00:13\n",
      "50.0%. Run time:  11.55s. Est. time left: 00:00:00:11\n",
      "60.0%. Run time:  14.31s. Est. time left: 00:00:00:09\n",
      "70.0%. Run time:  16.68s. Est. time left: 00:00:00:07\n",
      "80.0%. Run time:  19.20s. Est. time left: 00:00:00:04\n",
      "90.0%. Run time:  21.74s. Est. time left: 00:00:00:02\n",
      "100.0%. Run time:  24.00s. Est. time left: 00:00:00:00\n",
      "Total run time:  24.00s\n",
      "Computing occupation numbers in momentum space...\n"
     ]
    },
    {
     "data": {
      "application/vnd.jupyter.widget-view+json": {
       "model_id": "f61d7159d0fa4384a33dcef70af0fee9",
       "version_major": 2,
       "version_minor": 0
      },
      "text/plain": [
       "  0%|          | 0/3926 [00:00<?, ?it/s]"
      ]
     },
     "metadata": {},
     "output_type": "display_data"
    }
   ],
   "source": [
    "times, k_tab, N_k_t, N_A_t, overlap_free_evol = get_data_mirror(L, T, dt, omega_0, omega_A, omega_max, n_modes_trunc, g_0, sigma, x_0, print_nb_modes = True)"
   ]
  },
  {
   "cell_type": "markdown",
   "metadata": {},
   "source": [
    "<h1> R and T coefficients </h1>\n",
    "\n",
    "Try to define reflection and transmission cofficients ? Let me define:\n",
    "\n",
    "$N_k = a_k^{\\dagger} a_k$ and $N_x = a_x^{\\dagger} a_x$ where :\n",
    "\n",
    "$$a_x = \\frac{1}{\\sqrt{N}} \\sum_k e^{ikx} a_k$$\n",
    "\n",
    "I can define : \n",
    "\n",
    "$$P_-(t) = \\sum_{k < 0} N_k \\,\\, , \\,\\, P_+(t) = \\sum_{k > 0} N_k $$\n",
    "\n",
    "It is also interesting to check that the atomic number remains close to zero :\n",
    "\n",
    "$$ N_A = \\sum_j \\left(\\frac{1+\\sigma_j^z}{2}\\right)$$\n",
    "\n",
    "The transmission coefficient is $T = P_+(\\infty)$ and the reflection is $R = P_-(\\infty)$"
   ]
  },
  {
   "cell_type": "code",
   "execution_count": 18,
   "metadata": {},
   "outputs": [
    {
     "name": "stdout",
     "output_type": "stream",
     "text": [
      "Results from summation per modes\n",
      "T =  0.9047618521040918\n",
      "R =  0.09523814449768328\n",
      "Final occupation of the atom =  3.3982233524181472e-09\n",
      "---------------------------------------------------------\n",
      "Results from overlap\n",
      "T =  0.9026060114229073\n",
      "R =  0.09739398517886934\n",
      "Final occupation of the atom =  3.3982233524181472e-09\n"
     ]
    },
    {
     "data": {
      "image/png": "[encoded data removed]",
      "text/plain": [
       "<Figure size 600x600 with 1 Axes>"
      ]
     },
     "metadata": {},
     "output_type": "display_data"
    }
   ],
   "source": [
    "n_modes = N_k_t.shape[0]\n",
    "\n",
    "nb_pts = len(times)\n",
    "P_p = np.zeros(nb_pts)\n",
    "P_m = np.zeros(nb_pts)\n",
    "\n",
    "for t in range(nb_pts):\n",
    "    for i in range(n_modes): \n",
    "        if k_tab[i] > 0:\n",
    "            P_p[t] += N_k_t[i,t]\n",
    "        else:\n",
    "            P_m[t] += N_k_t[i,t]\n",
    "\n",
    "\n",
    "print(\"Results from summation per modes\")\n",
    "print(\"T = \", P_p[-1])\n",
    "print(\"R = \", P_m[-1])\n",
    "print(\"Final occupation of the atom = \", N_A_t[-1])\n",
    "print(\"---------------------------------------------------------\")\n",
    "print(\"Results from overlap\")\n",
    "print(\"T = \", overlap_free_evol[-1])\n",
    "print(\"R = \", 1- overlap_free_evol[-1]- N_A_t[-1])\n",
    "print(\"Final occupation of the atom = \", N_A_t[-1]) \n",
    "\n",
    "\n",
    "fig, ax = plt.subplots(1,1, figsize=(3,3), dpi=resol)\n",
    "ax.plot(times, P_p, label=r'$P_+(t)$')\n",
    "ax.plot(times, P_m, label=r'$P_-(t)$')\n",
    "#ax.plot(times, P_p+P_m, label=r'$P_+ + P_-$', linestyle='--', alpha=0.5) \n",
    "ax.plot(times, N_A_t, label='Atom', linestyle='--', color='red')   \n",
    "ax.plot(times, overlap_free_evol, label='Overlap free evolution', linestyle=':', color='green')\n",
    "ax.set_xlabel('Time')\n",
    "ax.set_ylabel('Probability')\n",
    "ax.legend()\n",
    "ax.grid()\n",
    "\n",
    "plt.show()"
   ]
  }
 ],
 "metadata": {
  "kernelspec": {
   "display_name": "Python 3",
   "language": "python",
   "name": "python3"
  },
  "language_info": {
   "codemirror_mode": {
    "name": "ipython",
    "version": 3
   },
   "file_extension": ".py",
   "mimetype": "text/x-python",
   "name": "python",
   "nbconvert_exporter": "python",
   "pygments_lexer": "ipython3",
   "version": "3.12.0"
  }
 },
 "nbformat": 4,
 "nbformat_minor": 2
}
